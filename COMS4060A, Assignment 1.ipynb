{
 "cells": [
  {
   "cell_type": "markdown",
   "metadata": {
    "cell_id": "3af8f0a1ac4842abb8096be892e55b43",
    "deepnote_cell_type": "text-cell-h2",
    "is_collapsed": false,
    "tags": []
   },
   "source": [
    "## Data Visualisation and Exploration, COMS4060A."
   ]
  },
  {
   "cell_type": "markdown",
   "metadata": {
    "cell_id": "3d56c8d985984e42a709bcfd22decfa4",
    "deepnote_cell_type": "text-cell-h3",
    "is_collapsed": false,
    "tags": []
   },
   "source": [
    "### Assignment 1."
   ]
  },
  {
   "cell_type": "markdown",
   "metadata": {
    "cell_id": "ba5b5c2894314a9588957405123a561b",
    "deepnote_cell_height": 600.1875,
    "deepnote_cell_type": "markdown",
    "is_collapsed": false,
    "tags": []
   },
   "source": [
    "### Overview\n",
    "\n",
    "This is a report for a task to perform some basic data cleaning and exploration techniques on the logbook dataset that was obtained from a company that provides a service for users to keep a logbook of their fuel usage - when and where they fill up, how\n",
    "much the fill up etc. The logbook also allows users to capture car services and repairs. The main goal was to explore the dataset and make orbservations.\n",
    "\n",
    " The dataset has\n",
    "been scraped from their website and it is messy. So, it sifficed that we were critical of the data, questioned our findings, and in-depth investigated the data.\n",
    "\n",
    "We used graphs and descriptive statistics to provide insights into the contents of the data.\n",
    "\n",
    " Nominally, the dataset has the following features:\n",
    " - date_fueled: The date that the user refueled their vehicle (usually in the format DD mmm YYYY).\n",
    " - date_captured: The date that the user entered the information (usually in the format DD mmm\n",
    "YYYY).\n",
    " - user_url: The URL for the user that captured this information.\n",
    " - odometer: The odometer reading at the time of refueling.\n",
    " - gallons: How many gallons they refueled with.\n",
    " - cost_per_gallon: The cost per gallon in the local currency\n",
    " - total_spent: The total amount spent in the local currency\n",
    " - mpg: The computed fuel efficiency in miles per gallon (MPG).\n",
    " - miles: The number of miles driven on this tank of fuel.\n"
   ]
  },
  {
   "cell_type": "markdown",
   "metadata": {
    "cell_id": "e55ffd9f-8db0-4174-9665-4caf3ccfc8a1",
    "deepnote_cell_height": 122.796875,
    "deepnote_cell_type": "markdown",
    "deepnote_to_be_reexecuted": false,
    "execution_millis": 0,
    "execution_start": 1651229755242,
    "source_hash": "957fdc47",
    "tags": []
   },
   "source": [
    "###  Getting Ready:\n",
    "In this section we are going to import all the libraries that we have deemed neccessary for implementation of this assignnment. We are also going to read the data we are going to be exploring and investigating. \n",
    "\n"
   ]
  },
  {
   "cell_type": "code",
   "execution_count": 1,
   "metadata": {
    "cell_id": "184e056f5a184759b36b1697894fcb9d",
    "deepnote_cell_height": 459,
    "deepnote_cell_type": "code",
    "deepnote_to_be_reexecuted": false,
    "execution_millis": 3433,
    "execution_start": 1652632282219,
    "source_hash": "2ea82bbb",
    "tags": []
   },
   "outputs": [],
   "source": [
    "#!pip install missingno this pip installs the missngo package\n",
    "#!pip install mlxtend this installs the mlxtend package\n",
    "#All the libraries neccesary for the assignment\n",
    "import pandas as pd\n",
    "pd.options.mode.chained_assignment = None\n",
    "import numpy as np\n",
    "import matplotlib.pyplot as plt\n",
    "from scipy.stats import norm\n",
    "import seaborn as sns\n",
    "import missingno  \n",
    "from sklearn.model_selection import train_test_split\n",
    "\n",
    "from sklearn.datasets import load_boston, load_wine, load_breast_cancer\n",
    "from sklearn.datasets import fetch_california_housing\n",
    "from mlxtend.feature_selection import SequentialFeatureSelector\n",
    "from sklearn.linear_model import LinearRegression,LogisticRegression\n",
    "from sklearn.multiclass import OneVsRestClassifier\n",
    "from sklearn.linear_model import LogisticRegression\n",
    "from sklearn.feature_selection import SelectFromModel, SelectKBest\n",
    "from sklearn.ensemble import RandomForestRegressor, RandomForestClassifier\n",
    "from sklearn.feature_selection import mutual_info_regression, f_regression\n",
    "from sklearn.feature_selection import mutual_info_classif, f_classif"
   ]
  },
  {
   "cell_type": "code",
   "execution_count": 2,
   "metadata": {
    "cell_id": "dff77eebf3924165b0333f20f8f8e92a",
    "deepnote_cell_height": 554.59375,
    "deepnote_cell_type": "code",
    "deepnote_table_loading": false,
    "deepnote_table_state": {
     "filters": [],
     "pageIndex": 0,
     "pageSize": 50,
     "sortBy": []
    },
    "deepnote_to_be_reexecuted": false,
    "execution_millis": 5455,
    "execution_start": 1652632285666,
    "source_hash": "99a27558",
    "tags": []
   },
   "outputs": [
    {
     "name": "stderr",
     "output_type": "stream",
     "text": [
      "C:\\Users\\rmnev\\AppData\\Local\\Temp\\ipykernel_17008\\3636165530.py:4: DtypeWarning: Columns (3,6) have mixed types. Specify dtype option on import or set low_memory=False.\n",
      "  raw_data = pd.read_csv('logbook_assignment1.csv')\n"
     ]
    },
    {
     "data": {
      "text/html": [
       "<div>\n",
       "<style scoped>\n",
       "    .dataframe tbody tr th:only-of-type {\n",
       "        vertical-align: middle;\n",
       "    }\n",
       "\n",
       "    .dataframe tbody tr th {\n",
       "        vertical-align: top;\n",
       "    }\n",
       "\n",
       "    .dataframe thead th {\n",
       "        text-align: right;\n",
       "    }\n",
       "</style>\n",
       "<table border=\"1\" class=\"dataframe\">\n",
       "  <thead>\n",
       "    <tr style=\"text-align: right;\">\n",
       "      <th></th>\n",
       "      <th>date_fueled</th>\n",
       "      <th>date_captured</th>\n",
       "      <th>odometer</th>\n",
       "      <th>gallons</th>\n",
       "      <th>cost_per_gallon</th>\n",
       "      <th>total_spent</th>\n",
       "      <th>mpg</th>\n",
       "      <th>miles</th>\n",
       "      <th>user_url</th>\n",
       "    </tr>\n",
       "  </thead>\n",
       "  <tbody>\n",
       "    <tr>\n",
       "      <th>0</th>\n",
       "      <td>Cooling System, Heating System, Lights, Spark ...</td>\n",
       "      <td>Apr 7 2022</td>\n",
       "      <td>73,370</td>\n",
       "      <td>NaN</td>\n",
       "      <td>NaN</td>\n",
       "      <td>NaN</td>\n",
       "      <td>NaN</td>\n",
       "      <td>NaN</td>\n",
       "      <td>https://www.somewebsite.com/suzuki/swift/2015/...</td>\n",
       "    </tr>\n",
       "    <tr>\n",
       "      <th>1</th>\n",
       "      <td>Nov 7 2012</td>\n",
       "      <td>Aug 30 2016</td>\n",
       "      <td>11,983</td>\n",
       "      <td>12.120</td>\n",
       "      <td>$5.599</td>\n",
       "      <td>$67.86</td>\n",
       "      <td>31.6</td>\n",
       "      <td>NaN</td>\n",
       "      <td>https://www.somewebsite.com/bmw/x3/2009/461150</td>\n",
       "    </tr>\n",
       "    <tr>\n",
       "      <th>2</th>\n",
       "      <td>Sep 22 2012</td>\n",
       "      <td>Sep 28 2012</td>\n",
       "      <td>98,233</td>\n",
       "      <td>7.991</td>\n",
       "      <td>£5.45</td>\n",
       "      <td>£43.53</td>\n",
       "      <td>28.5</td>\n",
       "      <td>NaN</td>\n",
       "      <td>https://www.somewebsite.com/mercedes-benz/e300...</td>\n",
       "    </tr>\n",
       "    <tr>\n",
       "      <th>3</th>\n",
       "      <td>May 4 2019</td>\n",
       "      <td>May 4 2019</td>\n",
       "      <td>163,802</td>\n",
       "      <td>10.575</td>\n",
       "      <td>£5.11</td>\n",
       "      <td>£54.00</td>\n",
       "      <td>46.8</td>\n",
       "      <td>NaN</td>\n",
       "      <td>https://www.somewebsite.com/bmw/320d/2010/247233</td>\n",
       "    </tr>\n",
       "    <tr>\n",
       "      <th>4</th>\n",
       "      <td>Feb 15 2022</td>\n",
       "      <td>Feb 15 2022</td>\n",
       "      <td>NaN</td>\n",
       "      <td>11.651</td>\n",
       "      <td>$3.029</td>\n",
       "      <td>$35.29</td>\n",
       "      <td>21.0</td>\n",
       "      <td>244.4</td>\n",
       "      <td>https://www.somewebsite.com/honda/passport/201...</td>\n",
       "    </tr>\n",
       "  </tbody>\n",
       "</table>\n",
       "</div>"
      ],
      "text/plain": [
       "                                         date_fueled date_captured  odometer  \\\n",
       "0  Cooling System, Heating System, Lights, Spark ...    Apr 7 2022   73,370    \n",
       "1                                         Nov 7 2012   Aug 30 2016   11,983    \n",
       "2                                        Sep 22 2012   Sep 28 2012   98,233    \n",
       "3                                         May 4 2019    May 4 2019  163,802    \n",
       "4                                        Feb 15 2022   Feb 15 2022       NaN   \n",
       "\n",
       "  gallons cost_per_gallon total_spent   mpg    miles  \\\n",
       "0     NaN             NaN         NaN   NaN      NaN   \n",
       "1  12.120          $5.599      $67.86  31.6      NaN   \n",
       "2   7.991           £5.45      £43.53  28.5      NaN   \n",
       "3  10.575           £5.11      £54.00  46.8      NaN   \n",
       "4  11.651          $3.029      $35.29  21.0   244.4    \n",
       "\n",
       "                                            user_url  \n",
       "0  https://www.somewebsite.com/suzuki/swift/2015/...  \n",
       "1     https://www.somewebsite.com/bmw/x3/2009/461150  \n",
       "2  https://www.somewebsite.com/mercedes-benz/e300...  \n",
       "3   https://www.somewebsite.com/bmw/320d/2010/247233  \n",
       "4  https://www.somewebsite.com/honda/passport/201...  "
      ]
     },
     "execution_count": 2,
     "metadata": {},
     "output_type": "execute_result"
    }
   ],
   "source": [
    "#upload the dataset in question\n",
    "#print a sample of the data (head)\n",
    "\n",
    "raw_data = pd.read_csv('logbook_assignment1.csv')\n",
    "raw_data.head()"
   ]
  },
  {
   "cell_type": "markdown",
   "metadata": {
    "cell_id": "f69bea8d85264bb6b5864d45e0f4a512",
    "deepnote_cell_height": 321.59375,
    "deepnote_cell_type": "markdown",
    "deepnote_to_be_reexecuted": false,
    "execution_millis": 0,
    "execution_start": 1651229813489,
    "source_hash": "8ff4ecd5",
    "tags": []
   },
   "source": [
    "### Preprocessing\n",
    "Preprocessing in the context of this assignment means first few steps that we took before doing the intended job. That is understanding the attributes in the data- defining variables referencing their domain, calculating some basic descriptive stats to briefly describe the data. \n",
    "\n",
    "The dataset is a CSV file, meaning that this is a structured data. There are 6 numeric vatiables and 3 categoral variables. \n",
    "\n",
    "In this step, there was no variable that we identified to be out of scope, all variables seemed to be named with accordance to the domain.\n",
    "\n",
    "We used pandas to quickly get an overview of our data through the use of the df.describe fuction. See the code and the output below:"
   ]
  },
  {
   "cell_type": "code",
   "execution_count": 3,
   "metadata": {
    "cell_id": "b3fc4dae15834bc5a78d8157cbc5afed",
    "deepnote_cell_height": 370.796875,
    "deepnote_cell_type": "code",
    "deepnote_table_loading": false,
    "deepnote_table_state": {
     "filters": [],
     "pageIndex": 0,
     "pageSize": 25,
     "sortBy": []
    },
    "deepnote_to_be_reexecuted": false,
    "execution_millis": 4477,
    "execution_start": 1652632290676,
    "source_hash": "32b95b45",
    "tags": []
   },
   "outputs": [
    {
     "data": {
      "text/html": [
       "<div>\n",
       "<style scoped>\n",
       "    .dataframe tbody tr th:only-of-type {\n",
       "        vertical-align: middle;\n",
       "    }\n",
       "\n",
       "    .dataframe tbody tr th {\n",
       "        vertical-align: top;\n",
       "    }\n",
       "\n",
       "    .dataframe thead th {\n",
       "        text-align: right;\n",
       "    }\n",
       "</style>\n",
       "<table border=\"1\" class=\"dataframe\">\n",
       "  <thead>\n",
       "    <tr style=\"text-align: right;\">\n",
       "      <th></th>\n",
       "      <th>date_fueled</th>\n",
       "      <th>date_captured</th>\n",
       "      <th>odometer</th>\n",
       "      <th>gallons</th>\n",
       "      <th>cost_per_gallon</th>\n",
       "      <th>total_spent</th>\n",
       "      <th>mpg</th>\n",
       "      <th>miles</th>\n",
       "      <th>user_url</th>\n",
       "    </tr>\n",
       "  </thead>\n",
       "  <tbody>\n",
       "    <tr>\n",
       "      <th>count</th>\n",
       "      <td>1125700</td>\n",
       "      <td>1174870</td>\n",
       "      <td>1025716</td>\n",
       "      <td>1100660</td>\n",
       "      <td>1094110</td>\n",
       "      <td>1100660</td>\n",
       "      <td>1100660.0</td>\n",
       "      <td>146274</td>\n",
       "      <td>1174870</td>\n",
       "    </tr>\n",
       "    <tr>\n",
       "      <th>unique</th>\n",
       "      <td>69687</td>\n",
       "      <td>5000</td>\n",
       "      <td>261377</td>\n",
       "      <td>56817</td>\n",
       "      <td>52785</td>\n",
       "      <td>190040</td>\n",
       "      <td>3903.0</td>\n",
       "      <td>9080</td>\n",
       "      <td>120232</td>\n",
       "    </tr>\n",
       "    <tr>\n",
       "      <th>top</th>\n",
       "      <td>Apr 9 2022</td>\n",
       "      <td>Aug 31 2016</td>\n",
       "      <td>1</td>\n",
       "      <td>10.567</td>\n",
       "      <td>$2.999</td>\n",
       "      <td>$0.00</td>\n",
       "      <td>0.0</td>\n",
       "      <td>300.0</td>\n",
       "      <td>https://www.somewebsite.com/jeep/wrangler/2007...</td>\n",
       "    </tr>\n",
       "    <tr>\n",
       "      <th>freq</th>\n",
       "      <td>2375</td>\n",
       "      <td>4346</td>\n",
       "      <td>158</td>\n",
       "      <td>1852</td>\n",
       "      <td>14698</td>\n",
       "      <td>6216</td>\n",
       "      <td>115805.0</td>\n",
       "      <td>283</td>\n",
       "      <td>29</td>\n",
       "    </tr>\n",
       "  </tbody>\n",
       "</table>\n",
       "</div>"
      ],
      "text/plain": [
       "       date_fueled date_captured odometer  gallons cost_per_gallon  \\\n",
       "count      1125700       1174870  1025716  1100660         1094110   \n",
       "unique       69687          5000   261377    56817           52785   \n",
       "top     Apr 9 2022   Aug 31 2016       1    10.567          $2.999   \n",
       "freq          2375          4346      158     1852           14698   \n",
       "\n",
       "       total_spent        mpg    miles  \\\n",
       "count      1100660  1100660.0   146274   \n",
       "unique      190040     3903.0     9080   \n",
       "top          $0.00        0.0   300.0    \n",
       "freq          6216   115805.0      283   \n",
       "\n",
       "                                                 user_url  \n",
       "count                                             1174870  \n",
       "unique                                             120232  \n",
       "top     https://www.somewebsite.com/jeep/wrangler/2007...  \n",
       "freq                                                   29  "
      ]
     },
     "execution_count": 3,
     "metadata": {},
     "output_type": "execute_result"
    }
   ],
   "source": [
    "raw_data.describe()"
   ]
  },
  {
   "cell_type": "markdown",
   "metadata": {
    "cell_id": "aab6f98fd9374deb82f6782ebd347b67",
    "deepnote_cell_height": 363.1875,
    "deepnote_cell_type": "markdown",
    "tags": []
   },
   "source": [
    "The results above are a quick overview of the data we obtained using librabries. The count let us know of the number of entries per feature. Since the count values are not equal this simply implies that there are columns that contains null entries. Using user_url as the primary identifier, we would say the expected entries for all of the columns should be 1174870 but in other columns like miles there are way less entries. Meaning the miles feature has more missing values than any of the features.\n",
    "\n",
    "The unique attribute reveals entries that are unique in each column in the data. An important detail that this gave us was that this data was actually gathered from about 12000 users. This might help us dimentionality reduction and in better understanding the dataset. \n",
    "\n",
    "The freq help us get the count of the entries(values) that appear more than others. We saw that there were about 29 users who were frequnt...\n",
    "\n",
    "\n",
    "The last part to understand before we dig deep into the fun stuff is to know the data type for each feature. Below, we used the df.info() function to help us get that informations. The dataset has 9 columns with 1174870 entries with all Dtype of object."
   ]
  },
  {
   "cell_type": "markdown",
   "metadata": {
    "cell_id": "d665a94f7a314266883cf84b1facfcf4",
    "deepnote_cell_height": 70,
    "deepnote_cell_type": "markdown",
    "tags": []
   },
   "source": [
    "## 1.1 Date Fields"
   ]
  },
  {
   "cell_type": "markdown",
   "metadata": {
    "cell_id": "9d596a7122b84bdd8af15a4d7785a88a",
    "deepnote_cell_height": 217.796875,
    "deepnote_cell_type": "markdown",
    "tags": []
   },
   "source": [
    "1. Date fields contain a date data type in a form of dd/mm/yyyy for the sake of this assignment. As it can be seen from the above df.describe method that the date_fueled has entries that are less that the total entries in the dataset. This implies that there are entries in this feature that are either missing or incorrect. We calculated the percentage of date_fueled for entries that are not proper dates to know how much entries are incorrect.   \n",
    "\n",
    "    So, we want to know in general, how many date_fueled entries that were faulty in the beginning. As per the code below, there were about 4.18% of date that were not proper. \n",
    "\n"
   ]
  },
  {
   "cell_type": "code",
   "execution_count": 4,
   "metadata": {
    "cell_id": "99f1adc70aba4b30925507f1e1806ed7",
    "deepnote_cell_height": 291,
    "deepnote_cell_type": "code",
    "deepnote_output_heights": [
     194
    ],
    "deepnote_to_be_reexecuted": false,
    "execution_millis": 22,
    "execution_start": 1652632295622,
    "source_hash": "abe731e4",
    "tags": []
   },
   "outputs": [
    {
     "data": {
      "text/plain": [
       "date_fueled         4.185144\n",
       "date_captured       0.000000\n",
       "odometer           12.695362\n",
       "gallons             6.316444\n",
       "cost_per_gallon     6.873952\n",
       "total_spent         6.316444\n",
       "mpg                 6.316444\n",
       "miles              87.549771\n",
       "user_url            0.000000\n",
       "dtype: float64"
      ]
     },
     "execution_count": 4,
     "metadata": {},
     "output_type": "execute_result"
    }
   ],
   "source": [
    "raw_data.isnull().sum()/len(raw_data) * 100"
   ]
  },
  {
   "cell_type": "markdown",
   "metadata": {
    "cell_id": "55c73310433e46c79f63ea4403463c2f",
    "deepnote_cell_height": 136.59375,
    "deepnote_cell_type": "markdown",
    "tags": []
   },
   "source": [
    "2. Next, for date_fueled that was not entered correctly or is not a date (that is, there is a value but not really a date format that we know), we used date_captured value as a proxy. (Continuing from the previous step, we want to have easy readability and consistency within columns and their attributes. To help our exploration and analysis become more effective:)\n",
    "\n"
   ]
  },
  {
   "cell_type": "code",
   "execution_count": 5,
   "metadata": {
    "cell_id": "5fa70f8e1572412fa855c70b5bb025aa",
    "deepnote_cell_height": 154.796875,
    "deepnote_cell_type": "code",
    "deepnote_to_be_reexecuted": false,
    "execution_millis": 223337,
    "execution_start": 1652632295645,
    "source_hash": "55bf9223",
    "tags": []
   },
   "outputs": [
    {
     "name": "stderr",
     "output_type": "stream",
     "text": [
      "C:\\Users\\rmnev\\anaconda3\\lib\\site-packages\\dateutil\\parser\\_parser.py:1207: UnknownTimezoneWarning: tzname H identified but not understood.  Pass `tzinfos` argument in order to correctly return a timezone-aware datetime.  In a future version, this will raise an exception.\n",
      "  warnings.warn(\"tzname {tzname} identified but not understood.  \"\n"
     ]
    }
   ],
   "source": [
    "#Here we convert the column to a date format, setting any invalid date fueled entries to NaT\n",
    "raw_data['date_fueled'] = pd.to_datetime(raw_data['date_fueled'], errors='coerce')"
   ]
  },
  {
   "cell_type": "code",
   "execution_count": 6,
   "metadata": {
    "cell_id": "3b8fa35ea34848cf8d7452a383848539",
    "deepnote_cell_height": 411.796875,
    "deepnote_cell_type": "code",
    "deepnote_table_loading": false,
    "deepnote_table_state": {
     "filters": [],
     "pageIndex": 0,
     "pageSize": 10,
     "sortBy": []
    },
    "deepnote_to_be_reexecuted": false,
    "execution_millis": 33,
    "execution_start": 1652632518982,
    "source_hash": "efb55f0e",
    "tags": []
   },
   "outputs": [
    {
     "data": {
      "text/html": [
       "<div>\n",
       "<style scoped>\n",
       "    .dataframe tbody tr th:only-of-type {\n",
       "        vertical-align: middle;\n",
       "    }\n",
       "\n",
       "    .dataframe tbody tr th {\n",
       "        vertical-align: top;\n",
       "    }\n",
       "\n",
       "    .dataframe thead th {\n",
       "        text-align: right;\n",
       "    }\n",
       "</style>\n",
       "<table border=\"1\" class=\"dataframe\">\n",
       "  <thead>\n",
       "    <tr style=\"text-align: right;\">\n",
       "      <th></th>\n",
       "      <th>date_fueled</th>\n",
       "      <th>date_captured</th>\n",
       "      <th>odometer</th>\n",
       "      <th>gallons</th>\n",
       "      <th>cost_per_gallon</th>\n",
       "      <th>total_spent</th>\n",
       "      <th>mpg</th>\n",
       "      <th>miles</th>\n",
       "      <th>user_url</th>\n",
       "    </tr>\n",
       "  </thead>\n",
       "  <tbody>\n",
       "    <tr>\n",
       "      <th>0</th>\n",
       "      <td>NaT</td>\n",
       "      <td>Apr 7 2022</td>\n",
       "      <td>73,370</td>\n",
       "      <td>NaN</td>\n",
       "      <td>NaN</td>\n",
       "      <td>NaN</td>\n",
       "      <td>NaN</td>\n",
       "      <td>NaN</td>\n",
       "      <td>https://www.somewebsite.com/suzuki/swift/2015/...</td>\n",
       "    </tr>\n",
       "    <tr>\n",
       "      <th>1</th>\n",
       "      <td>2012-11-07</td>\n",
       "      <td>Aug 30 2016</td>\n",
       "      <td>11,983</td>\n",
       "      <td>12.120</td>\n",
       "      <td>$5.599</td>\n",
       "      <td>$67.86</td>\n",
       "      <td>31.6</td>\n",
       "      <td>NaN</td>\n",
       "      <td>https://www.somewebsite.com/bmw/x3/2009/461150</td>\n",
       "    </tr>\n",
       "    <tr>\n",
       "      <th>2</th>\n",
       "      <td>2012-09-22</td>\n",
       "      <td>Sep 28 2012</td>\n",
       "      <td>98,233</td>\n",
       "      <td>7.991</td>\n",
       "      <td>£5.45</td>\n",
       "      <td>£43.53</td>\n",
       "      <td>28.5</td>\n",
       "      <td>NaN</td>\n",
       "      <td>https://www.somewebsite.com/mercedes-benz/e300...</td>\n",
       "    </tr>\n",
       "    <tr>\n",
       "      <th>3</th>\n",
       "      <td>2019-05-04</td>\n",
       "      <td>May 4 2019</td>\n",
       "      <td>163,802</td>\n",
       "      <td>10.575</td>\n",
       "      <td>£5.11</td>\n",
       "      <td>£54.00</td>\n",
       "      <td>46.8</td>\n",
       "      <td>NaN</td>\n",
       "      <td>https://www.somewebsite.com/bmw/320d/2010/247233</td>\n",
       "    </tr>\n",
       "    <tr>\n",
       "      <th>4</th>\n",
       "      <td>2022-02-15</td>\n",
       "      <td>Feb 15 2022</td>\n",
       "      <td>NaN</td>\n",
       "      <td>11.651</td>\n",
       "      <td>$3.029</td>\n",
       "      <td>$35.29</td>\n",
       "      <td>21.0</td>\n",
       "      <td>244.4</td>\n",
       "      <td>https://www.somewebsite.com/honda/passport/201...</td>\n",
       "    </tr>\n",
       "  </tbody>\n",
       "</table>\n",
       "</div>"
      ],
      "text/plain": [
       "  date_fueled date_captured  odometer gallons cost_per_gallon total_spent  \\\n",
       "0         NaT    Apr 7 2022   73,370      NaN             NaN         NaN   \n",
       "1  2012-11-07   Aug 30 2016   11,983   12.120          $5.599      $67.86   \n",
       "2  2012-09-22   Sep 28 2012   98,233    7.991           £5.45      £43.53   \n",
       "3  2019-05-04    May 4 2019  163,802   10.575           £5.11      £54.00   \n",
       "4  2022-02-15   Feb 15 2022       NaN  11.651          $3.029      $35.29   \n",
       "\n",
       "    mpg    miles                                           user_url  \n",
       "0   NaN      NaN  https://www.somewebsite.com/suzuki/swift/2015/...  \n",
       "1  31.6      NaN     https://www.somewebsite.com/bmw/x3/2009/461150  \n",
       "2  28.5      NaN  https://www.somewebsite.com/mercedes-benz/e300...  \n",
       "3  46.8      NaN   https://www.somewebsite.com/bmw/320d/2010/247233  \n",
       "4  21.0   244.4   https://www.somewebsite.com/honda/passport/201...  "
      ]
     },
     "execution_count": 6,
     "metadata": {},
     "output_type": "execute_result"
    }
   ],
   "source": [
    "raw_data.head()"
   ]
  },
  {
   "cell_type": "markdown",
   "metadata": {
    "cell_id": "bb7026bf451041f7b6e0604ca00908c8",
    "deepnote_cell_height": 52.390625,
    "deepnote_cell_type": "markdown",
    "tags": []
   },
   "source": [
    "The invalid date entries have now been converted to NaT"
   ]
  },
  {
   "cell_type": "code",
   "execution_count": 7,
   "metadata": {
    "cell_id": "16fcc35630bd4b2caae64f9f90d90de7",
    "deepnote_cell_height": 327,
    "deepnote_cell_type": "code",
    "deepnote_output_heights": [
     194
    ],
    "deepnote_to_be_reexecuted": false,
    "execution_millis": 483,
    "execution_start": 1652632519012,
    "source_hash": "12a481a",
    "tags": []
   },
   "outputs": [
    {
     "data": {
      "text/plain": [
       "date_fueled        11.657630\n",
       "date_captured       0.000000\n",
       "odometer           12.695362\n",
       "gallons             6.316444\n",
       "cost_per_gallon     6.873952\n",
       "total_spent         6.316444\n",
       "mpg                 6.316444\n",
       "miles              87.549771\n",
       "user_url            0.000000\n",
       "dtype: float64"
      ]
     },
     "execution_count": 7,
     "metadata": {},
     "output_type": "execute_result"
    }
   ],
   "source": [
    "# We calculate the percentage of date_fueled entries that are not proper dates\n",
    "# only after converting all the invalid date entries to NaT\n",
    "raw_data.isnull().sum()/len(raw_data) * 100"
   ]
  },
  {
   "cell_type": "markdown",
   "metadata": {
    "cell_id": "aaceff959199410982a80de341cbd754",
    "deepnote_cell_height": 52.390625,
    "deepnote_cell_type": "markdown",
    "tags": []
   },
   "source": [
    "The percentage of date_fueled entries that are not proper dates is 11.66%"
   ]
  },
  {
   "cell_type": "markdown",
   "metadata": {
    "cell_id": "a36d75d125bf48b6b26411f35ac65587",
    "deepnote_cell_height": 52.390625,
    "deepnote_cell_type": "markdown",
    "deepnote_to_be_reexecuted": false,
    "execution_millis": 7,
    "execution_start": 1651230386567,
    "source_hash": "b623e53d",
    "tags": []
   },
   "source": [
    "Now we have to remove dates that are in the future, or dates that are earlier than 2005"
   ]
  },
  {
   "cell_type": "code",
   "execution_count": 8,
   "metadata": {
    "cell_id": "00020-98e9b9de-cbcb-4e03-acdb-aca60f8d3660",
    "deepnote_cell_height": 99,
    "deepnote_cell_type": "code",
    "deepnote_to_be_reexecuted": false,
    "execution_millis": 735,
    "execution_start": 1652632519505,
    "source_hash": "412a0d7f"
   },
   "outputs": [],
   "source": [
    "#we first sort the dates in ascending order\n",
    "raw_data = raw_data.sort_values(by=\"date_fueled\")"
   ]
  },
  {
   "cell_type": "code",
   "execution_count": 9,
   "metadata": {
    "cell_id": "b75c534d629a4acd8f9d1f58c36558eb",
    "deepnote_cell_height": 99,
    "deepnote_cell_type": "code",
    "deepnote_to_be_reexecuted": false,
    "execution_millis": 187,
    "execution_start": 1652632520249,
    "source_hash": "98c151c7",
    "tags": []
   },
   "outputs": [],
   "source": [
    "#we filter the data\n",
    "filtered_data = raw_data.loc[(raw_data['date_fueled'] >= '2005') & (raw_data['date_fueled'] <= '2022')]"
   ]
  },
  {
   "cell_type": "code",
   "execution_count": 10,
   "metadata": {
    "cell_id": "3341d56826b946a09e9dd812f9b99027",
    "deepnote_cell_height": 443.796875,
    "deepnote_cell_type": "code",
    "deepnote_table_loading": false,
    "deepnote_table_state": {
     "filters": [],
     "pageIndex": 0,
     "pageSize": 10,
     "sortBy": [
      {
       "id": "date_fueled",
       "type": "asc"
      }
     ]
    },
    "deepnote_to_be_reexecuted": false,
    "execution_millis": 11,
    "execution_start": 1652632520488,
    "source_hash": "46058921",
    "tags": []
   },
   "outputs": [
    {
     "data": {
      "text/html": [
       "<div>\n",
       "<style scoped>\n",
       "    .dataframe tbody tr th:only-of-type {\n",
       "        vertical-align: middle;\n",
       "    }\n",
       "\n",
       "    .dataframe tbody tr th {\n",
       "        vertical-align: top;\n",
       "    }\n",
       "\n",
       "    .dataframe thead th {\n",
       "        text-align: right;\n",
       "    }\n",
       "</style>\n",
       "<table border=\"1\" class=\"dataframe\">\n",
       "  <thead>\n",
       "    <tr style=\"text-align: right;\">\n",
       "      <th></th>\n",
       "      <th>date_fueled</th>\n",
       "      <th>date_captured</th>\n",
       "      <th>odometer</th>\n",
       "      <th>gallons</th>\n",
       "      <th>cost_per_gallon</th>\n",
       "      <th>total_spent</th>\n",
       "      <th>mpg</th>\n",
       "      <th>miles</th>\n",
       "      <th>user_url</th>\n",
       "    </tr>\n",
       "  </thead>\n",
       "  <tbody>\n",
       "    <tr>\n",
       "      <th>116779</th>\n",
       "      <td>2005-01-02</td>\n",
       "      <td>Feb 19 2012</td>\n",
       "      <td>NaN</td>\n",
       "      <td>21.400</td>\n",
       "      <td>$0.000</td>\n",
       "      <td>$0.00</td>\n",
       "      <td>17.0</td>\n",
       "      <td>364.2</td>\n",
       "      <td>https://www.somewebsite.com/ford/f-350/1991/11...</td>\n",
       "    </tr>\n",
       "    <tr>\n",
       "      <th>964318</th>\n",
       "      <td>2005-01-05</td>\n",
       "      <td>Jun 3 2020</td>\n",
       "      <td>95,556</td>\n",
       "      <td>8.982</td>\n",
       "      <td>Ft874</td>\n",
       "      <td>Ft7,854</td>\n",
       "      <td>35.7</td>\n",
       "      <td>NaN</td>\n",
       "      <td>https://www.somewebsite.com/mazda/323/1986/100...</td>\n",
       "    </tr>\n",
       "    <tr>\n",
       "      <th>341874</th>\n",
       "      <td>2005-01-06</td>\n",
       "      <td>Oct 11 2008</td>\n",
       "      <td>153,582</td>\n",
       "      <td>12.598</td>\n",
       "      <td>$1.990</td>\n",
       "      <td>$25.07</td>\n",
       "      <td>21.4</td>\n",
       "      <td>NaN</td>\n",
       "      <td>https://www.somewebsite.com/bmw/535i/1986/10501</td>\n",
       "    </tr>\n",
       "    <tr>\n",
       "      <th>802421</th>\n",
       "      <td>2005-01-07</td>\n",
       "      <td>Jun 30 2015</td>\n",
       "      <td>97,166</td>\n",
       "      <td>14.532</td>\n",
       "      <td>£2.91</td>\n",
       "      <td>£42.30</td>\n",
       "      <td>22.6</td>\n",
       "      <td>NaN</td>\n",
       "      <td>https://www.somewebsite.com/ford/mondeo/1995/3...</td>\n",
       "    </tr>\n",
       "    <tr>\n",
       "      <th>187118</th>\n",
       "      <td>2005-01-09</td>\n",
       "      <td>Sep 16 2011</td>\n",
       "      <td>110,955</td>\n",
       "      <td>19.208</td>\n",
       "      <td>R0.00</td>\n",
       "      <td>R0.00</td>\n",
       "      <td>19.4</td>\n",
       "      <td>NaN</td>\n",
       "      <td>https://www.somewebsite.com/mercedes-benz/500s...</td>\n",
       "    </tr>\n",
       "  </tbody>\n",
       "</table>\n",
       "</div>"
      ],
      "text/plain": [
       "       date_fueled date_captured  odometer gallons cost_per_gallon  \\\n",
       "116779  2005-01-02   Feb 19 2012       NaN  21.400          $0.000   \n",
       "964318  2005-01-05    Jun 3 2020   95,556    8.982           Ft874   \n",
       "341874  2005-01-06   Oct 11 2008  153,582   12.598          $1.990   \n",
       "802421  2005-01-07   Jun 30 2015   97,166   14.532           £2.91   \n",
       "187118  2005-01-09   Sep 16 2011  110,955   19.208           R0.00   \n",
       "\n",
       "       total_spent   mpg    miles  \\\n",
       "116779       $0.00  17.0   364.2    \n",
       "964318     Ft7,854  35.7      NaN   \n",
       "341874      $25.07  21.4      NaN   \n",
       "802421      £42.30  22.6      NaN   \n",
       "187118       R0.00  19.4      NaN   \n",
       "\n",
       "                                                 user_url  \n",
       "116779  https://www.somewebsite.com/ford/f-350/1991/11...  \n",
       "964318  https://www.somewebsite.com/mazda/323/1986/100...  \n",
       "341874    https://www.somewebsite.com/bmw/535i/1986/10501  \n",
       "802421  https://www.somewebsite.com/ford/mondeo/1995/3...  \n",
       "187118  https://www.somewebsite.com/mercedes-benz/500s...  "
      ]
     },
     "execution_count": 10,
     "metadata": {},
     "output_type": "execute_result"
    }
   ],
   "source": [
    "filtered_data.head()"
   ]
  },
  {
   "cell_type": "markdown",
   "metadata": {
    "cell_id": "630caa97c5274edfa09ad99fbac9c804",
    "deepnote_cell_height": 52.390625,
    "deepnote_cell_type": "markdown",
    "tags": []
   },
   "source": [
    "We have now removed all dates that are before 2005 and after 2022(future date)"
   ]
  },
  {
   "cell_type": "markdown",
   "metadata": {
    "cell_id": "fb127dad68494e778bae1ce141ee5905",
    "deepnote_cell_height": 100.390625,
    "deepnote_cell_type": "markdown",
    "tags": []
   },
   "source": [
    "### Distribution of fueling dates\n",
    "We now plot the data distribution for fueling dates column."
   ]
  },
  {
   "cell_type": "code",
   "execution_count": 11,
   "metadata": {
    "cell_id": "2af5b665e166439fbb3e661a8b5e9a72",
    "deepnote_cell_height": 456.1875,
    "deepnote_cell_type": "code",
    "deepnote_output_heights": [
     21.1875,
     289
    ],
    "deepnote_to_be_reexecuted": false,
    "execution_millis": 494,
    "execution_start": 1652632520499,
    "source_hash": "4d72166d",
    "tags": []
   },
   "outputs": [
    {
     "data": {
      "text/plain": [
       "<AxesSubplot:>"
      ]
     },
     "execution_count": 11,
     "metadata": {},
     "output_type": "execute_result"
    },
    {
     "data": {
      "image/png": "[encoded data removed]",
      "text/plain": [
       "<Figure size 720x360 with 1 Axes>"
      ]
     },
     "metadata": {
      "needs_background": "light"
     },
     "output_type": "display_data"
    }
   ],
   "source": [
    "plt.figure(figsize=(10, 5))\n",
    "filtered_data['date_fueled'].value_counts().plot()"
   ]
  },
  {
   "cell_type": "markdown",
   "metadata": {
    "cell_id": "22b482f90b694e558f09f7b831d452d3",
    "deepnote_cell_height": 74.796875,
    "deepnote_cell_type": "markdown",
    "tags": []
   },
   "source": [
    "From the above plot we can see that the fuel consumption increased yearly from 2005 until it decreased in 2020, probably due to the pandemic. It then increased again until the present year 2022."
   ]
  },
  {
   "cell_type": "markdown",
   "metadata": {
    "cell_id": "3df36eb78ced4d05996e3f52c44b6812",
    "deepnote_cell_height": 70,
    "deepnote_cell_type": "markdown",
    "tags": []
   },
   "source": [
    "## 1.2 Numerical Fields"
   ]
  },
  {
   "cell_type": "code",
   "execution_count": 12,
   "metadata": {
    "cell_id": "80a12f6ebcfe438b9c2da22d3f185f0a",
    "deepnote_cell_height": 291,
    "deepnote_cell_type": "code",
    "deepnote_output_heights": [
     194
    ],
    "deepnote_to_be_reexecuted": false,
    "execution_millis": 24,
    "execution_start": 1652632521997,
    "source_hash": "763ec007",
    "tags": []
   },
   "outputs": [
    {
     "data": {
      "text/plain": [
       "date_fueled         0.000000\n",
       "date_captured       0.000000\n",
       "odometer           12.622035\n",
       "gallons             3.535624\n",
       "cost_per_gallon     4.131934\n",
       "total_spent         3.535624\n",
       "mpg                 3.535624\n",
       "miles              87.604429\n",
       "user_url            0.000000\n",
       "dtype: float64"
      ]
     },
     "execution_count": 12,
     "metadata": {},
     "output_type": "execute_result"
    }
   ],
   "source": [
    "filtered_data.isnull().sum()/len(filtered_data) * 100"
   ]
  },
  {
   "cell_type": "code",
   "execution_count": 13,
   "metadata": {
    "cell_id": "6d4c0a169a794b78b2e231acaa543bdb",
    "deepnote_cell_height": 332.21875,
    "deepnote_cell_type": "code",
    "deepnote_output_heights": [
     21.1875,
     165.046875
    ],
    "deepnote_to_be_reexecuted": false,
    "execution_millis": 2963,
    "execution_start": 1652632523012,
    "source_hash": "23917087",
    "tags": []
   },
   "outputs": [
    {
     "data": {
      "text/plain": [
       "<AxesSubplot:>"
      ]
     },
     "execution_count": 13,
     "metadata": {},
     "output_type": "execute_result"
    },
    {
     "data": {
      "image/png": "[encoded data removed]",
      "text/plain": [
       "<Figure size 2160x360 with 2 Axes>"
      ]
     },
     "metadata": {
      "needs_background": "light"
     },
     "output_type": "display_data"
    }
   ],
   "source": [
    "# missing values visualization\n",
    "missingno.matrix(filtered_data, figsize = (30,5))"
   ]
  },
  {
   "cell_type": "markdown",
   "metadata": {
    "cell_id": "9332d50a62284fc4a979b4e32f416f9e",
    "deepnote_cell_height": 153.59375,
    "deepnote_cell_type": "markdown",
    "tags": []
   },
   "source": [
    "The percentages of missing entries using the filtered_data are as follows :\n",
    " - gallons = 3.53%\n",
    " - miles =  87.6%\n",
    " - odometer = 12.62%"
   ]
  },
  {
   "cell_type": "markdown",
   "metadata": {
    "cell_id": "6ae8af19978a40e6906b9dd1cd4dad33",
    "deepnote_cell_height": 74.796875,
    "deepnote_cell_type": "markdown",
    "tags": []
   },
   "source": [
    "Here we remove commas from some string values, to enable us to convert the columns (mpg,gallons & miles) to a float data type"
   ]
  },
  {
   "cell_type": "code",
   "execution_count": 14,
   "metadata": {
    "cell_id": "656e6e5ad4c24827b0afa09d99ad79cd",
    "deepnote_cell_height": 189,
    "deepnote_cell_type": "code",
    "deepnote_to_be_reexecuted": false,
    "execution_millis": 5021,
    "execution_start": 1652632525986,
    "source_hash": "aebd78bf",
    "tags": []
   },
   "outputs": [],
   "source": [
    "filtered_data['miles'] = [str(x).replace(',','') for x in filtered_data['miles']]\n",
    "filtered_data[\"miles\"] = pd.to_numeric(filtered_data[\"miles\"], downcast=\"float\",errors='coerce')\n",
    "filtered_data['gallons'] = [str(x).replace(',','') for x in filtered_data['gallons']]\n",
    "filtered_data[\"gallons\"] = pd.to_numeric(filtered_data[\"gallons\"], downcast=\"float\",errors='coerce')\n",
    "filtered_data['mpg'] = [str(x).replace(',','') for x in filtered_data['mpg']]\n",
    "filtered_data[\"mpg\"] = pd.to_numeric(filtered_data[\"mpg\"], downcast=\"float\",errors='coerce')\n"
   ]
  },
  {
   "cell_type": "code",
   "execution_count": 15,
   "metadata": {
    "cell_id": "bf8fac6e72844fe99e24f1f68c0893a7",
    "deepnote_cell_height": 292,
    "deepnote_cell_type": "code",
    "deepnote_to_be_reexecuted": false,
    "execution_millis": 239,
    "execution_start": 1652632531007,
    "source_hash": "b6707b7d",
    "tags": []
   },
   "outputs": [
    {
     "name": "stdout",
     "output_type": "stream",
     "text": [
      "date_fueled        datetime64[ns]\n",
      "date_captured              object\n",
      "odometer                   object\n",
      "gallons                   float32\n",
      "cost_per_gallon            object\n",
      "total_spent                object\n",
      "mpg                       float32\n",
      "miles                     float32\n",
      "user_url                   object\n",
      "dtype: object\n"
     ]
    }
   ],
   "source": [
    "print(filtered_data.dtypes)"
   ]
  },
  {
   "cell_type": "markdown",
   "metadata": {
    "cell_id": "026511ef55d3493e9d6b6a73af90d925",
    "deepnote_cell_height": 52.390625,
    "deepnote_cell_type": "markdown",
    "tags": []
   },
   "source": [
    "mpg, gallons and miles are now converted to float data type"
   ]
  },
  {
   "cell_type": "code",
   "execution_count": 16,
   "metadata": {
    "cell_id": "9fa89389f0154e8088e8ba4d59f070c2",
    "deepnote_cell_height": 99,
    "deepnote_cell_type": "code",
    "deepnote_to_be_reexecuted": false,
    "execution_millis": 0,
    "execution_start": 1652632531035,
    "source_hash": "2d4d481b",
    "tags": []
   },
   "outputs": [],
   "source": [
    "#here we calculate the entries for the miles column\n",
    "filtered_data['miles']=filtered_data['gallons']*filtered_data['mpg']"
   ]
  },
  {
   "cell_type": "code",
   "execution_count": 17,
   "metadata": {
    "cell_id": "93915b67ec2c4f12980debe4d9552aca",
    "deepnote_cell_height": 291,
    "deepnote_cell_type": "code",
    "deepnote_output_heights": [
     194
    ],
    "deepnote_to_be_reexecuted": false,
    "execution_millis": 21,
    "execution_start": 1652632531492,
    "source_hash": "763ec007",
    "tags": []
   },
   "outputs": [
    {
     "data": {
      "text/plain": [
       "date_fueled         0.000000\n",
       "date_captured       0.000000\n",
       "odometer           12.622035\n",
       "gallons             3.535624\n",
       "cost_per_gallon     4.131934\n",
       "total_spent         3.535624\n",
       "mpg                 3.535624\n",
       "miles               3.535624\n",
       "user_url            0.000000\n",
       "dtype: float64"
      ]
     },
     "execution_count": 17,
     "metadata": {},
     "output_type": "execute_result"
    }
   ],
   "source": [
    "filtered_data.isnull().sum()/len(filtered_data) * 100"
   ]
  },
  {
   "cell_type": "markdown",
   "metadata": {
    "cell_id": "649a5bcce98f4d728f1673fbd396bf78",
    "deepnote_cell_height": 52.390625,
    "deepnote_cell_type": "markdown",
    "tags": []
   },
   "source": [
    "We can now see that the miles column now has less missing entries, from 87.6% to 3.53%"
   ]
  },
  {
   "cell_type": "code",
   "execution_count": 18,
   "metadata": {
    "cell_id": "b70c527c4124491683ee82f9b9c79d86",
    "deepnote_cell_height": 332.21875,
    "deepnote_cell_type": "code",
    "deepnote_output_heights": [
     21.1875,
     165.046875
    ],
    "deepnote_to_be_reexecuted": false,
    "execution_millis": 2663,
    "execution_start": 1652632532091,
    "source_hash": "fb58d6e0",
    "tags": []
   },
   "outputs": [
    {
     "data": {
      "text/plain": [
       "<AxesSubplot:>"
      ]
     },
     "execution_count": 18,
     "metadata": {},
     "output_type": "execute_result"
    },
    {
     "data": {
      "image/png": "[encoded data removed]",
      "text/plain": [
       "<Figure size 2160x360 with 2 Axes>"
      ]
     },
     "metadata": {
      "needs_background": "light"
     },
     "output_type": "display_data"
    }
   ],
   "source": [
    "# missing number visualization\n",
    "missingno.matrix(filtered_data, figsize = (30,5))"
   ]
  },
  {
   "cell_type": "markdown",
   "metadata": {
    "cell_id": "a32244c28c1f43ec94a06d3b25a01db2",
    "deepnote_cell_height": 62,
    "deepnote_cell_type": "markdown",
    "tags": []
   },
   "source": [
    "### Plotting the distributions"
   ]
  },
  {
   "cell_type": "markdown",
   "metadata": {
    "cell_id": "6ddd9034e2884035b39543090cd2b977",
    "deepnote_cell_height": 52.390625,
    "deepnote_cell_type": "markdown",
    "tags": []
   },
   "source": [
    "we plot the distributions without including the missing values"
   ]
  },
  {
   "cell_type": "code",
   "execution_count": 19,
   "metadata": {
    "cell_id": "00041-ab6f2e80-d94e-4cb4-899a-1d48bd580969",
    "deepnote_cell_height": 555.1875,
    "deepnote_cell_type": "code",
    "deepnote_output_heights": [
     21.1875,
     370
    ],
    "deepnote_to_be_reexecuted": false,
    "execution_millis": 149336,
    "execution_start": 1652632534762,
    "source_hash": "27f1f118"
   },
   "outputs": [
    {
     "data": {
      "text/plain": [
       "Text(0.5, 1.0, 'Relationship between miles and gallons')"
      ]
     },
     "execution_count": 19,
     "metadata": {},
     "output_type": "execute_result"
    },
    {
     "data": {
      "image/png": "[encoded data removed]",
      "text/plain": [
       "<Figure size 360x360 with 1 Axes>"
      ]
     },
     "metadata": {
      "needs_background": "light"
     },
     "output_type": "display_data"
    }
   ],
   "source": [
    "sns.lmplot(x = 'miles', y = 'gallons', data = filtered_data, height=5, ci=False,\n",
    "         line_kws={'color':'green'}, scatter_kws={'color':'#15B7B5'})\n",
    "plt.title('Relationship between miles and gallons')"
   ]
  },
  {
   "cell_type": "markdown",
   "metadata": {
    "cell_id": "00042-b6b9e413-fcf0-4a2d-95a6-0780f7243be9",
    "deepnote_cell_height": 74.796875,
    "deepnote_cell_type": "markdown"
   },
   "source": [
    "By using the regression line, we can say that miles and gallons are directly proportional.\n",
    "As one variable increases, so does the other"
   ]
  },
  {
   "cell_type": "code",
   "execution_count": 20,
   "metadata": {
    "cell_id": "00043-37a71ac3-4850-4d96-be7b-c502957798ec",
    "deepnote_cell_height": 555.1875,
    "deepnote_cell_type": "code",
    "deepnote_output_heights": [
     21.1875,
     370
    ],
    "deepnote_to_be_reexecuted": false,
    "execution_millis": 145657,
    "execution_start": 1652632684107,
    "source_hash": "e274ee27"
   },
   "outputs": [
    {
     "data": {
      "text/plain": [
       "Text(0.5, 1.0, 'Relationship between mpg and gallons')"
      ]
     },
     "execution_count": 20,
     "metadata": {},
     "output_type": "execute_result"
    },
    {
     "data": {
      "image/png": "[encoded data removed]",
      "text/plain": [
       "<Figure size 360x360 with 1 Axes>"
      ]
     },
     "metadata": {
      "needs_background": "light"
     },
     "output_type": "display_data"
    }
   ],
   "source": [
    "sns.lmplot(x = 'mpg', y = 'gallons', data = filtered_data, height=5, ci=False,\n",
    "         line_kws={'color':'red'}, scatter_kws={'color':'#CBC311'})\n",
    "plt.title('Relationship between mpg and gallons')"
   ]
  },
  {
   "cell_type": "markdown",
   "metadata": {
    "cell_id": "00044-31ea6173-0957-4c75-8541-6633b235e350",
    "deepnote_cell_height": 74.796875,
    "deepnote_cell_type": "markdown"
   },
   "source": [
    "By using the regression line, we can say that mpg and gallons are indirectly proportional.\n",
    "As one variable increases the other decreases"
   ]
  },
  {
   "cell_type": "code",
   "execution_count": 21,
   "metadata": {
    "cell_id": "00045-8d2445c6-ee3d-45fc-a8a1-797821d41b48",
    "deepnote_cell_height": 555.1875,
    "deepnote_cell_type": "code",
    "deepnote_output_heights": [
     21.1875,
     370
    ],
    "deepnote_to_be_reexecuted": false,
    "execution_millis": 137036,
    "execution_start": 1652632829765,
    "source_hash": "43508f80"
   },
   "outputs": [
    {
     "data": {
      "text/plain": [
       "Text(0.5, 1.0, 'Relationship between miles and mpg')"
      ]
     },
     "execution_count": 21,
     "metadata": {},
     "output_type": "execute_result"
    },
    {
     "data": {
      "image/png": "[encoded data removed]",
      "text/plain": [
       "<Figure size 360x360 with 1 Axes>"
      ]
     },
     "metadata": {
      "needs_background": "light"
     },
     "output_type": "display_data"
    }
   ],
   "source": [
    "sns.lmplot(x = 'miles', y = 'mpg', data = filtered_data, height=5, ci=False,\n",
    "         line_kws={'color':'red'}, scatter_kws={'color':'#19F1EE'})\n",
    "plt.title('Relationship between miles and mpg')"
   ]
  },
  {
   "cell_type": "markdown",
   "metadata": {
    "cell_id": "00046-6d007d26-046e-4c3f-835c-544ac586d520",
    "deepnote_cell_height": 52.390625,
    "deepnote_cell_type": "markdown"
   },
   "source": [
    "By using the regression line, we can say that miles and mpg are directly proportional.\n"
   ]
  },
  {
   "cell_type": "code",
   "execution_count": 22,
   "metadata": {
    "cell_id": "7c885f052bce4643909fdc369cb08e07",
    "deepnote_cell_height": 518,
    "deepnote_cell_type": "code",
    "deepnote_to_be_reexecuted": false,
    "execution_millis": 154,
    "execution_start": 1652632966850,
    "source_hash": "61e53bb6",
    "tags": []
   },
   "outputs": [
    {
     "data": {
      "text/html": [
       "<div>\n",
       "<style scoped>\n",
       "    .dataframe tbody tr th:only-of-type {\n",
       "        vertical-align: middle;\n",
       "    }\n",
       "\n",
       "    .dataframe tbody tr th {\n",
       "        vertical-align: top;\n",
       "    }\n",
       "\n",
       "    .dataframe thead th {\n",
       "        text-align: right;\n",
       "    }\n",
       "</style>\n",
       "<table border=\"1\" class=\"dataframe\">\n",
       "  <thead>\n",
       "    <tr style=\"text-align: right;\">\n",
       "      <th></th>\n",
       "      <th>gallons</th>\n",
       "      <th>mpg</th>\n",
       "      <th>miles</th>\n",
       "    </tr>\n",
       "  </thead>\n",
       "  <tbody>\n",
       "    <tr>\n",
       "      <th>count</th>\n",
       "      <td>838287.000000</td>\n",
       "      <td>838287.000000</td>\n",
       "      <td>838287.000000</td>\n",
       "    </tr>\n",
       "    <tr>\n",
       "      <th>mean</th>\n",
       "      <td>12.964628</td>\n",
       "      <td>22.261560</td>\n",
       "      <td>267.728058</td>\n",
       "    </tr>\n",
       "    <tr>\n",
       "      <th>std</th>\n",
       "      <td>80.645149</td>\n",
       "      <td>16.135521</td>\n",
       "      <td>216.729019</td>\n",
       "    </tr>\n",
       "    <tr>\n",
       "      <th>min</th>\n",
       "      <td>0.000000</td>\n",
       "      <td>0.000000</td>\n",
       "      <td>0.000000</td>\n",
       "    </tr>\n",
       "    <tr>\n",
       "      <th>25%</th>\n",
       "      <td>9.132000</td>\n",
       "      <td>15.600000</td>\n",
       "      <td>183.752380</td>\n",
       "    </tr>\n",
       "    <tr>\n",
       "      <th>50%</th>\n",
       "      <td>12.078000</td>\n",
       "      <td>21.900000</td>\n",
       "      <td>269.878418</td>\n",
       "    </tr>\n",
       "    <tr>\n",
       "      <th>75%</th>\n",
       "      <td>15.005000</td>\n",
       "      <td>28.600000</td>\n",
       "      <td>346.609985</td>\n",
       "    </tr>\n",
       "    <tr>\n",
       "      <th>max</th>\n",
       "      <td>28380.000000</td>\n",
       "      <td>1214.300049</td>\n",
       "      <td>54267.546875</td>\n",
       "    </tr>\n",
       "  </tbody>\n",
       "</table>\n",
       "</div>"
      ],
      "text/plain": [
       "             gallons            mpg          miles\n",
       "count  838287.000000  838287.000000  838287.000000\n",
       "mean       12.964628      22.261560     267.728058\n",
       "std        80.645149      16.135521     216.729019\n",
       "min         0.000000       0.000000       0.000000\n",
       "25%         9.132000      15.600000     183.752380\n",
       "50%        12.078000      21.900000     269.878418\n",
       "75%        15.005000      28.600000     346.609985\n",
       "max     28380.000000    1214.300049   54267.546875"
      ]
     },
     "execution_count": 22,
     "metadata": {},
     "output_type": "execute_result"
    }
   ],
   "source": [
    "filtered_data.describe()"
   ]
  },
  {
   "cell_type": "markdown",
   "metadata": {
    "cell_id": "6d992f1fa8784a9aae204f3ce9850145",
    "deepnote_cell_height": 52.390625,
    "deepnote_cell_type": "markdown",
    "tags": []
   },
   "source": [
    "The miles, gallons and mpg columns are interdependent."
   ]
  },
  {
   "cell_type": "markdown",
   "metadata": {
    "cell_id": "d69961a8b7314f2a9078539756a384d1",
    "deepnote_cell_height": 82,
    "deepnote_cell_type": "markdown",
    "tags": []
   },
   "source": [
    "# 2  Feature Engineering"
   ]
  },
  {
   "cell_type": "markdown",
   "metadata": {
    "cell_id": "567d3f52b44046e4b0e85468266f08cc",
    "deepnote_cell_height": 62,
    "deepnote_cell_type": "markdown",
    "tags": []
   },
   "source": [
    "### Adding new columns to the dataset"
   ]
  },
  {
   "cell_type": "markdown",
   "metadata": {
    "cell_id": "5e215d5e2f0044399d965e8df4d2dd75",
    "deepnote_cell_height": 52.390625,
    "deepnote_cell_type": "markdown",
    "tags": []
   },
   "source": [
    "Here we create a new column called  **total_spent_float** containing the float values of the **total_spent**"
   ]
  },
  {
   "cell_type": "code",
   "execution_count": 23,
   "metadata": {
    "cell_id": "d0c621351306450096ac8441816a7368",
    "deepnote_cell_height": 262.796875,
    "deepnote_cell_type": "code",
    "deepnote_to_be_reexecuted": false,
    "execution_millis": 3004,
    "execution_start": 1652632967003,
    "source_hash": "36fe7542",
    "tags": []
   },
   "outputs": [
    {
     "name": "stderr",
     "output_type": "stream",
     "text": [
      "C:\\Users\\rmnev\\AppData\\Local\\Temp\\ipykernel_17008\\111857402.py:6: FutureWarning: The default value of regex will change from True to False in a future version.\n",
      "  filtered_data['total_spent_float'] = filtered_data['total_spent_float'].str.replace(\"[^\\d\\.]\", '')\n"
     ]
    }
   ],
   "source": [
    "#creating new column\n",
    "filtered_data['total_spent_float'] = filtered_data['total_spent']\n",
    "#remove all commas\n",
    "filtered_data['total_spent_float'] = [str(x).replace(',','') for x in filtered_data['total_spent_float']]\n",
    "#remove all currency symbols\n",
    "filtered_data['total_spent_float'] = filtered_data['total_spent_float'].str.replace(\"[^\\d\\.]\", '')\n",
    "#converting to float data type\n",
    "filtered_data['total_spent_float']  = pd.to_numeric(filtered_data['total_spent_float'], downcast=\"float\",errors='coerce')"
   ]
  },
  {
   "cell_type": "markdown",
   "metadata": {
    "cell_id": "644e78c529bf464bb3db61b554026bdc",
    "deepnote_cell_height": 52.390625,
    "deepnote_cell_type": "markdown",
    "tags": []
   },
   "source": [
    "Here we create a new column **cost_per_gallon_float** containing the float values of the **cost_per_gallon**"
   ]
  },
  {
   "cell_type": "code",
   "execution_count": 24,
   "metadata": {
    "cell_id": "9e15f35e8f8e45e2bfa83b6ac3838d3e",
    "deepnote_cell_height": 645.796875,
    "deepnote_cell_type": "code",
    "deepnote_to_be_reexecuted": false,
    "execution_millis": 2882,
    "execution_start": 1652632970021,
    "source_hash": "964b1302",
    "tags": []
   },
   "outputs": [
    {
     "name": "stderr",
     "output_type": "stream",
     "text": [
      "C:\\Users\\rmnev\\AppData\\Local\\Temp\\ipykernel_17008\\656612391.py:6: FutureWarning: The default value of regex will change from True to False in a future version.\n",
      "  filtered_data['cost_per_gallon_float']= filtered_data['cost_per_gallon_float'].apply(str).str.replace(\"[^\\d\\.]\", '')\n"
     ]
    },
    {
     "data": {
      "text/html": [
       "<div>\n",
       "<style scoped>\n",
       "    .dataframe tbody tr th:only-of-type {\n",
       "        vertical-align: middle;\n",
       "    }\n",
       "\n",
       "    .dataframe tbody tr th {\n",
       "        vertical-align: top;\n",
       "    }\n",
       "\n",
       "    .dataframe thead th {\n",
       "        text-align: right;\n",
       "    }\n",
       "</style>\n",
       "<table border=\"1\" class=\"dataframe\">\n",
       "  <thead>\n",
       "    <tr style=\"text-align: right;\">\n",
       "      <th></th>\n",
       "      <th>cost_per_gallon_float</th>\n",
       "      <th>total_spent_float</th>\n",
       "    </tr>\n",
       "  </thead>\n",
       "  <tbody>\n",
       "    <tr>\n",
       "      <th>116779</th>\n",
       "      <td>0.00</td>\n",
       "      <td>0.000000</td>\n",
       "    </tr>\n",
       "    <tr>\n",
       "      <th>964318</th>\n",
       "      <td>874.00</td>\n",
       "      <td>7854.000000</td>\n",
       "    </tr>\n",
       "    <tr>\n",
       "      <th>341874</th>\n",
       "      <td>1.99</td>\n",
       "      <td>25.070000</td>\n",
       "    </tr>\n",
       "    <tr>\n",
       "      <th>802421</th>\n",
       "      <td>2.91</td>\n",
       "      <td>42.299999</td>\n",
       "    </tr>\n",
       "    <tr>\n",
       "      <th>187118</th>\n",
       "      <td>0.00</td>\n",
       "      <td>0.000000</td>\n",
       "    </tr>\n",
       "  </tbody>\n",
       "</table>\n",
       "</div>"
      ],
      "text/plain": [
       "        cost_per_gallon_float  total_spent_float\n",
       "116779                   0.00           0.000000\n",
       "964318                 874.00        7854.000000\n",
       "341874                   1.99          25.070000\n",
       "802421                   2.91          42.299999\n",
       "187118                   0.00           0.000000"
      ]
     },
     "execution_count": 24,
     "metadata": {},
     "output_type": "execute_result"
    }
   ],
   "source": [
    "#creating new column\n",
    "filtered_data['cost_per_gallon_float'] = filtered_data['cost_per_gallon']\n",
    "#remove all commas\n",
    "filtered_data['cost_per_gallon_float'] = [str(x).replace(',','') for x in filtered_data['cost_per_gallon_float']]\n",
    "#remove all currency symbols\n",
    "filtered_data['cost_per_gallon_float']= filtered_data['cost_per_gallon_float'].apply(str).str.replace(\"[^\\d\\.]\", '')\n",
    "#converting to float data type\n",
    "filtered_data['cost_per_gallon_float']  = pd.to_numeric(filtered_data['cost_per_gallon_float'], downcast=\"float\",errors='coerce')\n",
    "#checking the data types of new columns\n",
    "filtered_data[['cost_per_gallon_float', 'total_spent_float']].head()\n"
   ]
  },
  {
   "cell_type": "code",
   "execution_count": 25,
   "metadata": {
    "cell_id": "18f3920154e043fbaf1e56e75128f0dc",
    "deepnote_cell_height": 156.578125,
    "deepnote_cell_type": "code",
    "deepnote_output_heights": [
     59.59375
    ],
    "deepnote_to_be_reexecuted": false,
    "execution_millis": 6,
    "execution_start": 1652632972911,
    "source_hash": "cd00372d",
    "tags": []
   },
   "outputs": [
    {
     "data": {
      "text/plain": [
       "cost_per_gallon_float    float32\n",
       "total_spent_float        float32\n",
       "dtype: object"
      ]
     },
     "execution_count": 25,
     "metadata": {},
     "output_type": "execute_result"
    }
   ],
   "source": [
    "filtered_data[['cost_per_gallon_float', 'total_spent_float']].dtypes"
   ]
  },
  {
   "cell_type": "markdown",
   "metadata": {
    "cell_id": "a9cd68e9fa0642ae9095a6202daafb36",
    "deepnote_cell_height": 52.390625,
    "deepnote_cell_type": "markdown",
    "deepnote_to_be_reexecuted": false,
    "execution_millis": 11,
    "execution_start": 1651373002416,
    "source_hash": "ce6874b3",
    "tags": []
   },
   "source": [
    "The two new columns have float data type"
   ]
  },
  {
   "cell_type": "markdown",
   "metadata": {
    "cell_id": "cf351c8a97e04b5f8616d8043feddf25",
    "deepnote_cell_height": 74.796875,
    "deepnote_cell_type": "markdown",
    "deepnote_to_be_reexecuted": false,
    "execution_millis": 462,
    "execution_start": 1651373022992,
    "source_hash": "9b8ffd20",
    "tags": []
   },
   "source": [
    "We now create new 4 new columns: **Car make**  **model** , **year**,**User ID** and we extract their entries from **user_url**"
   ]
  },
  {
   "cell_type": "code",
   "execution_count": 26,
   "metadata": {
    "cell_id": "04361ba860a44a99ac0ba150108b7113",
    "deepnote_cell_height": 593,
    "deepnote_cell_type": "code",
    "deepnote_to_be_reexecuted": false,
    "execution_millis": 17942,
    "execution_start": 1652632972933,
    "source_hash": "f62bbdb1",
    "tags": []
   },
   "outputs": [
    {
     "data": {
      "text/html": [
       "<div>\n",
       "<style scoped>\n",
       "    .dataframe tbody tr th:only-of-type {\n",
       "        vertical-align: middle;\n",
       "    }\n",
       "\n",
       "    .dataframe tbody tr th {\n",
       "        vertical-align: top;\n",
       "    }\n",
       "\n",
       "    .dataframe thead th {\n",
       "        text-align: right;\n",
       "    }\n",
       "</style>\n",
       "<table border=\"1\" class=\"dataframe\">\n",
       "  <thead>\n",
       "    <tr style=\"text-align: right;\">\n",
       "      <th></th>\n",
       "      <th>Car make</th>\n",
       "      <th>model</th>\n",
       "      <th>year</th>\n",
       "      <th>User ID</th>\n",
       "    </tr>\n",
       "  </thead>\n",
       "  <tbody>\n",
       "    <tr>\n",
       "      <th>116779</th>\n",
       "      <td>ford</td>\n",
       "      <td>f-350</td>\n",
       "      <td>1991</td>\n",
       "      <td>110399</td>\n",
       "    </tr>\n",
       "    <tr>\n",
       "      <th>964318</th>\n",
       "      <td>mazda</td>\n",
       "      <td>323</td>\n",
       "      <td>1986</td>\n",
       "      <td>1008607</td>\n",
       "    </tr>\n",
       "    <tr>\n",
       "      <th>341874</th>\n",
       "      <td>bmw</td>\n",
       "      <td>535i</td>\n",
       "      <td>1986</td>\n",
       "      <td>10501</td>\n",
       "    </tr>\n",
       "    <tr>\n",
       "      <th>802421</th>\n",
       "      <td>ford</td>\n",
       "      <td>mondeo</td>\n",
       "      <td>1995</td>\n",
       "      <td>373006</td>\n",
       "    </tr>\n",
       "    <tr>\n",
       "      <th>187118</th>\n",
       "      <td>mercedes-benz</td>\n",
       "      <td>500se</td>\n",
       "      <td>1990</td>\n",
       "      <td>63822</td>\n",
       "    </tr>\n",
       "  </tbody>\n",
       "</table>\n",
       "</div>"
      ],
      "text/plain": [
       "             Car make   model  year  User ID\n",
       "116779           ford   f-350  1991   110399\n",
       "964318          mazda     323  1986  1008607\n",
       "341874            bmw    535i  1986    10501\n",
       "802421           ford  mondeo  1995   373006\n",
       "187118  mercedes-benz   500se  1990    63822"
      ]
     },
     "execution_count": 26,
     "metadata": {},
     "output_type": "execute_result"
    }
   ],
   "source": [
    "#creating new columns\n",
    "filtered_data['Car make'] = filtered_data['user_url']\n",
    "filtered_data['model'] = filtered_data['user_url']\n",
    "filtered_data['year'] = filtered_data['user_url']\n",
    "filtered_data['User ID'] = filtered_data['user_url']\n",
    "#parsing the url\n",
    "filtered_data['Car make'] =filtered_data['Car make'].str.split('/').str[3]\n",
    "filtered_data['model'] = filtered_data['model'].str.split('/').str[4]\n",
    "filtered_data['year'] = filtered_data['year'].str.split('/').str[5]\n",
    "filtered_data['User ID'] = filtered_data['User ID'].str.split('/').str[6]\n",
    "#print the new columns\n",
    "filtered_data[['Car make','model','year', 'User ID']].head()"
   ]
  },
  {
   "cell_type": "markdown",
   "metadata": {
    "cell_id": "af8e508269ec4f2c83d2330a2437e680",
    "deepnote_cell_height": 52.390625,
    "deepnote_cell_type": "markdown",
    "tags": []
   },
   "source": [
    "We parsed the urls and extracted the relevant data from them"
   ]
  },
  {
   "cell_type": "markdown",
   "metadata": {
    "cell_id": "3df8967744d64ddb9b295c201c308e6a",
    "deepnote_cell_height": 62,
    "deepnote_cell_type": "markdown",
    "tags": []
   },
   "source": [
    "### Imperial to metric units conversion"
   ]
  },
  {
   "cell_type": "markdown",
   "metadata": {
    "cell_id": "bb66d9bef7ac408c8056bcc72cba56d3",
    "deepnote_cell_height": 74.796875,
    "deepnote_cell_type": "markdown",
    "tags": []
   },
   "source": [
    "We create 3 new columns:  **litres filled**, **km driven**, **litres per 100 km** and we convert the columns: gallons, miles and mpg from the imprerial to the metric system respectively"
   ]
  },
  {
   "cell_type": "code",
   "execution_count": 27,
   "metadata": {
    "cell_id": "c1aff18d933743e6818f7d88e924ba0d",
    "deepnote_cell_height": 503,
    "deepnote_cell_type": "code",
    "deepnote_to_be_reexecuted": false,
    "execution_millis": 33,
    "execution_start": 1652632990898,
    "source_hash": "a1f2ea4c",
    "tags": []
   },
   "outputs": [
    {
     "data": {
      "text/html": [
       "<div>\n",
       "<style scoped>\n",
       "    .dataframe tbody tr th:only-of-type {\n",
       "        vertical-align: middle;\n",
       "    }\n",
       "\n",
       "    .dataframe tbody tr th {\n",
       "        vertical-align: top;\n",
       "    }\n",
       "\n",
       "    .dataframe thead th {\n",
       "        text-align: right;\n",
       "    }\n",
       "</style>\n",
       "<table border=\"1\" class=\"dataframe\">\n",
       "  <thead>\n",
       "    <tr style=\"text-align: right;\">\n",
       "      <th></th>\n",
       "      <th>litres filled</th>\n",
       "      <th>km driven</th>\n",
       "      <th>litres per 100 km</th>\n",
       "    </tr>\n",
       "  </thead>\n",
       "  <tbody>\n",
       "    <tr>\n",
       "      <th>116779</th>\n",
       "      <td>80.999001</td>\n",
       "      <td>585.354187</td>\n",
       "      <td>13.836176</td>\n",
       "    </tr>\n",
       "    <tr>\n",
       "      <th>964318</th>\n",
       "      <td>33.996872</td>\n",
       "      <td>515.937744</td>\n",
       "      <td>6.588655</td>\n",
       "    </tr>\n",
       "    <tr>\n",
       "      <th>341874</th>\n",
       "      <td>47.683430</td>\n",
       "      <td>433.781891</td>\n",
       "      <td>10.991355</td>\n",
       "    </tr>\n",
       "    <tr>\n",
       "      <th>802421</th>\n",
       "      <td>55.003620</td>\n",
       "      <td>528.432922</td>\n",
       "      <td>10.407743</td>\n",
       "    </tr>\n",
       "    <tr>\n",
       "      <th>187118</th>\n",
       "      <td>72.702286</td>\n",
       "      <td>599.570007</td>\n",
       "      <td>12.124485</td>\n",
       "    </tr>\n",
       "  </tbody>\n",
       "</table>\n",
       "</div>"
      ],
      "text/plain": [
       "        litres filled   km driven  litres per 100 km\n",
       "116779      80.999001  585.354187          13.836176\n",
       "964318      33.996872  515.937744           6.588655\n",
       "341874      47.683430  433.781891          10.991355\n",
       "802421      55.003620  528.432922          10.407743\n",
       "187118      72.702286  599.570007          12.124485"
      ]
     },
     "execution_count": 27,
     "metadata": {},
     "output_type": "execute_result"
    }
   ],
   "source": [
    "#converting US gallons to litres\n",
    "filtered_data['litres filled'] = filtered_data['gallons']*3.785\n",
    "#converting miles to kilometres\n",
    "filtered_data['km driven'] = filtered_data['miles']*1.609\n",
    "#converting miles per gallon to litres per 100 km\n",
    "filtered_data['litres per 100 km'] = 235.215/filtered_data['mpg']\n",
    "filtered_data[['litres filled','km driven','litres per 100 km']].head()"
   ]
  },
  {
   "cell_type": "markdown",
   "metadata": {
    "cell_id": "d27b8c3ac6dd499b93238e9a9af4dd3c",
    "deepnote_cell_height": 52.390625,
    "deepnote_cell_type": "markdown",
    "deepnote_to_be_reexecuted": false,
    "execution_millis": 579,
    "execution_start": 1651373243038,
    "source_hash": "396b7632",
    "tags": []
   },
   "source": [
    "The respective columns now have metric unit values"
   ]
  },
  {
   "cell_type": "markdown",
   "metadata": {
    "cell_id": "00064-040c27b9-3839-4674-82cc-137480fad0d6",
    "deepnote_cell_height": 52.390625,
    "deepnote_cell_type": "markdown"
   },
   "source": [
    "Here we create the **age** column"
   ]
  },
  {
   "cell_type": "code",
   "execution_count": 28,
   "metadata": {
    "cell_id": "00065-a1d341c3-0dc9-40dc-b27d-a3e68bc02d66",
    "deepnote_cell_height": 411.796875,
    "deepnote_cell_type": "code",
    "deepnote_to_be_reexecuted": false,
    "execution_millis": 503,
    "execution_start": 1652632990946,
    "source_hash": "46058921"
   },
   "outputs": [
    {
     "data": {
      "text/html": [
       "<div>\n",
       "<style scoped>\n",
       "    .dataframe tbody tr th:only-of-type {\n",
       "        vertical-align: middle;\n",
       "    }\n",
       "\n",
       "    .dataframe tbody tr th {\n",
       "        vertical-align: top;\n",
       "    }\n",
       "\n",
       "    .dataframe thead th {\n",
       "        text-align: right;\n",
       "    }\n",
       "</style>\n",
       "<table border=\"1\" class=\"dataframe\">\n",
       "  <thead>\n",
       "    <tr style=\"text-align: right;\">\n",
       "      <th></th>\n",
       "      <th>date_fueled</th>\n",
       "      <th>date_captured</th>\n",
       "      <th>odometer</th>\n",
       "      <th>gallons</th>\n",
       "      <th>cost_per_gallon</th>\n",
       "      <th>total_spent</th>\n",
       "      <th>mpg</th>\n",
       "      <th>miles</th>\n",
       "      <th>user_url</th>\n",
       "      <th>total_spent_float</th>\n",
       "      <th>cost_per_gallon_float</th>\n",
       "      <th>Car make</th>\n",
       "      <th>model</th>\n",
       "      <th>year</th>\n",
       "      <th>User ID</th>\n",
       "      <th>litres filled</th>\n",
       "      <th>km driven</th>\n",
       "      <th>litres per 100 km</th>\n",
       "    </tr>\n",
       "  </thead>\n",
       "  <tbody>\n",
       "    <tr>\n",
       "      <th>116779</th>\n",
       "      <td>2005-01-02</td>\n",
       "      <td>Feb 19 2012</td>\n",
       "      <td>NaN</td>\n",
       "      <td>21.400</td>\n",
       "      <td>$0.000</td>\n",
       "      <td>$0.00</td>\n",
       "      <td>17.000000</td>\n",
       "      <td>363.799988</td>\n",
       "      <td>https://www.somewebsite.com/ford/f-350/1991/11...</td>\n",
       "      <td>0.000000</td>\n",
       "      <td>0.00</td>\n",
       "      <td>ford</td>\n",
       "      <td>f-350</td>\n",
       "      <td>1991</td>\n",
       "      <td>110399</td>\n",
       "      <td>80.999001</td>\n",
       "      <td>585.354187</td>\n",
       "      <td>13.836176</td>\n",
       "    </tr>\n",
       "    <tr>\n",
       "      <th>964318</th>\n",
       "      <td>2005-01-05</td>\n",
       "      <td>Jun 3 2020</td>\n",
       "      <td>95,556</td>\n",
       "      <td>8.982</td>\n",
       "      <td>Ft874</td>\n",
       "      <td>Ft7,854</td>\n",
       "      <td>35.700001</td>\n",
       "      <td>320.657410</td>\n",
       "      <td>https://www.somewebsite.com/mazda/323/1986/100...</td>\n",
       "      <td>7854.000000</td>\n",
       "      <td>874.00</td>\n",
       "      <td>mazda</td>\n",
       "      <td>323</td>\n",
       "      <td>1986</td>\n",
       "      <td>1008607</td>\n",
       "      <td>33.996872</td>\n",
       "      <td>515.937744</td>\n",
       "      <td>6.588655</td>\n",
       "    </tr>\n",
       "    <tr>\n",
       "      <th>341874</th>\n",
       "      <td>2005-01-06</td>\n",
       "      <td>Oct 11 2008</td>\n",
       "      <td>153,582</td>\n",
       "      <td>12.598</td>\n",
       "      <td>$1.990</td>\n",
       "      <td>$25.07</td>\n",
       "      <td>21.400000</td>\n",
       "      <td>269.597198</td>\n",
       "      <td>https://www.somewebsite.com/bmw/535i/1986/10501</td>\n",
       "      <td>25.070000</td>\n",
       "      <td>1.99</td>\n",
       "      <td>bmw</td>\n",
       "      <td>535i</td>\n",
       "      <td>1986</td>\n",
       "      <td>10501</td>\n",
       "      <td>47.683430</td>\n",
       "      <td>433.781891</td>\n",
       "      <td>10.991355</td>\n",
       "    </tr>\n",
       "    <tr>\n",
       "      <th>802421</th>\n",
       "      <td>2005-01-07</td>\n",
       "      <td>Jun 30 2015</td>\n",
       "      <td>97,166</td>\n",
       "      <td>14.532</td>\n",
       "      <td>£2.91</td>\n",
       "      <td>£42.30</td>\n",
       "      <td>22.600000</td>\n",
       "      <td>328.423187</td>\n",
       "      <td>https://www.somewebsite.com/ford/mondeo/1995/3...</td>\n",
       "      <td>42.299999</td>\n",
       "      <td>2.91</td>\n",
       "      <td>ford</td>\n",
       "      <td>mondeo</td>\n",
       "      <td>1995</td>\n",
       "      <td>373006</td>\n",
       "      <td>55.003620</td>\n",
       "      <td>528.432922</td>\n",
       "      <td>10.407743</td>\n",
       "    </tr>\n",
       "    <tr>\n",
       "      <th>187118</th>\n",
       "      <td>2005-01-09</td>\n",
       "      <td>Sep 16 2011</td>\n",
       "      <td>110,955</td>\n",
       "      <td>19.208</td>\n",
       "      <td>R0.00</td>\n",
       "      <td>R0.00</td>\n",
       "      <td>19.400000</td>\n",
       "      <td>372.635193</td>\n",
       "      <td>https://www.somewebsite.com/mercedes-benz/500s...</td>\n",
       "      <td>0.000000</td>\n",
       "      <td>0.00</td>\n",
       "      <td>mercedes-benz</td>\n",
       "      <td>500se</td>\n",
       "      <td>1990</td>\n",
       "      <td>63822</td>\n",
       "      <td>72.702286</td>\n",
       "      <td>599.570007</td>\n",
       "      <td>12.124485</td>\n",
       "    </tr>\n",
       "  </tbody>\n",
       "</table>\n",
       "</div>"
      ],
      "text/plain": [
       "       date_fueled date_captured  odometer  gallons cost_per_gallon  \\\n",
       "116779  2005-01-02   Feb 19 2012       NaN   21.400          $0.000   \n",
       "964318  2005-01-05    Jun 3 2020   95,556     8.982           Ft874   \n",
       "341874  2005-01-06   Oct 11 2008  153,582    12.598          $1.990   \n",
       "802421  2005-01-07   Jun 30 2015   97,166    14.532           £2.91   \n",
       "187118  2005-01-09   Sep 16 2011  110,955    19.208           R0.00   \n",
       "\n",
       "       total_spent        mpg       miles  \\\n",
       "116779       $0.00  17.000000  363.799988   \n",
       "964318     Ft7,854  35.700001  320.657410   \n",
       "341874      $25.07  21.400000  269.597198   \n",
       "802421      £42.30  22.600000  328.423187   \n",
       "187118       R0.00  19.400000  372.635193   \n",
       "\n",
       "                                                 user_url  total_spent_float  \\\n",
       "116779  https://www.somewebsite.com/ford/f-350/1991/11...           0.000000   \n",
       "964318  https://www.somewebsite.com/mazda/323/1986/100...        7854.000000   \n",
       "341874    https://www.somewebsite.com/bmw/535i/1986/10501          25.070000   \n",
       "802421  https://www.somewebsite.com/ford/mondeo/1995/3...          42.299999   \n",
       "187118  https://www.somewebsite.com/mercedes-benz/500s...           0.000000   \n",
       "\n",
       "        cost_per_gallon_float       Car make   model  year  User ID  \\\n",
       "116779                   0.00           ford   f-350  1991   110399   \n",
       "964318                 874.00          mazda     323  1986  1008607   \n",
       "341874                   1.99            bmw    535i  1986    10501   \n",
       "802421                   2.91           ford  mondeo  1995   373006   \n",
       "187118                   0.00  mercedes-benz   500se  1990    63822   \n",
       "\n",
       "        litres filled   km driven  litres per 100 km  \n",
       "116779      80.999001  585.354187          13.836176  \n",
       "964318      33.996872  515.937744           6.588655  \n",
       "341874      47.683430  433.781891          10.991355  \n",
       "802421      55.003620  528.432922          10.407743  \n",
       "187118      72.702286  599.570007          12.124485  "
      ]
     },
     "execution_count": 28,
     "metadata": {},
     "output_type": "execute_result"
    }
   ],
   "source": [
    "filtered_data.head()"
   ]
  },
  {
   "cell_type": "markdown",
   "metadata": {
    "cell_id": "9bfc9b910d18459eba63963440e32e10",
    "deepnote_cell_height": 70,
    "deepnote_cell_type": "markdown",
    "tags": []
   },
   "source": [
    "## 3 Vehicle Exploration"
   ]
  },
  {
   "cell_type": "markdown",
   "metadata": {
    "cell_id": "85bfe3bc8300496e973240f4dfd5ad2e",
    "deepnote_cell_height": 74.796875,
    "deepnote_cell_type": "markdown",
    "tags": []
   },
   "source": [
    "We first create a column with the different currencies to able to proxy the number of unique users per country"
   ]
  },
  {
   "cell_type": "code",
   "execution_count": 29,
   "metadata": {
    "cell_id": "48e8ba69cb294c3587ace0be6a169d89",
    "deepnote_cell_height": 338.984375,
    "deepnote_cell_type": "code",
    "deepnote_output_heights": [
     null,
     117.1875
    ],
    "deepnote_to_be_reexecuted": false,
    "execution_millis": 3414,
    "execution_start": 1652632991457,
    "source_hash": "c8bcef86",
    "tags": []
   },
   "outputs": [
    {
     "name": "stderr",
     "output_type": "stream",
     "text": [
      "C:\\Users\\rmnev\\AppData\\Local\\Temp\\ipykernel_17008\\3681894636.py:3: FutureWarning: The default value of regex will change from True to False in a future version.\n",
      "  filtered_data['currency'] = filtered_data['currency'].str.replace('\\d+', '')\n"
     ]
    },
    {
     "data": {
      "text/plain": [
       "116779     $.\n",
       "964318    Ft,\n",
       "341874     $.\n",
       "802421     £.\n",
       "187118     R.\n",
       "Name: currency, dtype: object"
      ]
     },
     "execution_count": 29,
     "metadata": {},
     "output_type": "execute_result"
    }
   ],
   "source": [
    "#creating the new currency only column\n",
    "filtered_data['currency'] = filtered_data['total_spent']\n",
    "filtered_data['currency'] = filtered_data['currency'].str.replace('\\d+', '')\n",
    "filtered_data['currency'].head()"
   ]
  },
  {
   "cell_type": "code",
   "execution_count": 30,
   "metadata": {
    "cell_id": "760315a3cb00461e9c0b1ee115ce47c6",
    "deepnote_cell_height": 232.1875,
    "deepnote_cell_type": "code",
    "deepnote_output_heights": [
     117.1875
    ],
    "deepnote_to_be_reexecuted": false,
    "execution_millis": 371,
    "execution_start": 1652632994884,
    "source_hash": "19a35e60",
    "tags": []
   },
   "outputs": [
    {
     "data": {
      "text/plain": [
       "$.      538457\n",
       "£.       70180\n",
       "€.       49321\n",
       "CA$.     34829\n",
       "R.       24257\n",
       "Name: currency, dtype: int64"
      ]
     },
     "execution_count": 30,
     "metadata": {},
     "output_type": "execute_result"
    }
   ],
   "source": [
    "#check the number of unique currencies\n",
    "filtered_data['currency'].value_counts().head(5)"
   ]
  },
  {
   "cell_type": "markdown",
   "metadata": {
    "cell_id": "1ce10b41e863499ea8d605441b2f7196",
    "deepnote_cell_height": 62,
    "deepnote_cell_type": "markdown",
    "tags": []
   },
   "source": [
    "### Plotting the number of unique users per country"
   ]
  },
  {
   "cell_type": "code",
   "execution_count": 31,
   "metadata": {
    "cell_id": "4dda32bcbb5747289f86507314dee454",
    "deepnote_cell_height": 588.1875,
    "deepnote_cell_type": "code",
    "deepnote_output_heights": [
     21.1875,
     349
    ],
    "deepnote_to_be_reexecuted": false,
    "execution_millis": 3657,
    "execution_start": 1652632995314,
    "source_hash": "96be5e08",
    "tags": []
   },
   "outputs": [
    {
     "data": {
      "text/plain": [
       "(0.0, 10.0)"
      ]
     },
     "execution_count": 31,
     "metadata": {},
     "output_type": "execute_result"
    },
    {
     "data": {
      "image/png": "[encoded data removed]",
      "text/plain": [
       "<Figure size 720x360 with 1 Axes>"
      ]
     },
     "metadata": {
      "needs_background": "light"
     },
     "output_type": "display_data"
    }
   ],
   "source": [
    "plt.figure(figsize=(10, 5))\n",
    "filtered_data['currency'].value_counts().plot.bar()\n",
    "plt.title(\"Unique users per country distribution\")\n",
    "plt.xlabel('currency')\n",
    "plt.ylabel('count')\n",
    "plt.xlim(0, 10)"
   ]
  },
  {
   "cell_type": "markdown",
   "metadata": {
    "cell_id": "3dc841d60a7c46a5883164cdfe6c5918",
    "deepnote_cell_height": 74.796875,
    "deepnote_cell_type": "markdown",
    "tags": []
   },
   "source": [
    "The graph above shows the number of unique users per country (proxied by currency)\n",
    "i.e we can see that most users are from the United States because the currency that is most used is the dollar US dollar ($)"
   ]
  },
  {
   "cell_type": "markdown",
   "metadata": {
    "cell_id": "3acee23755304ccfb62ae7ea411aa5c6",
    "deepnote_cell_height": 62,
    "deepnote_cell_type": "markdown",
    "deepnote_to_be_reexecuted": false,
    "execution_millis": 4,
    "execution_start": 1651381516115,
    "source_hash": "efa4b453",
    "tags": []
   },
   "source": [
    "### Plotting the number of unique users per day"
   ]
  },
  {
   "cell_type": "markdown",
   "metadata": {
    "cell_id": "53489f3e720844898d96c47400170e2d",
    "deepnote_cell_height": 74.796875,
    "deepnote_cell_type": "markdown",
    "deepnote_to_be_reexecuted": false,
    "execution_start": 1651399626379,
    "source_hash": "95c4c9f5",
    "tags": []
   },
   "source": [
    "We have to plot the number unique User ID vs date captured i.e how many people used/entered information per day."
   ]
  },
  {
   "cell_type": "code",
   "execution_count": 32,
   "metadata": {
    "cell_id": "8daa52601da04a86bef30542c06c9710",
    "deepnote_cell_height": 232.1875,
    "deepnote_cell_type": "code",
    "deepnote_output_heights": [
     117.1875
    ],
    "deepnote_to_be_reexecuted": false,
    "execution_millis": 471,
    "execution_start": 1652632998536,
    "source_hash": "682b9938",
    "tags": []
   },
   "outputs": [
    {
     "data": {
      "text/plain": [
       "Aug 31 2016    4017\n",
       "Mar 6 2017     3228\n",
       "Sep 1 2016     3117\n",
       "Aug 30 2016    1909\n",
       "Dec 23 2021    1839\n",
       "Name: date_captured, dtype: int64"
      ]
     },
     "execution_count": 32,
     "metadata": {},
     "output_type": "execute_result"
    }
   ],
   "source": [
    "#check the number of unique users \n",
    "filtered_data['date_captured'].value_counts().head()"
   ]
  },
  {
   "cell_type": "code",
   "execution_count": 33,
   "metadata": {
    "cell_id": "a1ea9c4b3df3446981b4f7bfb43fbae0",
    "deepnote_cell_height": 628.1875,
    "deepnote_cell_type": "code",
    "deepnote_output_heights": [
     21.1875,
     389
    ],
    "deepnote_to_be_reexecuted": false,
    "execution_millis": 25132,
    "execution_start": 1652632998924,
    "owner_user_id": "3cacd0c6-47e6-4620-9366-710fe07db93b",
    "source_hash": "fd95a1a9",
    "tags": []
   },
   "outputs": [
    {
     "data": {
      "text/plain": [
       "(0.0, 20.0)"
      ]
     },
     "execution_count": 33,
     "metadata": {},
     "output_type": "execute_result"
    },
    {
     "data": {
      "image/png": "[encoded data removed]",
      "text/plain": [
       "<Figure size 720x360 with 1 Axes>"
      ]
     },
     "metadata": {
      "needs_background": "light"
     },
     "output_type": "display_data"
    }
   ],
   "source": [
    "plt.figure(figsize=(10, 5))\n",
    "filtered_data['date_captured'].value_counts().plot.bar()\n",
    "plt.title(\"Relationship between the Number of users and Days\")\n",
    "plt.xlabel('Days')\n",
    "plt.ylabel('Number of Users')\n",
    "plt.xlim(0, 20)"
   ]
  },
  {
   "cell_type": "markdown",
   "metadata": {
    "cell_id": "0695486c245544e6842937f4979ffb37",
    "deepnote_cell_height": 62,
    "deepnote_cell_type": "markdown",
    "tags": []
   },
   "source": [
    "### Plotting the distribution of age of the vehicles per country"
   ]
  },
  {
   "cell_type": "code",
   "execution_count": 34,
   "metadata": {
    "cell_id": "c34151fa18ba47cd92240e9509c69206",
    "deepnote_cell_height": 664.1875,
    "deepnote_cell_type": "code",
    "deepnote_output_heights": [
     21.1875,
     335
    ],
    "deepnote_to_be_reexecuted": false,
    "execution_millis": 5298,
    "execution_start": 1652633024224,
    "source_hash": "f6e6331a",
    "tags": []
   },
   "outputs": [
    {
     "data": {
      "text/plain": [
       "(10.0, 0.0)"
      ]
     },
     "execution_count": 34,
     "metadata": {},
     "output_type": "execute_result"
    },
    {
     "data": {
      "image/png": "[encoded data removed]",
      "text/plain": [
       "<Figure size 720x360 with 1 Axes>"
      ]
     },
     "metadata": {
      "needs_background": "light"
     },
     "output_type": "display_data"
    }
   ],
   "source": [
    "plt.figure(figsize=(10, 5))\n",
    "\n",
    "\n",
    "plot_distrubution_x = filtered_data[(filtered_data.year.notnull())]['year'][:1000]\n",
    "plot_distribution_y = filtered_data[(filtered_data.currency.notnull())]['currency'][:1000]\n",
    "\n",
    "plt.bar(plot_distrubution_x,plot_distribution_y, label=\"year vs currency\")\n",
    "plt.title(\"Relationship between age of vehicles and country\")\n",
    "plt.xlabel('Year(Age)')\n",
    "plt.ylabel('Currency (country)')\n",
    "plt.xlim(10, 0)"
   ]
  },
  {
   "cell_type": "markdown",
   "metadata": {
    "cell_id": "bf2ed5485b134ddaa655f5cfd94dd2b0",
    "deepnote_cell_height": 74.796875,
    "deepnote_cell_type": "markdown",
    "tags": []
   },
   "source": [
    "The plot shows the distribution of age (year it was purchased) of the vehicles per country, where the currency denotes the country"
   ]
  },
  {
   "cell_type": "markdown",
   "metadata": {
    "cell_id": "26153ee0073b4851824612cc01b38d9b",
    "deepnote_cell_height": 62,
    "deepnote_cell_type": "markdown",
    "tags": []
   },
   "source": [
    "### Plotting the most popular car make and model"
   ]
  },
  {
   "cell_type": "markdown",
   "metadata": {
    "cell_id": "e49a3d05a1a84179b880cfbbccbcb9dc",
    "deepnote_cell_height": 52.390625,
    "deepnote_cell_type": "markdown",
    "tags": []
   },
   "source": [
    "The above plot shows number of unique users per day"
   ]
  },
  {
   "cell_type": "code",
   "execution_count": 35,
   "metadata": {
    "cell_id": "975831324c7a4b6e98dc68ff8fe528df",
    "deepnote_cell_height": 622.1875,
    "deepnote_cell_type": "code",
    "deepnote_output_heights": [
     21.1875,
     401
    ],
    "deepnote_to_be_reexecuted": false,
    "execution_millis": 390,
    "execution_start": 1652633029788,
    "source_hash": "ca010d92",
    "tags": []
   },
   "outputs": [
    {
     "data": {
      "text/plain": [
       "(0.0, 20.0)"
      ]
     },
     "execution_count": 35,
     "metadata": {},
     "output_type": "execute_result"
    },
    {
     "data": {
      "image/png": "[encoded data removed]",
      "text/plain": [
       "<Figure size 720x360 with 1 Axes>"
      ]
     },
     "metadata": {
      "needs_background": "light"
     },
     "output_type": "display_data"
    }
   ],
   "source": [
    "plt.figure(figsize=(10, 5))\n",
    "filtered_data['Car make'].value_counts().plot.bar()\n",
    "plt.title(\"Most popular car make distribution\")\n",
    "plt.xlabel('Car make')\n",
    "plt.xlim(0, 20)"
   ]
  },
  {
   "cell_type": "markdown",
   "metadata": {
    "cell_id": "4f42b838098f495d960527ce8caf1e5c",
    "deepnote_cell_height": 52.390625,
    "deepnote_cell_type": "markdown",
    "tags": []
   },
   "source": [
    "The above plot shows that Ford is the most popular car make"
   ]
  },
  {
   "cell_type": "code",
   "execution_count": 36,
   "metadata": {
    "cell_id": "c490ec34590e42cc9a55ca802266dd56",
    "deepnote_cell_height": 607.1875,
    "deepnote_cell_type": "code",
    "deepnote_output_heights": [
     21.1875,
     386
    ],
    "deepnote_to_be_reexecuted": false,
    "execution_millis": 9980,
    "execution_start": 1652633030475,
    "source_hash": "500c4df",
    "tags": []
   },
   "outputs": [
    {
     "data": {
      "text/plain": [
       "(0.0, 20.0)"
      ]
     },
     "execution_count": 36,
     "metadata": {},
     "output_type": "execute_result"
    },
    {
     "data": {
      "image/png": "[encoded data removed]",
      "text/plain": [
       "<Figure size 720x360 with 1 Axes>"
      ]
     },
     "metadata": {
      "needs_background": "light"
     },
     "output_type": "display_data"
    }
   ],
   "source": [
    "plt.figure(figsize=(10, 5))\n",
    "filtered_data['model'].value_counts().plot.bar()\n",
    "plt.title(\"Most popular car model distribution\")\n",
    "plt.xlabel('model')\n",
    "plt.xlim(0, 20)"
   ]
  },
  {
   "cell_type": "markdown",
   "metadata": {
    "cell_id": "d7a69e40b84b4de38c7f17ea8b3c44b4",
    "deepnote_cell_height": 52.390625,
    "deepnote_cell_type": "markdown",
    "tags": []
   },
   "source": [
    "The above plot shows that the Land Cruiser is the most popular car model"
   ]
  },
  {
   "cell_type": "markdown",
   "metadata": {
    "cell_id": "8c4c4518e84c438f88fbece33d786a78",
    "deepnote_cell_height": 70,
    "deepnote_cell_type": "markdown",
    "tags": []
   },
   "source": [
    "## 4 Fuel Usage"
   ]
  },
  {
   "cell_type": "markdown",
   "metadata": {
    "cell_id": "5ac9db6557a044fd8f588a8b040f4f05",
    "deepnote_cell_height": 62,
    "deepnote_cell_type": "markdown",
    "tags": []
   },
   "source": [
    "### 4.1 Outlier Removal"
   ]
  },
  {
   "cell_type": "code",
   "execution_count": 37,
   "metadata": {
    "cell_id": "08fc1ce3b1924049a9ad5ee6d7f00288",
    "deepnote_cell_height": 232.1875,
    "deepnote_cell_type": "code",
    "deepnote_output_heights": [
     117.1875
    ],
    "deepnote_to_be_reexecuted": false,
    "execution_millis": 340,
    "execution_start": 1652633040461,
    "source_hash": "de51f41b",
    "tags": []
   },
   "outputs": [
    {
     "data": {
      "text/plain": [
       "$.      538457\n",
       "£.       70180\n",
       "€.       49321\n",
       "CA$.     34829\n",
       "R.       24257\n",
       "Name: currency, dtype: int64"
      ]
     },
     "execution_count": 37,
     "metadata": {},
     "output_type": "execute_result"
    }
   ],
   "source": [
    "#We identify the top 5 currencies using total spent\n",
    "filtered_data['currency'].value_counts().head()"
   ]
  },
  {
   "cell_type": "markdown",
   "metadata": {
    "cell_id": "774f07dfe9e74b849a65cc239a6eddbd",
    "deepnote_cell_height": 52.390625,
    "deepnote_cell_type": "markdown",
    "tags": []
   },
   "source": [
    "The top 5 currencies by number of transactions are: Dollar, Pound ,Euro,Canadian Dollar and Rand\n"
   ]
  },
  {
   "cell_type": "markdown",
   "metadata": {
    "cell_id": "aced63bc1f2f4501ab449f43d598c57b",
    "deepnote_cell_height": 70,
    "deepnote_cell_type": "markdown",
    "tags": []
   },
   "source": [
    "## Outlier Detection & Removal"
   ]
  },
  {
   "cell_type": "markdown",
   "metadata": {
    "cell_id": "1164cd8bc3b4413c9bed27cf19cbff8e",
    "deepnote_cell_height": 119.59375,
    "deepnote_cell_type": "markdown",
    "tags": []
   },
   "source": [
    "We utilize a boxplot to visualize and detect the outliers for each of the top 5 currencies.\n",
    "Boxplot summarizes sample data using 25th, 50th, and 75th percentiles. One can just get insights(quartiles, median, and outliers) into the dataset by just looking at its boxplot. We will then remove outliers by considering the total spend, litres, cost per litre, gallons, etc"
   ]
  },
  {
   "cell_type": "markdown",
   "metadata": {
    "cell_id": "104de1f40738459b802d6fb8b0d61423",
    "deepnote_cell_height": 70,
    "deepnote_cell_type": "markdown",
    "tags": []
   },
   "source": [
    "## Rand (R) - Outlier removal"
   ]
  },
  {
   "cell_type": "code",
   "execution_count": 38,
   "metadata": {
    "cell_id": "532df25162bc465e94eb2777ec6ce74e",
    "deepnote_cell_height": 172.1875,
    "deepnote_cell_type": "code",
    "deepnote_output_heights": [
     21.1875
    ],
    "deepnote_to_be_reexecuted": false,
    "execution_millis": 202,
    "execution_start": 1652633040796,
    "source_hash": "e5217b24",
    "tags": []
   },
   "outputs": [
    {
     "data": {
      "text/plain": [
       "(24257, 19)"
      ]
     },
     "execution_count": 38,
     "metadata": {},
     "output_type": "execute_result"
    }
   ],
   "source": [
    "#removing Rand (R) outliers\n",
    "rand = filtered_data.loc[filtered_data['currency'] == 'R.']\n",
    "#Old shape\n",
    "rand.shape"
   ]
  },
  {
   "cell_type": "code",
   "execution_count": 39,
   "metadata": {
    "cell_id": "00095-73491e4b-0143-4cac-a3a9-3887d49854b5",
    "deepnote_cell_height": 431.1875,
    "deepnote_cell_type": "code",
    "deepnote_output_heights": [
     21.1875,
     264
    ],
    "deepnote_to_be_reexecuted": false,
    "execution_millis": 215,
    "execution_start": 1652633041011,
    "source_hash": "7db9a881"
   },
   "outputs": [
    {
     "data": {
      "text/plain": [
       "<AxesSubplot:xlabel='gallons'>"
      ]
     },
     "execution_count": 39,
     "metadata": {},
     "output_type": "execute_result"
    },
    {
     "data": {
      "image/png": "[encoded data removed]",
      "text/plain": [
       "<Figure size 432x288 with 1 Axes>"
      ]
     },
     "metadata": {
      "needs_background": "light"
     },
     "output_type": "display_data"
    }
   ],
   "source": [
    "#Rand outlier visualization\n",
    "sns.boxplot(x=rand['gallons'])"
   ]
  },
  {
   "cell_type": "markdown",
   "metadata": {
    "cell_id": "85e5d2c6096f46d989e92fb005ac9b4e",
    "deepnote_cell_height": 52.390625,
    "deepnote_cell_type": "markdown",
    "tags": []
   },
   "source": [
    "#Outlier removal \n",
    "rand = rand.drop(rand[(rand['gallons'] > 22)].index)"
   ]
  },
  {
   "cell_type": "code",
   "execution_count": 40,
   "metadata": {
    "cell_id": "00097-fce71edf-f1c2-46f0-abd0-ba73c7e5c862",
    "deepnote_cell_height": 431.1875,
    "deepnote_cell_type": "code",
    "deepnote_output_heights": [
     21.1875,
     264
    ],
    "deepnote_to_be_reexecuted": false,
    "execution_millis": 210,
    "execution_start": 1652633041230,
    "source_hash": "442c2952"
   },
   "outputs": [
    {
     "data": {
      "text/plain": [
       "<AxesSubplot:xlabel='mpg'>"
      ]
     },
     "execution_count": 40,
     "metadata": {},
     "output_type": "execute_result"
    },
    {
     "data": {
      "image/png": "[encoded data removed]",
      "text/plain": [
       "<Figure size 432x288 with 1 Axes>"
      ]
     },
     "metadata": {
      "needs_background": "light"
     },
     "output_type": "display_data"
    }
   ],
   "source": [
    "#Outlier visualization\n",
    "sns.boxplot(x=rand['mpg'])"
   ]
  },
  {
   "cell_type": "code",
   "execution_count": 41,
   "metadata": {
    "cell_id": "9bbba1eae57d429986cae62a6d944d97",
    "deepnote_cell_height": 99,
    "deepnote_cell_type": "code",
    "deepnote_to_be_reexecuted": false,
    "execution_millis": 21,
    "execution_start": 1652633041445,
    "source_hash": "8b1f3ca1",
    "tags": []
   },
   "outputs": [],
   "source": [
    "#Outlier removal\n",
    "rand = rand.drop(rand[(rand['mpg'] > 50)].index)"
   ]
  },
  {
   "cell_type": "code",
   "execution_count": 42,
   "metadata": {
    "cell_id": "94bafca1fc7c4ad7b4842332809ba397",
    "deepnote_cell_height": 431.1875,
    "deepnote_cell_type": "code",
    "deepnote_output_heights": [
     21.1875,
     264
    ],
    "deepnote_to_be_reexecuted": false,
    "execution_millis": 176,
    "execution_start": 1652633041534,
    "source_hash": "7f2506d7",
    "tags": []
   },
   "outputs": [
    {
     "data": {
      "text/plain": [
       "<AxesSubplot:xlabel='miles'>"
      ]
     },
     "execution_count": 42,
     "metadata": {},
     "output_type": "execute_result"
    },
    {
     "data": {
      "image/png": "[encoded data removed]",
      "text/plain": [
       "<Figure size 432x288 with 1 Axes>"
      ]
     },
     "metadata": {
      "needs_background": "light"
     },
     "output_type": "display_data"
    }
   ],
   "source": [
    "#Outlier visualization\n",
    "sns.boxplot(x=rand['miles'])"
   ]
  },
  {
   "cell_type": "code",
   "execution_count": 43,
   "metadata": {
    "cell_id": "82114fe939db4af68df83a7ce97bce3c",
    "deepnote_cell_height": 117,
    "deepnote_cell_type": "code",
    "deepnote_to_be_reexecuted": false,
    "execution_millis": 0,
    "execution_start": 1652633041706,
    "source_hash": "eb1b9f97",
    "tags": []
   },
   "outputs": [],
   "source": [
    "#Outlier removal \n",
    "rand = rand.drop(rand[(rand['miles'] > 665)].index)\n"
   ]
  },
  {
   "cell_type": "code",
   "execution_count": 44,
   "metadata": {
    "cell_id": "00101-fbed2429-7c39-4e1e-9e3c-2cb2ca4e9a3d",
    "deepnote_cell_height": 432.1875,
    "deepnote_cell_type": "code",
    "deepnote_output_heights": [
     21.1875,
     265
    ],
    "deepnote_to_be_reexecuted": false,
    "execution_millis": 253,
    "execution_start": 1652633041723,
    "source_hash": "2bc0a59"
   },
   "outputs": [
    {
     "data": {
      "text/plain": [
       "<AxesSubplot:xlabel='cost_per_gallon_float'>"
      ]
     },
     "execution_count": 44,
     "metadata": {},
     "output_type": "execute_result"
    },
    {
     "data": {
      "image/png": "[encoded data removed]",
      "text/plain": [
       "<Figure size 432x288 with 1 Axes>"
      ]
     },
     "metadata": {
      "needs_background": "light"
     },
     "output_type": "display_data"
    }
   ],
   "source": [
    "#Outlier visualization\n",
    "sns.boxplot(x=rand['cost_per_gallon_float'])"
   ]
  },
  {
   "cell_type": "code",
   "execution_count": 45,
   "metadata": {
    "cell_id": "00102-75b45f0c-9603-405f-88d9-c0cd56a15f5f",
    "deepnote_cell_height": 135,
    "deepnote_cell_type": "code",
    "deepnote_to_be_reexecuted": false,
    "execution_millis": 49,
    "execution_start": 1652633041975,
    "source_hash": "f5a65d9d"
   },
   "outputs": [],
   "source": [
    "#Outlier removal \n",
    "rand = rand.drop(rand[(rand['cost_per_gallon_float'] > 70)].index)\n",
    "rand = rand.drop(rand[(rand['cost_per_gallon_float'] < 32)].index)\n"
   ]
  },
  {
   "cell_type": "code",
   "execution_count": 46,
   "metadata": {
    "cell_id": "00103-536cdcf0-f910-4203-8dc0-33b044962cec",
    "deepnote_cell_height": 431.1875,
    "deepnote_cell_type": "code",
    "deepnote_output_heights": [
     21.1875,
     264
    ],
    "deepnote_to_be_reexecuted": false,
    "execution_millis": 269,
    "execution_start": 1652633042028,
    "source_hash": "83e8ae5c"
   },
   "outputs": [
    {
     "data": {
      "text/plain": [
       "<AxesSubplot:xlabel='litres filled'>"
      ]
     },
     "execution_count": 46,
     "metadata": {},
     "output_type": "execute_result"
    },
    {
     "data": {
      "image/png": "[encoded data removed]",
      "text/plain": [
       "<Figure size 432x288 with 1 Axes>"
      ]
     },
     "metadata": {
      "needs_background": "light"
     },
     "output_type": "display_data"
    }
   ],
   "source": [
    "#Outlier visualization\n",
    "sns.boxplot(x=rand['litres filled'])"
   ]
  },
  {
   "cell_type": "code",
   "execution_count": 47,
   "metadata": {
    "cell_id": "00104-06cb09f0-7af4-4abf-a092-3340ccf2fcea",
    "deepnote_cell_height": 99,
    "deepnote_cell_type": "code",
    "deepnote_to_be_reexecuted": false,
    "execution_millis": 33,
    "execution_start": 1652633042265,
    "source_hash": "64683256"
   },
   "outputs": [],
   "source": [
    "#Outlier removal\n",
    "rand = rand.drop(rand[(rand['litres filled'] > 86)].index)"
   ]
  },
  {
   "cell_type": "code",
   "execution_count": 48,
   "metadata": {
    "cell_id": "00105-17a31aca-5cad-41c9-b823-f13741f8a7ac",
    "deepnote_cell_height": 431.1875,
    "deepnote_cell_type": "code",
    "deepnote_output_heights": [
     21.1875,
     264
    ],
    "deepnote_to_be_reexecuted": false,
    "execution_millis": 697,
    "execution_start": 1652633042301,
    "source_hash": "46f8816f"
   },
   "outputs": [
    {
     "data": {
      "text/plain": [
       "<AxesSubplot:xlabel='km driven'>"
      ]
     },
     "execution_count": 48,
     "metadata": {},
     "output_type": "execute_result"
    },
    {
     "data": {
      "image/png": "[encoded data removed]",
      "text/plain": [
       "<Figure size 432x288 with 1 Axes>"
      ]
     },
     "metadata": {
      "needs_background": "light"
     },
     "output_type": "display_data"
    }
   ],
   "source": [
    "#Outlier visualization\n",
    "sns.boxplot(x=rand['km driven'])"
   ]
  },
  {
   "cell_type": "code",
   "execution_count": 49,
   "metadata": {
    "cell_id": "00106-f3dd49ae-36cf-4ff0-9aae-89da8f957069",
    "deepnote_cell_height": 99,
    "deepnote_cell_type": "code",
    "deepnote_to_be_reexecuted": false,
    "execution_millis": 36,
    "execution_start": 1652633042534,
    "source_hash": "d4d99a49"
   },
   "outputs": [],
   "source": [
    "#Outlier removal \n",
    "rand = rand.drop(rand[(rand['km driven'] > 1000)].index)"
   ]
  },
  {
   "cell_type": "code",
   "execution_count": 50,
   "metadata": {
    "cell_id": "00107-edcb5684-7fc7-45ed-90a8-b5eb015da4ce",
    "deepnote_cell_height": 431.1875,
    "deepnote_cell_type": "code",
    "deepnote_output_heights": [
     21.1875,
     264
    ],
    "deepnote_to_be_reexecuted": false,
    "execution_millis": 488,
    "execution_start": 1652633042572,
    "source_hash": "d982898b"
   },
   "outputs": [
    {
     "data": {
      "text/plain": [
       "<AxesSubplot:xlabel='litres per 100 km'>"
      ]
     },
     "execution_count": 50,
     "metadata": {},
     "output_type": "execute_result"
    },
    {
     "data": {
      "image/png": "[encoded data removed]",
      "text/plain": [
       "<Figure size 432x288 with 1 Axes>"
      ]
     },
     "metadata": {
      "needs_background": "light"
     },
     "output_type": "display_data"
    }
   ],
   "source": [
    "#Outlier visualization\n",
    "sns.boxplot(x=rand['litres per 100 km'])"
   ]
  },
  {
   "cell_type": "code",
   "execution_count": 51,
   "metadata": {
    "cell_id": "00108-5c17c4bb-f81e-495b-ad86-25f8872086bf",
    "deepnote_cell_height": 117,
    "deepnote_cell_type": "code",
    "deepnote_to_be_reexecuted": false,
    "execution_millis": 19,
    "execution_start": 1652633042857,
    "source_hash": "e94b2685"
   },
   "outputs": [],
   "source": [
    "#Outlier removal\n",
    "rand = rand.drop(rand[(rand['litres per 100 km'] > 15)].index)\n",
    "rand = rand.drop(rand[(rand['litres per 100 km'] < 3)].index)"
   ]
  },
  {
   "cell_type": "code",
   "execution_count": 52,
   "metadata": {
    "cell_id": "00109-521f7ea5-64cb-41e3-9d9d-4d1a19c0873e",
    "deepnote_cell_height": 136.1875,
    "deepnote_cell_type": "code",
    "deepnote_output_heights": [
     21.1875
    ],
    "deepnote_to_be_reexecuted": false,
    "execution_millis": 135,
    "execution_start": 1652633042926,
    "source_hash": "2e2a3140"
   },
   "outputs": [
    {
     "data": {
      "text/plain": [
       "(16727, 19)"
      ]
     },
     "execution_count": 52,
     "metadata": {},
     "output_type": "execute_result"
    }
   ],
   "source": [
    "#new shape\n",
    "rand.shape"
   ]
  },
  {
   "cell_type": "markdown",
   "metadata": {
    "cell_id": "00110-344d1eb2-ea39-4e80-8b57-2b6cf8e42aca",
    "deepnote_cell_height": 52.390625,
    "deepnote_cell_type": "markdown"
   },
   "source": [
    "The outliers for the Rand have been visualized and removed."
   ]
  },
  {
   "cell_type": "markdown",
   "metadata": {
    "cell_id": "266f2dc5b3a245b2b6e4014facb91bce",
    "deepnote_cell_height": 70,
    "deepnote_cell_type": "markdown",
    "tags": []
   },
   "source": [
    "## Pound (£) - Outlier removal"
   ]
  },
  {
   "cell_type": "code",
   "execution_count": 53,
   "metadata": {
    "cell_id": "00113-31791a17-cc01-4aea-b1ec-a29d39514f3b",
    "deepnote_cell_height": 172.1875,
    "deepnote_cell_type": "code",
    "deepnote_output_heights": [
     21.1875
    ],
    "deepnote_to_be_reexecuted": false,
    "execution_millis": 69,
    "execution_start": 1652633042994,
    "source_hash": "b9627806"
   },
   "outputs": [
    {
     "data": {
      "text/plain": [
       "(70180, 19)"
      ]
     },
     "execution_count": 53,
     "metadata": {},
     "output_type": "execute_result"
    }
   ],
   "source": [
    "#removing Rand (R) outliers\n",
    "pound = filtered_data.loc[filtered_data['currency'] == '£.']\n",
    "#Old shape\n",
    "pound.shape"
   ]
  },
  {
   "cell_type": "code",
   "execution_count": 54,
   "metadata": {
    "cell_id": "0d43dedcf06a4ab7a1c7cea474d6bb58",
    "deepnote_cell_height": 431.1875,
    "deepnote_cell_type": "code",
    "deepnote_output_heights": [
     21.1875,
     264
    ],
    "deepnote_to_be_reexecuted": false,
    "execution_millis": 224,
    "execution_start": 1652633043084,
    "source_hash": "7ef431e6",
    "tags": []
   },
   "outputs": [
    {
     "data": {
      "text/plain": [
       "<AxesSubplot:xlabel='gallons'>"
      ]
     },
     "execution_count": 54,
     "metadata": {},
     "output_type": "execute_result"
    },
    {
     "data": {
      "image/png": "[encoded data removed]",
      "text/plain": [
       "<Figure size 432x288 with 1 Axes>"
      ]
     },
     "metadata": {
      "needs_background": "light"
     },
     "output_type": "display_data"
    }
   ],
   "source": [
    "#Pound outlier visualization\n",
    "sns.boxplot(x=pound['gallons'])"
   ]
  },
  {
   "cell_type": "code",
   "execution_count": 55,
   "metadata": {
    "cell_id": "00115-050c7701-3a20-4e11-aecb-f99c9205857c",
    "deepnote_cell_height": 99,
    "deepnote_cell_type": "code",
    "deepnote_to_be_reexecuted": false,
    "execution_millis": 37,
    "execution_start": 1652633043307,
    "source_hash": "2071559b"
   },
   "outputs": [],
   "source": [
    "#Outlier removal\n",
    "pound = pound.drop(pound[(pound['gallons'] > 22)].index)"
   ]
  },
  {
   "cell_type": "code",
   "execution_count": 56,
   "metadata": {
    "cell_id": "00116-4bc9d588-f8ab-4b9b-b273-c2e16b8b800d",
    "deepnote_cell_height": 431.1875,
    "deepnote_cell_type": "code",
    "deepnote_output_heights": [
     21.1875,
     264
    ],
    "deepnote_to_be_reexecuted": false,
    "execution_millis": 275,
    "execution_start": 1652633043357,
    "source_hash": "4aeb3e34"
   },
   "outputs": [
    {
     "data": {
      "text/plain": [
       "<AxesSubplot:xlabel='mpg'>"
      ]
     },
     "execution_count": 56,
     "metadata": {},
     "output_type": "execute_result"
    },
    {
     "data": {
      "image/png": "[encoded data removed]",
      "text/plain": [
       "<Figure size 432x288 with 1 Axes>"
      ]
     },
     "metadata": {
      "needs_background": "light"
     },
     "output_type": "display_data"
    }
   ],
   "source": [
    "#Outlier visualization\n",
    "sns.boxplot(x=pound['mpg'])"
   ]
  },
  {
   "cell_type": "code",
   "execution_count": 57,
   "metadata": {
    "cell_id": "00117-dc7eddf8-47d2-474e-9a28-f208365300f5",
    "deepnote_cell_height": 117,
    "deepnote_cell_type": "code",
    "deepnote_to_be_reexecuted": false,
    "execution_millis": 1,
    "execution_start": 1652633043682,
    "source_hash": "6cd3c2ba"
   },
   "outputs": [],
   "source": [
    "#Outlier removal\n",
    "pound = pound.drop(pound[(pound['mpg'] > 50)].index)\n"
   ]
  },
  {
   "cell_type": "code",
   "execution_count": 58,
   "metadata": {
    "cell_id": "00118-fa655999-9cd3-4905-8241-1fdf53fba5f6",
    "deepnote_cell_height": 431.1875,
    "deepnote_cell_type": "code",
    "deepnote_output_heights": [
     21.1875,
     264
    ],
    "deepnote_to_be_reexecuted": false,
    "execution_millis": 262,
    "execution_start": 1652633043702,
    "source_hash": "bbec1354"
   },
   "outputs": [
    {
     "data": {
      "text/plain": [
       "<AxesSubplot:xlabel='miles'>"
      ]
     },
     "execution_count": 58,
     "metadata": {},
     "output_type": "execute_result"
    },
    {
     "data": {
      "image/png": "[encoded data removed]",
      "text/plain": [
       "<Figure size 432x288 with 1 Axes>"
      ]
     },
     "metadata": {
      "needs_background": "light"
     },
     "output_type": "display_data"
    }
   ],
   "source": [
    "#Outlier visualization\n",
    "sns.boxplot(x=pound['miles'])"
   ]
  },
  {
   "cell_type": "code",
   "execution_count": 59,
   "metadata": {
    "cell_id": "00119-bde61208-17c6-4b55-ba8a-922743108595",
    "deepnote_cell_height": 99,
    "deepnote_cell_type": "code",
    "deepnote_to_be_reexecuted": false,
    "execution_millis": 61,
    "execution_start": 1652633043968,
    "source_hash": "d1c6c7ed"
   },
   "outputs": [],
   "source": [
    "#Outlier removal\n",
    "pound = pound.drop(pound[(pound['miles'] > 700)].index)"
   ]
  },
  {
   "cell_type": "code",
   "execution_count": 60,
   "metadata": {
    "cell_id": "00120-8294ea89-486d-462f-a8a9-462bd53d3258",
    "deepnote_cell_height": 432.1875,
    "deepnote_cell_type": "code",
    "deepnote_output_heights": [
     21.1875,
     265
    ],
    "deepnote_to_be_reexecuted": false,
    "execution_millis": 293,
    "execution_start": 1652633044035,
    "source_hash": "66bfe033"
   },
   "outputs": [
    {
     "data": {
      "text/plain": [
       "<AxesSubplot:xlabel='total_spent_float'>"
      ]
     },
     "execution_count": 60,
     "metadata": {},
     "output_type": "execute_result"
    },
    {
     "data": {
      "image/png": "[encoded data removed]",
      "text/plain": [
       "<Figure size 432x288 with 1 Axes>"
      ]
     },
     "metadata": {
      "needs_background": "light"
     },
     "output_type": "display_data"
    }
   ],
   "source": [
    "#Outlier visualization\n",
    "sns.boxplot(x=pound['total_spent_float'])"
   ]
  },
  {
   "cell_type": "code",
   "execution_count": 61,
   "metadata": {
    "cell_id": "00121-ded034af-1cec-4b8d-9f0f-6f1accf4945d",
    "deepnote_cell_height": 99,
    "deepnote_cell_type": "code",
    "deepnote_to_be_reexecuted": false,
    "execution_millis": 29,
    "execution_start": 1652633044327,
    "source_hash": "27da9db0"
   },
   "outputs": [],
   "source": [
    "#Outlier removal\n",
    "pound = pound.drop(pound[(pound['total_spent_float'] > 100)].index)"
   ]
  },
  {
   "cell_type": "code",
   "execution_count": 62,
   "metadata": {
    "cell_id": "00122-7cc66ea5-4220-4245-8ecb-d2d89a6c2a63",
    "deepnote_cell_height": 432.1875,
    "deepnote_cell_type": "code",
    "deepnote_output_heights": [
     null,
     265
    ],
    "deepnote_to_be_reexecuted": false,
    "execution_millis": 261,
    "execution_start": 1652633044361,
    "source_hash": "91e4de87"
   },
   "outputs": [
    {
     "data": {
      "text/plain": [
       "<AxesSubplot:xlabel='cost_per_gallon_float'>"
      ]
     },
     "execution_count": 62,
     "metadata": {},
     "output_type": "execute_result"
    },
    {
     "data": {
      "image/png": "[encoded data removed]",
      "text/plain": [
       "<Figure size 432x288 with 1 Axes>"
      ]
     },
     "metadata": {
      "needs_background": "light"
     },
     "output_type": "display_data"
    }
   ],
   "source": [
    "#Outlier visualization\n",
    "sns.boxplot(x=pound['cost_per_gallon_float'])"
   ]
  },
  {
   "cell_type": "code",
   "execution_count": 63,
   "metadata": {
    "cell_id": "00123-9c9a3cea-2b0d-4ac7-b441-5a105636863c",
    "deepnote_cell_height": 117,
    "deepnote_cell_type": "code",
    "deepnote_to_be_reexecuted": false,
    "execution_millis": 122,
    "execution_start": 1652633044631,
    "source_hash": "a18aeba8"
   },
   "outputs": [],
   "source": [
    "#Outlier removal\n",
    "pound = pound.drop(pound[(pound['cost_per_gallon_float'] > 6)].index)\n",
    "pound = pound.drop(pound[(pound['cost_per_gallon_float'] < 3.5)].index)"
   ]
  },
  {
   "cell_type": "code",
   "execution_count": 64,
   "metadata": {
    "cell_id": "00124-c1e6fa00-8ffb-4b89-aa75-2ba0243297f9",
    "deepnote_cell_height": 431.1875,
    "deepnote_cell_type": "code",
    "deepnote_output_heights": [
     21.1875,
     264
    ],
    "deepnote_to_be_reexecuted": false,
    "execution_millis": 260,
    "execution_start": 1652633044760,
    "source_hash": "394c86f"
   },
   "outputs": [
    {
     "data": {
      "text/plain": [
       "<AxesSubplot:xlabel='km driven'>"
      ]
     },
     "execution_count": 64,
     "metadata": {},
     "output_type": "execute_result"
    },
    {
     "data": {
      "image/png": "[encoded data removed]",
      "text/plain": [
       "<Figure size 432x288 with 1 Axes>"
      ]
     },
     "metadata": {
      "needs_background": "light"
     },
     "output_type": "display_data"
    }
   ],
   "source": [
    "#Outlier visualization\n",
    "sns.boxplot(x=pound['km driven'])"
   ]
  },
  {
   "cell_type": "code",
   "execution_count": 65,
   "metadata": {
    "cell_id": "00125-c5cda72d-678c-4da7-9da0-5d8e720259d1",
    "deepnote_cell_height": 81,
    "deepnote_cell_type": "code",
    "deepnote_to_be_reexecuted": false,
    "execution_millis": 52,
    "execution_start": 1652633045028,
    "source_hash": "2601b740"
   },
   "outputs": [],
   "source": [
    "pound = pound.drop(pound[(pound['km driven'] > 1200)].index)"
   ]
  },
  {
   "cell_type": "code",
   "execution_count": 66,
   "metadata": {
    "cell_id": "00126-f647cda7-3229-460d-8323-f575a414eaba",
    "deepnote_cell_height": 431.1875,
    "deepnote_cell_type": "code",
    "deepnote_output_heights": [
     21.1875,
     264
    ],
    "deepnote_to_be_reexecuted": false,
    "execution_millis": 661,
    "execution_start": 1652633045083,
    "source_hash": "3a4324d"
   },
   "outputs": [
    {
     "data": {
      "text/plain": [
       "<AxesSubplot:xlabel='litres per 100 km'>"
      ]
     },
     "execution_count": 66,
     "metadata": {},
     "output_type": "execute_result"
    },
    {
     "data": {
      "image/png": "[encoded data removed]",
      "text/plain": [
       "<Figure size 432x288 with 1 Axes>"
      ]
     },
     "metadata": {
      "needs_background": "light"
     },
     "output_type": "display_data"
    }
   ],
   "source": [
    "#Outlier visualization\n",
    "sns.boxplot(x=pound['litres per 100 km'])"
   ]
  },
  {
   "cell_type": "code",
   "execution_count": 67,
   "metadata": {
    "cell_id": "00127-a3287b4a-210d-438e-bf89-1c76497b120e",
    "deepnote_cell_height": 99,
    "deepnote_cell_type": "code",
    "deepnote_to_be_reexecuted": false,
    "execution_millis": 98,
    "execution_start": 1652633045339,
    "source_hash": "e939b07e"
   },
   "outputs": [],
   "source": [
    "pound = pound.drop(pound[(pound['litres per 100 km'] > 12)].index)\n",
    "pound = pound.drop(pound[(pound['litres per 100 km'] < 2)].index)"
   ]
  },
  {
   "cell_type": "code",
   "execution_count": 68,
   "metadata": {
    "cell_id": "00128-87391eb3-fe06-4050-a8f4-3871e391f04a",
    "deepnote_cell_height": 136.1875,
    "deepnote_cell_type": "code",
    "deepnote_to_be_reexecuted": false,
    "execution_millis": 260,
    "execution_start": 1652633045494,
    "source_hash": "ccb002cf"
   },
   "outputs": [
    {
     "data": {
      "text/plain": [
       "(50456, 19)"
      ]
     },
     "execution_count": 68,
     "metadata": {},
     "output_type": "execute_result"
    }
   ],
   "source": [
    "#new shape\n",
    "pound.shape"
   ]
  },
  {
   "cell_type": "markdown",
   "metadata": {
    "cell_id": "00129-2b9da293-a65b-47ec-9ef2-dddf520e4874",
    "deepnote_cell_height": 52.390625,
    "deepnote_cell_type": "markdown"
   },
   "source": [
    "The outliers for the Pound have been visualized and removed"
   ]
  },
  {
   "cell_type": "markdown",
   "metadata": {
    "cell_id": "269c096dcd29485789bcb532ad1eb0a3",
    "deepnote_cell_height": 70,
    "deepnote_cell_type": "markdown",
    "tags": []
   },
   "source": [
    "## Euro (€) - Outlier removal"
   ]
  },
  {
   "cell_type": "code",
   "execution_count": 69,
   "metadata": {
    "cell_id": "005c67aa7df344bbb95bd5401f986338",
    "deepnote_cell_height": 172.1875,
    "deepnote_cell_type": "code",
    "deepnote_to_be_reexecuted": false,
    "execution_millis": 199,
    "execution_start": 1652633045562,
    "source_hash": "6b7cc936",
    "tags": []
   },
   "outputs": [
    {
     "data": {
      "text/plain": [
       "(49321, 19)"
      ]
     },
     "execution_count": 69,
     "metadata": {},
     "output_type": "execute_result"
    }
   ],
   "source": [
    "#removing Rand (R) outliers\n",
    "euro = filtered_data.loc[filtered_data['currency'] == '€.']\n",
    "#Old shape\n",
    "euro.shape"
   ]
  },
  {
   "cell_type": "code",
   "execution_count": 70,
   "metadata": {
    "cell_id": "9b9d5a3de10349638fa7abef920bd82c",
    "deepnote_cell_height": 431.1875,
    "deepnote_cell_type": "code",
    "deepnote_output_heights": [
     null,
     264
    ],
    "deepnote_to_be_reexecuted": false,
    "execution_millis": 215,
    "execution_start": 1652633045646,
    "source_hash": "7d784731",
    "tags": []
   },
   "outputs": [
    {
     "data": {
      "text/plain": [
       "<AxesSubplot:xlabel='gallons'>"
      ]
     },
     "execution_count": 70,
     "metadata": {},
     "output_type": "execute_result"
    },
    {
     "data": {
      "image/png": "[encoded data removed]",
      "text/plain": [
       "<Figure size 432x288 with 1 Axes>"
      ]
     },
     "metadata": {
      "needs_background": "light"
     },
     "output_type": "display_data"
    }
   ],
   "source": [
    "#Outlier visualization\n",
    "sns.boxplot(x=euro['gallons'])"
   ]
  },
  {
   "cell_type": "code",
   "execution_count": 71,
   "metadata": {
    "cell_id": "00134-6bb63233-6a4b-4809-b4e7-e7c960d44bfc",
    "deepnote_cell_height": 99,
    "deepnote_cell_type": "code",
    "deepnote_to_be_reexecuted": false,
    "execution_millis": 25,
    "execution_start": 1652633045859,
    "source_hash": "d7888e79"
   },
   "outputs": [],
   "source": [
    "#Outlier removal\n",
    "euro= euro.drop(euro[(euro['gallons'] > 21)].index)"
   ]
  },
  {
   "cell_type": "code",
   "execution_count": 72,
   "metadata": {
    "cell_id": "00135-87a9cb71-0461-4fa2-8d91-9911e31ceaf3",
    "deepnote_cell_height": 431.1875,
    "deepnote_cell_type": "code",
    "deepnote_output_heights": [
     null,
     264
    ],
    "deepnote_to_be_reexecuted": false,
    "execution_millis": 779,
    "execution_start": 1652633045891,
    "source_hash": "8aa107f2"
   },
   "outputs": [
    {
     "data": {
      "text/plain": [
       "<AxesSubplot:xlabel='mpg'>"
      ]
     },
     "execution_count": 72,
     "metadata": {},
     "output_type": "execute_result"
    },
    {
     "data": {
      "image/png": "[encoded data removed]",
      "text/plain": [
       "<Figure size 432x288 with 1 Axes>"
      ]
     },
     "metadata": {
      "needs_background": "light"
     },
     "output_type": "display_data"
    }
   ],
   "source": [
    "#Outlier visualization\n",
    "sns.boxplot(x=euro['mpg'])"
   ]
  },
  {
   "cell_type": "code",
   "execution_count": 73,
   "metadata": {
    "cell_id": "00136-1988cbc0-d5fd-4873-be14-6634e0c0bc75",
    "deepnote_cell_height": 99,
    "deepnote_cell_type": "code",
    "deepnote_to_be_reexecuted": false,
    "execution_millis": 54,
    "execution_start": 1652633046672,
    "source_hash": "c32a1b20"
   },
   "outputs": [],
   "source": [
    "#Outlier removal\n",
    "euro= euro.drop(euro[(euro['mpg'] > 55)].index)"
   ]
  },
  {
   "cell_type": "code",
   "execution_count": 74,
   "metadata": {
    "cell_id": "00137-36739192-8ed1-4020-b90e-48cac5ba3587",
    "deepnote_cell_height": 431.1875,
    "deepnote_cell_type": "code",
    "deepnote_output_heights": [
     null,
     264
    ],
    "deepnote_to_be_reexecuted": false,
    "execution_millis": 196,
    "execution_start": 1652633046736,
    "source_hash": "502d64ee"
   },
   "outputs": [
    {
     "data": {
      "text/plain": [
       "<AxesSubplot:xlabel='miles'>"
      ]
     },
     "execution_count": 74,
     "metadata": {},
     "output_type": "execute_result"
    },
    {
     "data": {
      "image/png": "[encoded data removed]",
      "text/plain": [
       "<Figure size 432x288 with 1 Axes>"
      ]
     },
     "metadata": {
      "needs_background": "light"
     },
     "output_type": "display_data"
    }
   ],
   "source": [
    "#Outlier visualization\n",
    "sns.boxplot(x=euro['miles'])"
   ]
  },
  {
   "cell_type": "code",
   "execution_count": 75,
   "metadata": {
    "cell_id": "00138-400cbfd7-beec-4e22-98fd-00ba8efb3e49",
    "deepnote_cell_height": 99,
    "deepnote_cell_type": "code",
    "deepnote_to_be_reexecuted": false,
    "execution_millis": 1,
    "execution_start": 1652633046982,
    "source_hash": "fd130201"
   },
   "outputs": [],
   "source": [
    "#Outlier removal\n",
    "euro= euro.drop(euro[(euro['miles'] > 800)].index)"
   ]
  },
  {
   "cell_type": "code",
   "execution_count": 76,
   "metadata": {
    "cell_id": "00139-3be5ba24-878f-4809-8cf3-6898fc5449d7",
    "deepnote_cell_height": 450.1875,
    "deepnote_cell_type": "code",
    "deepnote_output_heights": [
     null,
     265
    ],
    "deepnote_to_be_reexecuted": false,
    "execution_millis": 151,
    "execution_start": 1652633047026,
    "source_hash": "98d55dd"
   },
   "outputs": [
    {
     "data": {
      "text/plain": [
       "<AxesSubplot:xlabel='total_spent_float'>"
      ]
     },
     "execution_count": 76,
     "metadata": {},
     "output_type": "execute_result"
    },
    {
     "data": {
      "image/png": "[encoded data removed]",
      "text/plain": [
       "<Figure size 432x288 with 1 Axes>"
      ]
     },
     "metadata": {
      "needs_background": "light"
     },
     "output_type": "display_data"
    }
   ],
   "source": [
    "#Outlier visualization\n",
    "sns.boxplot(x=euro['total_spent_float'])\n"
   ]
  },
  {
   "cell_type": "code",
   "execution_count": 77,
   "metadata": {
    "cell_id": "00140-72698ee6-2e81-424b-bd33-e26fc2a78f91",
    "deepnote_cell_height": 99,
    "deepnote_cell_type": "code",
    "deepnote_to_be_reexecuted": false,
    "execution_millis": 1,
    "execution_start": 1652633047175,
    "source_hash": "5d0c71c1"
   },
   "outputs": [],
   "source": [
    "#Outlier removal\n",
    "euro= euro.drop(euro[(euro['total_spent_float'] > 110)].index)"
   ]
  },
  {
   "cell_type": "code",
   "execution_count": 78,
   "metadata": {
    "cell_id": "00141-7aef9248-38cd-491f-a63f-deed61353569",
    "deepnote_cell_height": 432.1875,
    "deepnote_cell_type": "code",
    "deepnote_output_heights": [
     21.1875,
     265
    ],
    "deepnote_to_be_reexecuted": false,
    "execution_millis": 213,
    "execution_start": 1652633047182,
    "source_hash": "58301622"
   },
   "outputs": [
    {
     "data": {
      "text/plain": [
       "<AxesSubplot:xlabel='cost_per_gallon_float'>"
      ]
     },
     "execution_count": 78,
     "metadata": {},
     "output_type": "execute_result"
    },
    {
     "data": {
      "image/png": "[encoded data removed]",
      "text/plain": [
       "<Figure size 432x288 with 1 Axes>"
      ]
     },
     "metadata": {
      "needs_background": "light"
     },
     "output_type": "display_data"
    }
   ],
   "source": [
    "#Outlier visualization\n",
    "sns.boxplot(x=euro['cost_per_gallon_float'])"
   ]
  },
  {
   "cell_type": "code",
   "execution_count": 79,
   "metadata": {
    "cell_id": "00142-6d4f98f4-cc8c-47be-a5fe-e8c6c0bf5fa3",
    "deepnote_cell_height": 117,
    "deepnote_cell_type": "code",
    "deepnote_to_be_reexecuted": false,
    "execution_millis": 45,
    "execution_start": 1652633047442,
    "source_hash": "3452f017"
   },
   "outputs": [],
   "source": [
    "#Outlier removal\n",
    "euro= euro.drop(euro[(euro['cost_per_gallon_float'] > 7)].index)\n",
    "euro= euro.drop(euro[(euro['cost_per_gallon_float'] < 3.3)].index)"
   ]
  },
  {
   "cell_type": "code",
   "execution_count": 80,
   "metadata": {
    "cell_id": "00143-5779edca-6fa2-4a34-8121-85bd43846be0",
    "deepnote_cell_height": 431.1875,
    "deepnote_cell_type": "code",
    "deepnote_output_heights": [
     null,
     264
    ],
    "deepnote_to_be_reexecuted": false,
    "execution_millis": 195,
    "execution_start": 1652633047487,
    "source_hash": "2375797b"
   },
   "outputs": [
    {
     "data": {
      "text/plain": [
       "<AxesSubplot:xlabel='litres per 100 km'>"
      ]
     },
     "execution_count": 80,
     "metadata": {},
     "output_type": "execute_result"
    },
    {
     "data": {
      "image/png": "[encoded data removed]",
      "text/plain": [
       "<Figure size 432x288 with 1 Axes>"
      ]
     },
     "metadata": {
      "needs_background": "light"
     },
     "output_type": "display_data"
    }
   ],
   "source": [
    "#Outlier visualization\n",
    "sns.boxplot(x=euro['litres per 100 km'])"
   ]
  },
  {
   "cell_type": "code",
   "execution_count": 81,
   "metadata": {
    "cell_id": "00144-0152ad14-26c4-4a67-a88b-bbd6f3557caa",
    "deepnote_cell_height": 99,
    "deepnote_cell_type": "code",
    "deepnote_to_be_reexecuted": false,
    "execution_millis": 64,
    "execution_start": 1652633047679,
    "source_hash": "3393f5e1"
   },
   "outputs": [],
   "source": [
    "#Outlier removal\n",
    "euro= euro.drop(euro[(euro['litres per 100 km'] > 11)].index)"
   ]
  },
  {
   "cell_type": "code",
   "execution_count": 82,
   "metadata": {
    "cell_id": "00145-33bf1fe0-d030-4786-9183-9d796ff7fedd",
    "deepnote_cell_height": 118.1875,
    "deepnote_cell_type": "code",
    "deepnote_to_be_reexecuted": false,
    "execution_millis": 0,
    "execution_start": 1652633047744,
    "source_hash": "6c3a398e"
   },
   "outputs": [
    {
     "data": {
      "text/plain": [
       "(32627, 19)"
      ]
     },
     "execution_count": 82,
     "metadata": {},
     "output_type": "execute_result"
    }
   ],
   "source": [
    "euro.shape"
   ]
  },
  {
   "cell_type": "markdown",
   "metadata": {
    "cell_id": "00146-73aef16e-7040-455d-8361-f796c5c96f30",
    "deepnote_cell_height": 52.390625,
    "deepnote_cell_type": "markdown"
   },
   "source": [
    "The outliers for the Euro have been visualized and removed"
   ]
  },
  {
   "cell_type": "markdown",
   "metadata": {
    "cell_id": "67d928835f914a5f9ea5d9cd21dafdb1",
    "deepnote_cell_height": 70,
    "deepnote_cell_type": "markdown",
    "tags": []
   },
   "source": [
    "## Canadian Dollar (CA$) - Outlier removal"
   ]
  },
  {
   "cell_type": "code",
   "execution_count": 83,
   "metadata": {
    "cell_id": "77568389da544ad98fdcb12937809091",
    "deepnote_cell_height": 172.1875,
    "deepnote_cell_type": "code",
    "deepnote_to_be_reexecuted": false,
    "execution_millis": 705,
    "execution_start": 1652633047760,
    "source_hash": "d7041797",
    "tags": []
   },
   "outputs": [
    {
     "data": {
      "text/plain": [
       "(34829, 19)"
      ]
     },
     "execution_count": 83,
     "metadata": {},
     "output_type": "execute_result"
    }
   ],
   "source": [
    "#removing Rand (R) outliers\n",
    "can_dollar = filtered_data.loc[filtered_data['currency'] == 'CA$.']\n",
    "#Old shape\n",
    "can_dollar.shape"
   ]
  },
  {
   "cell_type": "code",
   "execution_count": 84,
   "metadata": {
    "cell_id": "00150-812eccbd-7f0b-49d1-a54f-fcccf994c514",
    "deepnote_cell_height": 431.1875,
    "deepnote_cell_type": "code",
    "deepnote_output_heights": [
     null,
     264
    ],
    "deepnote_to_be_reexecuted": false,
    "execution_millis": 531,
    "execution_start": 1652633047936,
    "source_hash": "f41e5221"
   },
   "outputs": [
    {
     "data": {
      "text/plain": [
       "<AxesSubplot:xlabel='gallons'>"
      ]
     },
     "execution_count": 84,
     "metadata": {},
     "output_type": "execute_result"
    },
    {
     "data": {
      "image/png": "[encoded data removed]",
      "text/plain": [
       "<Figure size 432x288 with 1 Axes>"
      ]
     },
     "metadata": {
      "needs_background": "light"
     },
     "output_type": "display_data"
    }
   ],
   "source": [
    "#Outlier visualization\n",
    "sns.boxplot(x=can_dollar['gallons'])"
   ]
  },
  {
   "cell_type": "code",
   "execution_count": 85,
   "metadata": {
    "cell_id": "00151-4ed2ff01-070a-40b1-928e-fc1e5a8007da",
    "deepnote_cell_height": 117,
    "deepnote_cell_type": "code",
    "deepnote_to_be_reexecuted": false,
    "execution_millis": 64,
    "execution_start": 1652633048156,
    "source_hash": "964d708b"
   },
   "outputs": [],
   "source": [
    "#Outlier removal\n",
    "can_dollar= can_dollar.drop(can_dollar[(can_dollar['gallons'] > 20)].index)\n",
    "can_dollar= can_dollar.drop(can_dollar[(can_dollar['gallons'] < 3)].index)"
   ]
  },
  {
   "cell_type": "code",
   "execution_count": 86,
   "metadata": {
    "cell_id": "00152-1afea7fb-e42a-4022-a5d1-fa0da8fd0217",
    "deepnote_cell_height": 431.1875,
    "deepnote_cell_type": "code",
    "deepnote_output_heights": [
     null,
     264
    ],
    "deepnote_to_be_reexecuted": false,
    "execution_millis": 263,
    "execution_start": 1652633048227,
    "source_hash": "4652e439"
   },
   "outputs": [
    {
     "data": {
      "text/plain": [
       "<AxesSubplot:xlabel='mpg'>"
      ]
     },
     "execution_count": 86,
     "metadata": {},
     "output_type": "execute_result"
    },
    {
     "data": {
      "image/png": "[encoded data removed]",
      "text/plain": [
       "<Figure size 432x288 with 1 Axes>"
      ]
     },
     "metadata": {
      "needs_background": "light"
     },
     "output_type": "display_data"
    }
   ],
   "source": [
    "#Outlier visualization\n",
    "sns.boxplot(x=can_dollar['mpg'])"
   ]
  },
  {
   "cell_type": "code",
   "execution_count": 87,
   "metadata": {
    "cell_id": "00153-a622bcfb-26b4-4b16-af59-b653cceee229",
    "deepnote_cell_height": 117,
    "deepnote_cell_type": "code",
    "deepnote_to_be_reexecuted": false,
    "execution_millis": 27,
    "execution_start": 1652633048489,
    "source_hash": "57034730"
   },
   "outputs": [],
   "source": [
    "#Outlier removal\n",
    "can_dollar= can_dollar.drop(can_dollar[(can_dollar['mpg'] > 40)].index)\n",
    "can_dollar= can_dollar.drop(can_dollar[(can_dollar['mpg'] < 6)].index)"
   ]
  },
  {
   "cell_type": "code",
   "execution_count": 88,
   "metadata": {
    "cell_id": "00154-afe1cc13-317e-45ee-b78e-57a51311242f",
    "deepnote_cell_height": 431.1875,
    "deepnote_cell_type": "code",
    "deepnote_output_heights": [
     null,
     264
    ],
    "deepnote_to_be_reexecuted": false,
    "execution_millis": 201,
    "execution_start": 1652633048552,
    "source_hash": "4e9db721"
   },
   "outputs": [
    {
     "data": {
      "text/plain": [
       "<AxesSubplot:xlabel='miles'>"
      ]
     },
     "execution_count": 88,
     "metadata": {},
     "output_type": "execute_result"
    },
    {
     "data": {
      "image/png": "[encoded data removed]",
      "text/plain": [
       "<Figure size 432x288 with 1 Axes>"
      ]
     },
     "metadata": {
      "needs_background": "light"
     },
     "output_type": "display_data"
    }
   ],
   "source": [
    "#Outlier visualization\n",
    "sns.boxplot(x=can_dollar['miles'])"
   ]
  },
  {
   "cell_type": "code",
   "execution_count": 89,
   "metadata": {
    "cell_id": "00155-fe70a700-260b-447d-97a0-12a961abd6d2",
    "deepnote_cell_height": 117,
    "deepnote_cell_type": "code",
    "deepnote_to_be_reexecuted": false,
    "execution_millis": 45,
    "execution_start": 1652633048774,
    "source_hash": "f7b9cb0"
   },
   "outputs": [],
   "source": [
    "#Outlier removal\n",
    "can_dollar= can_dollar.drop(can_dollar[(can_dollar['miles'] >450)].index)\n",
    "can_dollar= can_dollar.drop(can_dollar[(can_dollar['miles'] <55)].index)"
   ]
  },
  {
   "cell_type": "code",
   "execution_count": 90,
   "metadata": {
    "cell_id": "00156-c8d25ceb-cf4d-4ee3-a8e1-9fbb63f42cff",
    "deepnote_cell_height": 432.1875,
    "deepnote_cell_type": "code",
    "deepnote_output_heights": [
     null,
     265
    ],
    "deepnote_to_be_reexecuted": false,
    "execution_millis": 210,
    "execution_start": 1652633048819,
    "source_hash": "c1164d9e"
   },
   "outputs": [
    {
     "data": {
      "text/plain": [
       "<AxesSubplot:xlabel='total_spent_float'>"
      ]
     },
     "execution_count": 90,
     "metadata": {},
     "output_type": "execute_result"
    },
    {
     "data": {
      "image/png": "[encoded data removed]",
      "text/plain": [
       "<Figure size 432x288 with 1 Axes>"
      ]
     },
     "metadata": {
      "needs_background": "light"
     },
     "output_type": "display_data"
    }
   ],
   "source": [
    "#Outlier visualization\n",
    "sns.boxplot(x=can_dollar['total_spent_float'])"
   ]
  },
  {
   "cell_type": "code",
   "execution_count": 91,
   "metadata": {
    "cell_id": "00157-30b2dd9b-2e16-4417-94af-8b5dbe3512e3",
    "deepnote_cell_height": 117,
    "deepnote_cell_type": "code",
    "deepnote_to_be_reexecuted": false,
    "execution_millis": 21,
    "execution_start": 1652633049027,
    "source_hash": "dc368395"
   },
   "outputs": [],
   "source": [
    "#Outlier removal\n",
    "can_dollar= can_dollar.drop(can_dollar[(can_dollar['total_spent_float'] > 100)].index)\n",
    "can_dollar= can_dollar.drop(can_dollar[(can_dollar['total_spent_float'] < 10)].index)"
   ]
  },
  {
   "cell_type": "code",
   "execution_count": 92,
   "metadata": {
    "cell_id": "00158-b1635fa6-7a71-400a-93f1-9546da90977b",
    "deepnote_cell_height": 431.1875,
    "deepnote_cell_type": "code",
    "deepnote_output_heights": [
     null,
     264
    ],
    "deepnote_to_be_reexecuted": false,
    "execution_millis": 175,
    "execution_start": 1652633049113,
    "source_hash": "f90787eb"
   },
   "outputs": [
    {
     "data": {
      "text/plain": [
       "<AxesSubplot:xlabel='litres per 100 km'>"
      ]
     },
     "execution_count": 92,
     "metadata": {},
     "output_type": "execute_result"
    },
    {
     "data": {
      "image/png": "[encoded data removed]",
      "text/plain": [
       "<Figure size 432x288 with 1 Axes>"
      ]
     },
     "metadata": {
      "needs_background": "light"
     },
     "output_type": "display_data"
    }
   ],
   "source": [
    "#Outlier visualization\n",
    "sns.boxplot(x=can_dollar['litres per 100 km'])"
   ]
  },
  {
   "cell_type": "code",
   "execution_count": 93,
   "metadata": {
    "cell_id": "00159-6b9ce766-3259-4379-a92f-21b5a0f5739e",
    "deepnote_cell_height": 99,
    "deepnote_cell_type": "code",
    "deepnote_to_be_reexecuted": false,
    "execution_millis": 0,
    "execution_start": 1652633049287,
    "source_hash": "d3179f52"
   },
   "outputs": [],
   "source": [
    "#Outlier removal\n",
    "can_dollar= can_dollar.drop(can_dollar[(can_dollar['litres per 100 km'] > 18)].index)"
   ]
  },
  {
   "cell_type": "code",
   "execution_count": 94,
   "metadata": {
    "cell_id": "00160-4b897466-0377-468f-bb4e-7e31d83d75c0",
    "deepnote_cell_height": 118.1875,
    "deepnote_cell_type": "code",
    "deepnote_to_be_reexecuted": false,
    "execution_millis": 2,
    "execution_start": 1652633049334,
    "source_hash": "db08cd7"
   },
   "outputs": [
    {
     "data": {
      "text/plain": [
       "(25652, 19)"
      ]
     },
     "execution_count": 94,
     "metadata": {},
     "output_type": "execute_result"
    }
   ],
   "source": [
    "can_dollar.shape"
   ]
  },
  {
   "cell_type": "markdown",
   "metadata": {
    "cell_id": "00161-cc8cbd89-622d-4af8-b11f-c97a33e2d244",
    "deepnote_cell_height": 52.390625,
    "deepnote_cell_type": "markdown"
   },
   "source": [
    "The outliers for the Canadian dollar have been visualized and removed"
   ]
  },
  {
   "cell_type": "markdown",
   "metadata": {
    "cell_id": "4035fd0e746f4be780027198449b6663",
    "deepnote_cell_height": 70,
    "deepnote_cell_type": "markdown",
    "tags": []
   },
   "source": [
    "## US Dollar ($) - Outlier removal"
   ]
  },
  {
   "cell_type": "code",
   "execution_count": 95,
   "metadata": {
    "cell_id": "8fc46dc9cb5a4d00818c95b44c4dd9cf",
    "deepnote_cell_height": 588.796875,
    "deepnote_cell_type": "code",
    "deepnote_to_be_reexecuted": false,
    "execution_millis": 562,
    "execution_start": 1652633049439,
    "source_hash": "c0fef08d",
    "tags": []
   },
   "outputs": [
    {
     "data": {
      "text/html": [
       "<div>\n",
       "<style scoped>\n",
       "    .dataframe tbody tr th:only-of-type {\n",
       "        vertical-align: middle;\n",
       "    }\n",
       "\n",
       "    .dataframe tbody tr th {\n",
       "        vertical-align: top;\n",
       "    }\n",
       "\n",
       "    .dataframe thead th {\n",
       "        text-align: right;\n",
       "    }\n",
       "</style>\n",
       "<table border=\"1\" class=\"dataframe\">\n",
       "  <thead>\n",
       "    <tr style=\"text-align: right;\">\n",
       "      <th></th>\n",
       "      <th>gallons</th>\n",
       "      <th>mpg</th>\n",
       "      <th>miles</th>\n",
       "      <th>total_spent_float</th>\n",
       "      <th>cost_per_gallon_float</th>\n",
       "      <th>litres filled</th>\n",
       "      <th>km driven</th>\n",
       "      <th>litres per 100 km</th>\n",
       "    </tr>\n",
       "  </thead>\n",
       "  <tbody>\n",
       "    <tr>\n",
       "      <th>count</th>\n",
       "      <td>538457.000000</td>\n",
       "      <td>538457.000000</td>\n",
       "      <td>538457.000000</td>\n",
       "      <td>538457.000000</td>\n",
       "      <td>536677.000000</td>\n",
       "      <td>538457.000000</td>\n",
       "      <td>538457.000000</td>\n",
       "      <td>5.384570e+05</td>\n",
       "    </tr>\n",
       "    <tr>\n",
       "      <th>mean</th>\n",
       "      <td>13.234137</td>\n",
       "      <td>20.814035</td>\n",
       "      <td>258.097900</td>\n",
       "      <td>58.843590</td>\n",
       "      <td>5.269662</td>\n",
       "      <td>50.090504</td>\n",
       "      <td>415.277161</td>\n",
       "      <td>inf</td>\n",
       "    </tr>\n",
       "    <tr>\n",
       "      <th>std</th>\n",
       "      <td>54.823368</td>\n",
       "      <td>14.767419</td>\n",
       "      <td>183.248276</td>\n",
       "      <td>102.571808</td>\n",
       "      <td>13.723515</td>\n",
       "      <td>207.486206</td>\n",
       "      <td>294.761169</td>\n",
       "      <td>NaN</td>\n",
       "    </tr>\n",
       "    <tr>\n",
       "      <th>min</th>\n",
       "      <td>0.000000</td>\n",
       "      <td>0.000000</td>\n",
       "      <td>0.000000</td>\n",
       "      <td>0.000000</td>\n",
       "      <td>0.000000</td>\n",
       "      <td>0.000000</td>\n",
       "      <td>0.000000</td>\n",
       "      <td>5.881845e-01</td>\n",
       "    </tr>\n",
       "    <tr>\n",
       "      <th>25%</th>\n",
       "      <td>9.695000</td>\n",
       "      <td>15.100000</td>\n",
       "      <td>186.562393</td>\n",
       "      <td>28.930000</td>\n",
       "      <td>2.649000</td>\n",
       "      <td>36.695576</td>\n",
       "      <td>300.178894</td>\n",
       "      <td>9.012069e+00</td>\n",
       "    </tr>\n",
       "    <tr>\n",
       "      <th>50%</th>\n",
       "      <td>12.568000</td>\n",
       "      <td>20.600000</td>\n",
       "      <td>264.266388</td>\n",
       "      <td>39.610001</td>\n",
       "      <td>3.099000</td>\n",
       "      <td>47.569881</td>\n",
       "      <td>425.204620</td>\n",
       "      <td>1.141820e+01</td>\n",
       "    </tr>\n",
       "    <tr>\n",
       "      <th>75%</th>\n",
       "      <td>15.412000</td>\n",
       "      <td>26.100000</td>\n",
       "      <td>330.298431</td>\n",
       "      <td>52.820000</td>\n",
       "      <td>3.759000</td>\n",
       "      <td>58.334419</td>\n",
       "      <td>531.450195</td>\n",
       "      <td>1.557715e+01</td>\n",
       "    </tr>\n",
       "    <tr>\n",
       "      <th>max</th>\n",
       "      <td>21014.900391</td>\n",
       "      <td>399.899994</td>\n",
       "      <td>13031.105469</td>\n",
       "      <td>999.989990</td>\n",
       "      <td>1767.677979</td>\n",
       "      <td>79541.398438</td>\n",
       "      <td>20967.048828</td>\n",
       "      <td>inf</td>\n",
       "    </tr>\n",
       "  </tbody>\n",
       "</table>\n",
       "</div>"
      ],
      "text/plain": [
       "             gallons            mpg          miles  total_spent_float  \\\n",
       "count  538457.000000  538457.000000  538457.000000      538457.000000   \n",
       "mean       13.234137      20.814035     258.097900          58.843590   \n",
       "std        54.823368      14.767419     183.248276         102.571808   \n",
       "min         0.000000       0.000000       0.000000           0.000000   \n",
       "25%         9.695000      15.100000     186.562393          28.930000   \n",
       "50%        12.568000      20.600000     264.266388          39.610001   \n",
       "75%        15.412000      26.100000     330.298431          52.820000   \n",
       "max     21014.900391     399.899994   13031.105469         999.989990   \n",
       "\n",
       "       cost_per_gallon_float  litres filled      km driven  litres per 100 km  \n",
       "count          536677.000000  538457.000000  538457.000000       5.384570e+05  \n",
       "mean                5.269662      50.090504     415.277161                inf  \n",
       "std                13.723515     207.486206     294.761169                NaN  \n",
       "min                 0.000000       0.000000       0.000000       5.881845e-01  \n",
       "25%                 2.649000      36.695576     300.178894       9.012069e+00  \n",
       "50%                 3.099000      47.569881     425.204620       1.141820e+01  \n",
       "75%                 3.759000      58.334419     531.450195       1.557715e+01  \n",
       "max              1767.677979   79541.398438   20967.048828                inf  "
      ]
     },
     "execution_count": 95,
     "metadata": {},
     "output_type": "execute_result"
    }
   ],
   "source": [
    "#removing Rand (R) outliers\n",
    "dollar = filtered_data.loc[filtered_data['currency'] == '$.']\n",
    "#Old shape\n",
    "dollar.describe()"
   ]
  },
  {
   "cell_type": "code",
   "execution_count": 96,
   "metadata": {
    "cell_id": "43ba9b5b921e435c919e3d4a5972a7a9",
    "deepnote_cell_height": 431.1875,
    "deepnote_cell_type": "code",
    "deepnote_output_heights": [
     null,
     264
    ],
    "deepnote_to_be_reexecuted": false,
    "execution_millis": 240,
    "execution_start": 1652633050006,
    "source_hash": "fac69232",
    "tags": []
   },
   "outputs": [
    {
     "data": {
      "text/plain": [
       "<AxesSubplot:xlabel='gallons'>"
      ]
     },
     "execution_count": 96,
     "metadata": {},
     "output_type": "execute_result"
    },
    {
     "data": {
      "image/png": "[encoded data removed]",
      "text/plain": [
       "<Figure size 432x288 with 1 Axes>"
      ]
     },
     "metadata": {
      "needs_background": "light"
     },
     "output_type": "display_data"
    }
   ],
   "source": [
    "#Outlier visualization\n",
    "sns.boxplot(x=dollar['gallons'])"
   ]
  },
  {
   "cell_type": "code",
   "execution_count": 97,
   "metadata": {
    "cell_id": "00166-4dbf7c9b-0815-4219-8ea7-42b69ff0b613",
    "deepnote_cell_height": 117,
    "deepnote_cell_type": "code",
    "deepnote_to_be_reexecuted": false,
    "execution_millis": 660,
    "execution_start": 1652633050251,
    "source_hash": "64cd9722"
   },
   "outputs": [],
   "source": [
    "#Outlier removal\n",
    "dollar= dollar.drop(dollar[(dollar['gallons'] > 20)].index)\n",
    "dollar= dollar.drop(dollar[(dollar['gallons'] < 2)].index)"
   ]
  },
  {
   "cell_type": "code",
   "execution_count": 98,
   "metadata": {
    "cell_id": "00167-e5b24157-c24f-4a74-8f4c-d300ad3137d6",
    "deepnote_cell_height": 431.1875,
    "deepnote_cell_type": "code",
    "deepnote_output_heights": [
     null,
     264
    ],
    "deepnote_to_be_reexecuted": false,
    "execution_millis": 549,
    "execution_start": 1652633050916,
    "source_hash": "4adb94f"
   },
   "outputs": [
    {
     "data": {
      "text/plain": [
       "<AxesSubplot:xlabel='mpg'>"
      ]
     },
     "execution_count": 98,
     "metadata": {},
     "output_type": "execute_result"
    },
    {
     "data": {
      "image/png": "[encoded data removed]",
      "text/plain": [
       "<Figure size 432x288 with 1 Axes>"
      ]
     },
     "metadata": {
      "needs_background": "light"
     },
     "output_type": "display_data"
    }
   ],
   "source": [
    "#Outlier visualization\n",
    "sns.boxplot(x=dollar['mpg'])"
   ]
  },
  {
   "cell_type": "code",
   "execution_count": 99,
   "metadata": {
    "cell_id": "00168-01fd0413-c697-4019-b73c-cab85fafb3d3",
    "deepnote_cell_height": 117,
    "deepnote_cell_type": "code",
    "deepnote_to_be_reexecuted": false,
    "execution_millis": 672,
    "execution_start": 1652633051470,
    "source_hash": "71d81a00"
   },
   "outputs": [],
   "source": [
    "#Outlier removal\n",
    "dollar= dollar.drop(dollar[(dollar['mpg'] > 35)].index)\n",
    "dollar= dollar.drop(dollar[(dollar['mpg'] < 6)].index)"
   ]
  },
  {
   "cell_type": "code",
   "execution_count": 100,
   "metadata": {
    "cell_id": "00169-a5326176-73e2-4d80-b80e-c09be8cdf054",
    "deepnote_cell_height": 431.1875,
    "deepnote_cell_type": "code",
    "deepnote_output_heights": [
     null,
     264
    ],
    "deepnote_to_be_reexecuted": false,
    "execution_millis": 247,
    "execution_start": 1652633052152,
    "source_hash": "7c923fd5"
   },
   "outputs": [
    {
     "data": {
      "text/plain": [
       "<AxesSubplot:xlabel='miles'>"
      ]
     },
     "execution_count": 100,
     "metadata": {},
     "output_type": "execute_result"
    },
    {
     "data": {
      "image/png": "[encoded data removed]",
      "text/plain": [
       "<Figure size 432x288 with 1 Axes>"
      ]
     },
     "metadata": {
      "needs_background": "light"
     },
     "output_type": "display_data"
    }
   ],
   "source": [
    "#Outlier visualization\n",
    "sns.boxplot(x=dollar['miles'])"
   ]
  },
  {
   "cell_type": "code",
   "execution_count": 101,
   "metadata": {
    "cell_id": "00170-9ed9eae3-e931-4c14-832e-62af2b5f9ba3",
    "deepnote_cell_height": 117,
    "deepnote_cell_type": "code",
    "deepnote_to_be_reexecuted": false,
    "execution_millis": 386,
    "execution_start": 1652633052395,
    "source_hash": "d4cdd32d"
   },
   "outputs": [],
   "source": [
    "#Outlier removal\n",
    "dollar= dollar.drop(dollar[(dollar['miles'] > 470)].index)\n",
    "dollar= dollar.drop(dollar[(dollar['miles'] < 80)].index)"
   ]
  },
  {
   "cell_type": "code",
   "execution_count": 102,
   "metadata": {
    "cell_id": "00171-199c5323-8273-47d7-8ae7-f4820ba01406",
    "deepnote_cell_height": 432.1875,
    "deepnote_cell_type": "code",
    "deepnote_output_heights": [
     null,
     265
    ],
    "deepnote_to_be_reexecuted": false,
    "execution_millis": 274,
    "execution_start": 1652633052790,
    "source_hash": "6b677da1"
   },
   "outputs": [
    {
     "data": {
      "text/plain": [
       "<AxesSubplot:xlabel='total_spent_float'>"
      ]
     },
     "execution_count": 102,
     "metadata": {},
     "output_type": "execute_result"
    },
    {
     "data": {
      "image/png": "[encoded data removed]",
      "text/plain": [
       "<Figure size 432x288 with 1 Axes>"
      ]
     },
     "metadata": {
      "needs_background": "light"
     },
     "output_type": "display_data"
    }
   ],
   "source": [
    "#Outlier visualization\n",
    "sns.boxplot(x=dollar['total_spent_float'])"
   ]
  },
  {
   "cell_type": "code",
   "execution_count": 103,
   "metadata": {
    "cell_id": "00172-ea164afb-b611-493d-a6ff-7b1cbe055fd1",
    "deepnote_cell_height": 117,
    "deepnote_cell_type": "code",
    "deepnote_to_be_reexecuted": false,
    "execution_millis": 360,
    "execution_start": 1652633053064,
    "source_hash": "547ba5e3"
   },
   "outputs": [],
   "source": [
    "#Outlier removal\n",
    "dollar= dollar.drop(dollar[(dollar['total_spent_float'] > 70)].index)\n",
    "dollar= dollar.drop(dollar[(dollar['total_spent_float'] < 8)].index)"
   ]
  },
  {
   "cell_type": "code",
   "execution_count": 104,
   "metadata": {
    "cell_id": "00173-67258711-18a9-43e9-8b65-eea8286cc411",
    "deepnote_cell_height": 432.1875,
    "deepnote_cell_type": "code",
    "deepnote_output_heights": [
     null,
     265
    ],
    "deepnote_to_be_reexecuted": false,
    "execution_millis": 394,
    "execution_start": 1652633053441,
    "source_hash": "5c3076d6"
   },
   "outputs": [
    {
     "data": {
      "text/plain": [
       "<AxesSubplot:xlabel='cost_per_gallon_float'>"
      ]
     },
     "execution_count": 104,
     "metadata": {},
     "output_type": "execute_result"
    },
    {
     "data": {
      "image/png": "[encoded data removed]",
      "text/plain": [
       "<Figure size 432x288 with 1 Axes>"
      ]
     },
     "metadata": {
      "needs_background": "light"
     },
     "output_type": "display_data"
    }
   ],
   "source": [
    "#Outlier visualization\n",
    "sns.boxplot(x=dollar['cost_per_gallon_float'])"
   ]
  },
  {
   "cell_type": "code",
   "execution_count": 105,
   "metadata": {
    "cell_id": "00174-7ef9b627-01a5-446f-a551-51908ea197a3",
    "deepnote_cell_height": 117,
    "deepnote_cell_type": "code",
    "deepnote_to_be_reexecuted": false,
    "execution_millis": 322,
    "execution_start": 1652633053671,
    "source_hash": "58785e25"
   },
   "outputs": [],
   "source": [
    "#Outlier removal\n",
    "dollar= dollar.drop(dollar[(dollar['cost_per_gallon_float'] > 4.5)].index)\n",
    "dollar= dollar.drop(dollar[(dollar['cost_per_gallon_float'] < 1.5)].index)"
   ]
  },
  {
   "cell_type": "code",
   "execution_count": 106,
   "metadata": {
    "cell_id": "00175-801cf79b-19cf-4190-9e07-c211307813fa",
    "deepnote_cell_height": 431.1875,
    "deepnote_cell_type": "code",
    "deepnote_output_heights": [
     null,
     264
    ],
    "deepnote_to_be_reexecuted": false,
    "execution_millis": 225,
    "execution_start": 1652633054003,
    "source_hash": "5ddaa904"
   },
   "outputs": [
    {
     "data": {
      "text/plain": [
       "<AxesSubplot:xlabel='litres filled'>"
      ]
     },
     "execution_count": 106,
     "metadata": {},
     "output_type": "execute_result"
    },
    {
     "data": {
      "image/png": "[encoded data removed]",
      "text/plain": [
       "<Figure size 432x288 with 1 Axes>"
      ]
     },
     "metadata": {
      "needs_background": "light"
     },
     "output_type": "display_data"
    }
   ],
   "source": [
    "#Outlier visualization\n",
    "sns.boxplot(x=dollar['litres filled'])"
   ]
  },
  {
   "cell_type": "code",
   "execution_count": 107,
   "metadata": {
    "cell_id": "00176-a35c8dfa-403d-4920-9a10-1b71093911b4",
    "deepnote_cell_height": 99,
    "deepnote_cell_type": "code",
    "deepnote_to_be_reexecuted": false,
    "execution_millis": 119,
    "execution_start": 1652633054225,
    "source_hash": "7d8a7907"
   },
   "outputs": [],
   "source": [
    "#Outlier removal\n",
    "dollar= dollar.drop(dollar[(dollar['litres filled'] < 14)].index)"
   ]
  },
  {
   "cell_type": "code",
   "execution_count": 108,
   "metadata": {
    "cell_id": "00177-30938cac-07ec-4088-b975-afc6972c89c8",
    "deepnote_cell_height": 431.1875,
    "deepnote_cell_type": "code",
    "deepnote_output_heights": [
     null,
     264
    ],
    "deepnote_to_be_reexecuted": false,
    "execution_millis": 182,
    "execution_start": 1652633054398,
    "source_hash": "9e0d006a"
   },
   "outputs": [
    {
     "data": {
      "text/plain": [
       "<AxesSubplot:xlabel='km driven'>"
      ]
     },
     "execution_count": 108,
     "metadata": {},
     "output_type": "execute_result"
    },
    {
     "data": {
      "image/png": "[encoded data removed]",
      "text/plain": [
       "<Figure size 432x288 with 1 Axes>"
      ]
     },
     "metadata": {
      "needs_background": "light"
     },
     "output_type": "display_data"
    }
   ],
   "source": [
    "#Outlier visualization\n",
    "sns.boxplot(x=dollar['km driven'])"
   ]
  },
  {
   "cell_type": "code",
   "execution_count": 109,
   "metadata": {
    "cell_id": "00178-22a6e415-bccd-4a48-9d1f-5fba79ee550d",
    "deepnote_cell_height": 99,
    "deepnote_cell_type": "code",
    "deepnote_to_be_reexecuted": false,
    "execution_millis": 158,
    "execution_start": 1652633054579,
    "source_hash": "b2587aff"
   },
   "outputs": [],
   "source": [
    "#Outlier removal\n",
    "dollar= dollar.drop(dollar[(dollar['km driven'] > 800)].index)"
   ]
  },
  {
   "cell_type": "code",
   "execution_count": 110,
   "metadata": {
    "cell_id": "00179-eae2c273-13b0-4fa1-89bd-366814203ab4",
    "deepnote_cell_height": 431.1875,
    "deepnote_cell_type": "code",
    "deepnote_output_heights": [
     null,
     264
    ],
    "deepnote_to_be_reexecuted": false,
    "execution_millis": 222,
    "execution_start": 1652633054786,
    "source_hash": "aa1f6660"
   },
   "outputs": [
    {
     "data": {
      "text/plain": [
       "<AxesSubplot:xlabel='litres per 100 km'>"
      ]
     },
     "execution_count": 110,
     "metadata": {},
     "output_type": "execute_result"
    },
    {
     "data": {
      "image/png": "[encoded data removed]",
      "text/plain": [
       "<Figure size 432x288 with 1 Axes>"
      ]
     },
     "metadata": {
      "needs_background": "light"
     },
     "output_type": "display_data"
    }
   ],
   "source": [
    "#Outlier visualization\n",
    "sns.boxplot(x=dollar['litres per 100 km'])"
   ]
  },
  {
   "cell_type": "code",
   "execution_count": 111,
   "metadata": {
    "cell_id": "00180-dbe460e7-541f-4941-a2f6-a1981315f4e0",
    "deepnote_cell_height": 99,
    "deepnote_cell_type": "code",
    "deepnote_to_be_reexecuted": false,
    "execution_millis": 139,
    "execution_start": 1652633055007,
    "source_hash": "820ff6b0"
   },
   "outputs": [],
   "source": [
    "#Outlier removal\n",
    "dollar= dollar.drop(dollar[(dollar['litres per 100 km'] > 17)].index)"
   ]
  },
  {
   "cell_type": "code",
   "execution_count": 112,
   "metadata": {
    "cell_id": "a36b3d5b10234807b25abdb59656d31f",
    "deepnote_cell_height": 136.1875,
    "deepnote_cell_type": "code",
    "deepnote_to_be_reexecuted": false,
    "execution_millis": 222,
    "execution_start": 1652633055198,
    "source_hash": "475286db",
    "tags": []
   },
   "outputs": [
    {
     "data": {
      "text/plain": [
       "(437301, 19)"
      ]
     },
     "execution_count": 112,
     "metadata": {},
     "output_type": "execute_result"
    }
   ],
   "source": [
    "main_currency = pd.concat([dollar, rand,euro,pound,can_dollar])\n",
    "main_currency.shape"
   ]
  },
  {
   "cell_type": "code",
   "execution_count": 113,
   "metadata": {
    "cell_id": "00182-7693789d-d491-4000-8740-2c51680d43a8",
    "deepnote_cell_height": 411.796875,
    "deepnote_cell_type": "code",
    "deepnote_to_be_reexecuted": false,
    "execution_millis": 199,
    "execution_start": 1652633055431,
    "source_hash": "e6d60146"
   },
   "outputs": [
    {
     "data": {
      "text/html": [
       "<div>\n",
       "<style scoped>\n",
       "    .dataframe tbody tr th:only-of-type {\n",
       "        vertical-align: middle;\n",
       "    }\n",
       "\n",
       "    .dataframe tbody tr th {\n",
       "        vertical-align: top;\n",
       "    }\n",
       "\n",
       "    .dataframe thead th {\n",
       "        text-align: right;\n",
       "    }\n",
       "</style>\n",
       "<table border=\"1\" class=\"dataframe\">\n",
       "  <thead>\n",
       "    <tr style=\"text-align: right;\">\n",
       "      <th></th>\n",
       "      <th>date_fueled</th>\n",
       "      <th>date_captured</th>\n",
       "      <th>odometer</th>\n",
       "      <th>gallons</th>\n",
       "      <th>cost_per_gallon</th>\n",
       "      <th>total_spent</th>\n",
       "      <th>mpg</th>\n",
       "      <th>miles</th>\n",
       "      <th>user_url</th>\n",
       "      <th>total_spent_float</th>\n",
       "      <th>cost_per_gallon_float</th>\n",
       "      <th>Car make</th>\n",
       "      <th>model</th>\n",
       "      <th>year</th>\n",
       "      <th>User ID</th>\n",
       "      <th>litres filled</th>\n",
       "      <th>km driven</th>\n",
       "      <th>litres per 100 km</th>\n",
       "      <th>currency</th>\n",
       "    </tr>\n",
       "  </thead>\n",
       "  <tbody>\n",
       "    <tr>\n",
       "      <th>709964</th>\n",
       "      <td>2022-01-01</td>\n",
       "      <td>Mar 24 2022</td>\n",
       "      <td>143,421</td>\n",
       "      <td>10.043</td>\n",
       "      <td>CA$5.48</td>\n",
       "      <td>CA$55.09</td>\n",
       "      <td>36.799999</td>\n",
       "      <td>369.582397</td>\n",
       "      <td>https://www.somewebsite.com/toyota/corolla/200...</td>\n",
       "      <td>55.090000</td>\n",
       "      <td>5.48</td>\n",
       "      <td>toyota</td>\n",
       "      <td>corolla</td>\n",
       "      <td>2003</td>\n",
       "      <td>811292</td>\n",
       "      <td>38.012756</td>\n",
       "      <td>594.658081</td>\n",
       "      <td>6.391712</td>\n",
       "      <td>CA$.</td>\n",
       "    </tr>\n",
       "    <tr>\n",
       "      <th>864413</th>\n",
       "      <td>2022-01-01</td>\n",
       "      <td>Jan 1 2022</td>\n",
       "      <td>31,777</td>\n",
       "      <td>11.416</td>\n",
       "      <td>CA$4.99</td>\n",
       "      <td>CA$57.00</td>\n",
       "      <td>28.000000</td>\n",
       "      <td>319.648010</td>\n",
       "      <td>https://www.somewebsite.com/hyundai/kona/2020/...</td>\n",
       "      <td>57.000000</td>\n",
       "      <td>4.99</td>\n",
       "      <td>hyundai</td>\n",
       "      <td>kona</td>\n",
       "      <td>2020</td>\n",
       "      <td>1010567</td>\n",
       "      <td>43.209564</td>\n",
       "      <td>514.313660</td>\n",
       "      <td>8.400536</td>\n",
       "      <td>CA$.</td>\n",
       "    </tr>\n",
       "    <tr>\n",
       "      <th>277368</th>\n",
       "      <td>2022-01-01</td>\n",
       "      <td>Jan 1 2022</td>\n",
       "      <td>97,924</td>\n",
       "      <td>10.136</td>\n",
       "      <td>CA$6.20</td>\n",
       "      <td>CA$62.89</td>\n",
       "      <td>26.500000</td>\n",
       "      <td>268.604004</td>\n",
       "      <td>https://www.somewebsite.com/lexus/is250/2011/9...</td>\n",
       "      <td>62.889999</td>\n",
       "      <td>6.20</td>\n",
       "      <td>lexus</td>\n",
       "      <td>is250</td>\n",
       "      <td>2011</td>\n",
       "      <td>966670</td>\n",
       "      <td>38.364761</td>\n",
       "      <td>432.183838</td>\n",
       "      <td>8.876038</td>\n",
       "      <td>CA$.</td>\n",
       "    </tr>\n",
       "    <tr>\n",
       "      <th>717004</th>\n",
       "      <td>2022-01-01</td>\n",
       "      <td>Jan 8 2022</td>\n",
       "      <td>9,551</td>\n",
       "      <td>8.112</td>\n",
       "      <td>CA$4.88</td>\n",
       "      <td>CA$39.58</td>\n",
       "      <td>20.400000</td>\n",
       "      <td>165.484802</td>\n",
       "      <td>https://www.somewebsite.com/ford/escape/2020/1...</td>\n",
       "      <td>39.580002</td>\n",
       "      <td>4.88</td>\n",
       "      <td>ford</td>\n",
       "      <td>escape</td>\n",
       "      <td>2020</td>\n",
       "      <td>1056788</td>\n",
       "      <td>30.703922</td>\n",
       "      <td>266.265045</td>\n",
       "      <td>11.530148</td>\n",
       "      <td>CA$.</td>\n",
       "    </tr>\n",
       "    <tr>\n",
       "      <th>658799</th>\n",
       "      <td>2022-01-01</td>\n",
       "      <td>Jan 1 2022</td>\n",
       "      <td>87,859</td>\n",
       "      <td>11.640</td>\n",
       "      <td>CA$5.67</td>\n",
       "      <td>CA$66.05</td>\n",
       "      <td>26.000000</td>\n",
       "      <td>302.640015</td>\n",
       "      <td>https://www.somewebsite.com/kia/forte5/2012/93...</td>\n",
       "      <td>66.050003</td>\n",
       "      <td>5.67</td>\n",
       "      <td>kia</td>\n",
       "      <td>forte5</td>\n",
       "      <td>2012</td>\n",
       "      <td>933543</td>\n",
       "      <td>44.057404</td>\n",
       "      <td>486.947784</td>\n",
       "      <td>9.046731</td>\n",
       "      <td>CA$.</td>\n",
       "    </tr>\n",
       "  </tbody>\n",
       "</table>\n",
       "</div>"
      ],
      "text/plain": [
       "       date_fueled date_captured  odometer  gallons cost_per_gallon  \\\n",
       "709964  2022-01-01   Mar 24 2022  143,421    10.043         CA$5.48   \n",
       "864413  2022-01-01    Jan 1 2022   31,777    11.416         CA$4.99   \n",
       "277368  2022-01-01    Jan 1 2022   97,924    10.136         CA$6.20   \n",
       "717004  2022-01-01    Jan 8 2022    9,551     8.112         CA$4.88   \n",
       "658799  2022-01-01    Jan 1 2022   87,859    11.640         CA$5.67   \n",
       "\n",
       "       total_spent        mpg       miles  \\\n",
       "709964    CA$55.09  36.799999  369.582397   \n",
       "864413    CA$57.00  28.000000  319.648010   \n",
       "277368    CA$62.89  26.500000  268.604004   \n",
       "717004    CA$39.58  20.400000  165.484802   \n",
       "658799    CA$66.05  26.000000  302.640015   \n",
       "\n",
       "                                                 user_url  total_spent_float  \\\n",
       "709964  https://www.somewebsite.com/toyota/corolla/200...          55.090000   \n",
       "864413  https://www.somewebsite.com/hyundai/kona/2020/...          57.000000   \n",
       "277368  https://www.somewebsite.com/lexus/is250/2011/9...          62.889999   \n",
       "717004  https://www.somewebsite.com/ford/escape/2020/1...          39.580002   \n",
       "658799  https://www.somewebsite.com/kia/forte5/2012/93...          66.050003   \n",
       "\n",
       "        cost_per_gallon_float Car make    model  year  User ID  litres filled  \\\n",
       "709964                   5.48   toyota  corolla  2003   811292      38.012756   \n",
       "864413                   4.99  hyundai     kona  2020  1010567      43.209564   \n",
       "277368                   6.20    lexus    is250  2011   966670      38.364761   \n",
       "717004                   4.88     ford   escape  2020  1056788      30.703922   \n",
       "658799                   5.67      kia   forte5  2012   933543      44.057404   \n",
       "\n",
       "         km driven  litres per 100 km currency  \n",
       "709964  594.658081           6.391712     CA$.  \n",
       "864413  514.313660           8.400536     CA$.  \n",
       "277368  432.183838           8.876038     CA$.  \n",
       "717004  266.265045          11.530148     CA$.  \n",
       "658799  486.947784           9.046731     CA$.  "
      ]
     },
     "execution_count": 113,
     "metadata": {},
     "output_type": "execute_result"
    }
   ],
   "source": [
    "main_currency.tail()"
   ]
  },
  {
   "cell_type": "markdown",
   "metadata": {
    "cell_id": "b3b5eef5a5724d91b6c75205bee50116",
    "deepnote_cell_height": 52.390625,
    "deepnote_cell_type": "markdown",
    "tags": []
   },
   "source": [
    "278020 values have been removed after accounting for outliers. "
   ]
  },
  {
   "cell_type": "markdown",
   "metadata": {
    "cell_id": "77f5c1eb834740e0b172043e869b6214",
    "deepnote_cell_height": 62,
    "deepnote_cell_type": "markdown",
    "tags": []
   },
   "source": [
    "### 4.2 Fuel Efficiency"
   ]
  },
  {
   "cell_type": "markdown",
   "metadata": {
    "cell_id": "a7f8b40f07d04f0f8e9ceb8daea4022d",
    "deepnote_cell_height": 74.796875,
    "deepnote_cell_type": "markdown",
    "tags": []
   },
   "source": [
    "We create a cost_per_litre column in Rands for the US, Britain, South Africa, Europe Union and compare their differences for  January 2022."
   ]
  },
  {
   "cell_type": "code",
   "execution_count": 114,
   "metadata": {
    "cell_id": "023045bc608f4fa08bdf7bba26a38bf5",
    "deepnote_cell_height": 294,
    "deepnote_cell_type": "code",
    "deepnote_to_be_reexecuted": false,
    "execution_millis": 3764,
    "execution_start": 1652633055630,
    "source_hash": "26ef10e0",
    "tags": []
   },
   "outputs": [
    {
     "name": "stdout",
     "output_type": "stream",
     "text": [
      "The current USD/ZAR exchange rate was 16.23 from Yahoo Finance \n",
      "Average cost per litre (in Rands) for the US is: R14.310972213745117\n"
     ]
    }
   ],
   "source": [
    "#United States\n",
    "#converting to cost per litre\n",
    "dollar['cost_per_litre'] = dollar['cost_per_gallon_float']/3.78541\n",
    "# converting the cost per litre to rands\n",
    "dollar['cost_per_litre'] = dollar['cost_per_litre']*16.23\n",
    "\n",
    "#January 2022 filtering\n",
    "dollar_filtered = dollar[dollar['date_fueled'].dt.strftime('%Y-%m') == '2022-01']\n",
    "print(\"The current USD/ZAR exchange rate was 16.23 from Yahoo Finance \")\n",
    "print(f'Average cost per litre (in Rands) for the US is: R{dollar_filtered[\"cost_per_litre\"].mean()}')"
   ]
  },
  {
   "cell_type": "code",
   "execution_count": 115,
   "metadata": {
    "cell_id": "066b003293cd4f23aa137d15c25cd801",
    "deepnote_cell_height": 294,
    "deepnote_cell_type": "code",
    "deepnote_to_be_reexecuted": false,
    "execution_millis": 377,
    "execution_start": 1652633059075,
    "source_hash": "28653d9a",
    "tags": []
   },
   "outputs": [
    {
     "name": "stdout",
     "output_type": "stream",
     "text": [
      "The current CAD/ZAR exchange rate was 12.47 from Yahoo Finance \n",
      "Average cost per litre (in Rands) for the Britiain is: R15.163396835327148\n"
     ]
    }
   ],
   "source": [
    "#Canadian dollar\n",
    "#converting to cost per litre\n",
    "can_dollar['cost_per_litre'] = can_dollar['cost_per_gallon_float']/4.54609\n",
    "# converting the cost per litre to rands\n",
    "can_dollar['cost_per_litre'] = can_dollar['cost_per_litre']*12.47\n",
    "\n",
    "#January 2022 filtering\n",
    "can_dollar_filtered = can_dollar[can_dollar['date_fueled'].dt.strftime('%Y-%m') == '2022-01']\n",
    "print(\"The current CAD/ZAR exchange rate was 12.47 from Yahoo Finance \")\n",
    "print(f'Average cost per litre (in Rands) for the Britiain is: R{can_dollar_filtered[\"cost_per_litre\"].mean()}')"
   ]
  },
  {
   "cell_type": "code",
   "execution_count": 116,
   "metadata": {
    "cell_id": "b46443a0f51c4990b522a3b15272b3d4",
    "deepnote_cell_height": 294,
    "deepnote_cell_type": "code",
    "deepnote_to_be_reexecuted": false,
    "execution_millis": 359,
    "execution_start": 1652633059475,
    "source_hash": "107e9184",
    "tags": []
   },
   "outputs": [
    {
     "name": "stdout",
     "output_type": "stream",
     "text": [
      "The current  EUR/ZAR exchange rate was 17.07 from Yahoo Finance \n",
      "Average cost per litre (in Rands) for the European Union is: R21.598575592041016\n"
     ]
    }
   ],
   "source": [
    "#European Union\n",
    "#converting to cost per litre\n",
    "euro['cost_per_litre'] = euro['cost_per_gallon_float']/4.54609\n",
    "# converting the cost per litre to rands\n",
    "euro['cost_per_litre'] = euro['cost_per_litre']*17.07\n",
    "\n",
    "#January 2022 filtering\n",
    "euro_filtered = euro[euro['date_fueled'].dt.strftime('%Y-%m') == '2022-01']\n",
    "print(\"The current  EUR/ZAR exchange rate was 17.07 from Yahoo Finance \")\n",
    "print(f'Average cost per litre (in Rands) for the European Union is: R{euro_filtered[\"cost_per_litre\"].mean()}')"
   ]
  },
  {
   "cell_type": "code",
   "execution_count": 117,
   "metadata": {
    "cell_id": "ce9e6d29cf4b476f94c7717e17f1f866",
    "deepnote_cell_height": 294,
    "deepnote_cell_type": "code",
    "deepnote_to_be_reexecuted": false,
    "execution_millis": 615,
    "execution_start": 1652633059844,
    "source_hash": "fcd8b7a2",
    "tags": []
   },
   "outputs": [
    {
     "name": "stdout",
     "output_type": "stream",
     "text": [
      "The current GBP/ZAR exchange rate was 19.89 from Yahoo Finance \n",
      "Average cost per litre (in Rands) for the Britiain is: R23.943214416503906\n"
     ]
    }
   ],
   "source": [
    "#Britain\n",
    "#converting to cost per litre\n",
    "pound['cost_per_litre'] = pound['cost_per_gallon_float']/4.54609\n",
    "# converting the cost per litre to rands\n",
    "pound['cost_per_litre'] = pound['cost_per_litre']*19.89\n",
    "\n",
    "#January 2022 filtering\n",
    "pound_filtered = pound[pound['date_fueled'].dt.strftime('%Y-%m') == '2022-01']\n",
    "print(\"The current GBP/ZAR exchange rate was 19.89 from Yahoo Finance \")\n",
    "print(f'Average cost per litre (in Rands) for the Britiain is: R{pound_filtered[\"cost_per_litre\"].mean()}')"
   ]
  },
  {
   "cell_type": "markdown",
   "metadata": {
    "cell_id": "8cacd257659d4e5b95aea45a8c63a8f0",
    "deepnote_cell_height": 209.1875,
    "deepnote_cell_type": "markdown",
    "tags": []
   },
   "source": [
    "From the results we can summarize that, there is a significant discrepancy in the pricing between countries. Richer countries often have higher pricing, whereas poorer countries and those that produce and export oil have dramatically lower prices. The pricing disparities across countries are due to different fuel taxes and subsidies. All nations have access to the same worldwide petroleum pricing but choose to levy various taxes. As a result, the retail price of gasoline fluctuates. The only exception is the US, which has an advanced economy, but low fuel prices.The US continues to spend billions in subsidies for oil exploration, which helps keep fuel costs artificially low. South Africa cost per litres did not have values for January 2022 therefore could not be computed, this may be due to outlier which may have been removed."
   ]
  },
  {
   "cell_type": "markdown",
   "metadata": {
    "cell_id": "aa0d17b84f4a48218171c1e37404b04e",
    "deepnote_cell_height": 70,
    "deepnote_cell_type": "markdown",
    "tags": []
   },
   "source": [
    "## Odometer readings"
   ]
  },
  {
   "cell_type": "markdown",
   "metadata": {
    "cell_id": "414344a88b9146cab1aa1707d5e3f614",
    "deepnote_cell_height": 279.59375,
    "deepnote_cell_type": "markdown",
    "tags": []
   },
   "source": [
    "The basic rule to identify missing values is to look at the cases where there is missing data \n",
    "and figure out if there is a sensible root cause for this. i.e check if there is\n",
    "a correlation between the missing values and some other \n",
    "feature in the dataset. \n",
    "\n",
    "There are three general types of scenarios for this:\n",
    "-   Data is missing completely at random (MCAR), \n",
    "-   missing at random (MAR), \n",
    "-   missing not at random (MNAR)\n",
    "\n",
    "In our case, the data is missing completely at random, there is no explanation as to why people did not answer."
   ]
  },
  {
   "cell_type": "code",
   "execution_count": 118,
   "metadata": {
    "cell_id": "d9bfa38bb92047c7ae099be35c298117",
    "deepnote_cell_height": 130,
    "deepnote_cell_type": "code",
    "deepnote_to_be_reexecuted": false,
    "execution_millis": 214,
    "execution_start": 1652633060464,
    "source_hash": "f10c3a6e",
    "tags": []
   },
   "outputs": [
    {
     "name": "stdout",
     "output_type": "stream",
     "text": [
      "Before removing the outliers, there were 149154 missing values in the odometer column\n"
     ]
    }
   ],
   "source": [
    "\n",
    "print(f'Before removing the outliers, there were {raw_data[\"odometer\"].isna().sum()} missing values in the odometer column')"
   ]
  },
  {
   "cell_type": "markdown",
   "metadata": {
    "cell_id": "6bbaecfb324041d484824f84b925de84",
    "deepnote_cell_height": 52.390625,
    "deepnote_cell_type": "markdown",
    "tags": []
   },
   "source": [
    "We now plot the average distance (in km) per tank for each country"
   ]
  },
  {
   "cell_type": "code",
   "execution_count": 119,
   "metadata": {
    "cell_id": "fc9a5a4286ca414c94626ce42ef6491e",
    "deepnote_cell_height": 282,
    "deepnote_cell_type": "code",
    "deepnote_to_be_reexecuted": false,
    "execution_millis": 36,
    "execution_start": 1652633060682,
    "source_hash": "a9a57540",
    "tags": []
   },
   "outputs": [
    {
     "name": "stdout",
     "output_type": "stream",
     "text": [
      "The average km driven for SA is 511.9111633300781\n",
      "The average km driven for Europe is 617.8850708007812\n",
      "The average km driven for the US is 441.4483642578125\n",
      "The average km driven for Canada is 424.723388671875\n",
      "The average km driven for Britain is 589.9613647460938\n"
     ]
    }
   ],
   "source": [
    "#Calculating the average for each country\n",
    "print(f'The average km driven for SA is {rand[\"km driven\"].mean()}')\n",
    "print(f'The average km driven for Europe is {euro[\"km driven\"].mean()}')\n",
    "print(f'The average km driven for the US is {dollar[\"km driven\"].mean()}')\n",
    "print(f'The average km driven for Canada is {can_dollar[\"km driven\"].mean()}')\n",
    "print(f'The average km driven for Britain is {pound[\"km driven\"].mean()}')"
   ]
  },
  {
   "cell_type": "code",
   "execution_count": 120,
   "metadata": {
    "cell_id": "5b876e30419f43cb923458287b19df2f",
    "deepnote_cell_height": 520.1875,
    "deepnote_cell_type": "code",
    "deepnote_output_heights": [
     null,
     245
    ],
    "deepnote_to_be_reexecuted": false,
    "execution_millis": 337,
    "execution_start": 1652633060728,
    "source_hash": "365866d8",
    "tags": []
   },
   "outputs": [
    {
     "data": {
      "text/plain": [
       "Text(0.5, 1.0, 'Km driven')"
      ]
     },
     "execution_count": 120,
     "metadata": {},
     "output_type": "execute_result"
    },
    {
     "data": {
      "image/png": "[encoded data removed]",
      "text/plain": [
       "<Figure size 720x360 with 1 Axes>"
      ]
     },
     "metadata": {},
     "output_type": "display_data"
    }
   ],
   "source": [
    "#Pie chart plot\n",
    "plt.figure(figsize=(10, 5))\n",
    "val = [512,618,441,425,595]\n",
    "labels = ['SA', 'Europe', 'US', 'Canada', 'Britain']\n",
    "expl = [0.5,0,0,0,0]\n",
    "plt.pie(val, labels=labels, explode=expl, startangle=90, shadow=True, autopct='%1.1f%%', radius=1)\n",
    "plt.title(\"Km driven\")\n"
   ]
  },
  {
   "cell_type": "markdown",
   "metadata": {
    "cell_id": "00197-4c6c8408-51a5-4381-931e-4107274f659e",
    "deepnote_cell_height": 74.796875,
    "deepnote_cell_type": "markdown"
   },
   "source": [
    "From the results, we can see that Britain has has the largest average\n",
    "distance. People in UK tend to drive smaller vehicles, which will have better fuel economy"
   ]
  },
  {
   "cell_type": "code",
   "execution_count": 121,
   "metadata": {
    "cell_id": "c314f9a8d2be41a5833b08cde1d58e61",
    "deepnote_cell_height": 336,
    "deepnote_cell_type": "code",
    "deepnote_output_heights": [
     null,
     133
    ],
    "deepnote_to_be_reexecuted": false,
    "execution_millis": 34036,
    "execution_start": 1652633061070,
    "source_hash": "73b1679a",
    "tags": []
   },
   "outputs": [
    {
     "data": {
      "text/plain": [
       "<AxesSubplot:xlabel='year', ylabel='km driven'>"
      ]
     },
     "execution_count": 121,
     "metadata": {},
     "output_type": "execute_result"
    },
    {
     "data": {
      "image/png": "[encoded data removed]",
      "text/plain": [
       "<Figure size 720x360 with 1 Axes>"
      ]
     },
     "metadata": {
      "needs_background": "light"
     },
     "output_type": "display_data"
    }
   ],
   "source": [
    "plt.figure(figsize=(10, 5))\n",
    "plt.xlim(0, 20)\n",
    "plt.xticks(rotation=90)\n",
    "sns.lineplot(x = 'year', y = 'km driven', data = main_currency)"
   ]
  },
  {
   "cell_type": "markdown",
   "metadata": {
    "cell_id": "e218fc0b640240d59ce51f8a482901e3",
    "deepnote_cell_height": 97.1875,
    "deepnote_cell_type": "markdown",
    "tags": []
   },
   "source": [
    "By comparing the year the vehicle was manufactured with the kilometers travelled, we may conclude that newer vehicles drive longer distances between fill-ups. We can observe that the older the vehicle, the less kilometers it traveled, and the newer the vehicle, the greater the number of kilometers it travelled."
   ]
  },
  {
   "cell_type": "markdown",
   "metadata": {
    "cell_id": "c57bf23bf14c4c0fb50b918b2a689699",
    "deepnote_cell_height": 62,
    "deepnote_cell_type": "markdown",
    "tags": []
   },
   "source": [
    "### Top 5 most popular vehicles in SA fuel efficiency"
   ]
  },
  {
   "cell_type": "code",
   "execution_count": 122,
   "metadata": {
    "cell_id": "8214fbd51a5642a09b558aecad08636c",
    "deepnote_cell_height": 232.125,
    "deepnote_cell_type": "code",
    "deepnote_to_be_reexecuted": false,
    "execution_millis": 551,
    "execution_start": 1652633094570,
    "source_hash": "a4702cb9",
    "tags": []
   },
   "outputs": [
    {
     "data": {
      "text/plain": [
       "volkswagen    1743\n",
       "nissan        1578\n",
       "ford          1542\n",
       "bmw           1540\n",
       "toyota        1452\n",
       "Name: Car make, dtype: int64"
      ]
     },
     "execution_count": 122,
     "metadata": {},
     "output_type": "execute_result"
    }
   ],
   "source": [
    "#Check the most popular car brands in SA\n",
    "rand['Car make'].value_counts().head()"
   ]
  },
  {
   "cell_type": "markdown",
   "metadata": {
    "cell_id": "00202-417f7f87-8b45-41e9-be8d-e0b620ca3edb",
    "deepnote_cell_height": 52.390625,
    "deepnote_cell_type": "markdown"
   },
   "source": [
    "The Top 5 most popular vehicles in SA are : VW, Nissan, Ford, BMW, Toyota"
   ]
  },
  {
   "cell_type": "markdown",
   "metadata": {
    "cell_id": "00203-53cd4000-ce9d-4cf2-9c8c-061d677ba38f",
    "deepnote_cell_height": 52.390625,
    "deepnote_cell_type": "markdown"
   },
   "source": [
    "We now compute their fuel\n",
    "efficiency and discuss whether these values are realistic."
   ]
  },
  {
   "cell_type": "code",
   "execution_count": 123,
   "metadata": {
    "cell_id": "00204-8e4973f5-f879-48d4-bee5-4a5ac059b832",
    "deepnote_cell_height": 354,
    "deepnote_cell_type": "code",
    "deepnote_to_be_reexecuted": false,
    "execution_millis": 429,
    "execution_start": 1652633094698,
    "source_hash": "4a302e8b"
   },
   "outputs": [
    {
     "name": "stdout",
     "output_type": "stream",
     "text": [
      "The average fuel efficiency for VW is :8.4591064453125 which is realistic.\n",
      "The average fuel efficiency for Nissan is :9.5407075881958 which is realistic.\n",
      "The average fuel efficiency for Ford is :8.48387336730957 which is realistic.\n",
      "The average fuel efficiency for BMW is :8.48387336730957 which is realistic.\n",
      "The average fuel efficiency for Toyota is :9.653664588928223 which is realistic.\n"
     ]
    }
   ],
   "source": [
    "vw = rand[rand['Car make'] == 'volkswagen']\n",
    "print(f'The average fuel efficiency for VW is :{vw[\"litres per 100 km\"].mean()} which is realistic.' )\n",
    "nissan = rand[rand['Car make'] == 'nissan']\n",
    "print(f'The average fuel efficiency for Nissan is :{nissan[\"litres per 100 km\"].mean()} which is realistic.' )\n",
    "ford = rand[rand['Car make'] == 'ford']\n",
    "print(f'The average fuel efficiency for Ford is :{ford[\"litres per 100 km\"].mean()} which is realistic.' )\n",
    "bmw = rand[rand['Car make'] == 'ford']\n",
    "print(f'The average fuel efficiency for BMW is :{bmw[\"litres per 100 km\"].mean()} which is realistic.' )\n",
    "toyota = rand[rand['Car make'] == 'toyota']\n",
    "print(f'The average fuel efficiency for Toyota is :{toyota[\"litres per 100 km\"].mean()} which is realistic.' )"
   ]
  },
  {
   "cell_type": "markdown",
   "metadata": {
    "cell_id": "5520f629a6334e0cbeb5f08a5025ec39",
    "deepnote_cell_height": 70,
    "deepnote_cell_type": "markdown",
    "tags": []
   },
   "source": [
    "## Most fuel efficient vehicle in each country"
   ]
  },
  {
   "cell_type": "markdown",
   "metadata": {
    "cell_id": "00206-74a1e4e4-32b7-4c57-b840-e8812d039c20",
    "deepnote_cell_height": 74.796875,
    "deepnote_cell_type": "markdown"
   },
   "source": [
    "We now determine the most fuel efficient vehicles in each country. Anything that is listed as less than 7-litres/100km or more than 16.5km/1-litre is considered to be a\n",
    "good fuel economy"
   ]
  },
  {
   "cell_type": "markdown",
   "metadata": {
    "cell_id": "0ddcaed57223407ba1c38535e8752dc3",
    "deepnote_cell_height": 62,
    "deepnote_cell_type": "markdown",
    "tags": []
   },
   "source": [
    "### South Africa vehicle fuel efficiency"
   ]
  },
  {
   "cell_type": "code",
   "execution_count": 124,
   "metadata": {
    "cell_id": "00208-9b84ff39-d9bc-4173-94ff-d14c3bc0b405",
    "deepnote_cell_height": 431,
    "deepnote_cell_type": "code",
    "deepnote_to_be_reexecuted": false,
    "execution_millis": 5260777,
    "execution_start": 1652633094809,
    "source_hash": "aedebfdc"
   },
   "outputs": [
    {
     "data": {
      "text/html": [
       "<div>\n",
       "<style scoped>\n",
       "    .dataframe tbody tr th:only-of-type {\n",
       "        vertical-align: middle;\n",
       "    }\n",
       "\n",
       "    .dataframe tbody tr th {\n",
       "        vertical-align: top;\n",
       "    }\n",
       "\n",
       "    .dataframe thead th {\n",
       "        text-align: right;\n",
       "    }\n",
       "</style>\n",
       "<table border=\"1\" class=\"dataframe\">\n",
       "  <thead>\n",
       "    <tr style=\"text-align: right;\">\n",
       "      <th></th>\n",
       "      <th>Car make</th>\n",
       "      <th>model</th>\n",
       "      <th>litres per 100 km</th>\n",
       "    </tr>\n",
       "  </thead>\n",
       "  <tbody>\n",
       "    <tr>\n",
       "      <th>847828</th>\n",
       "      <td>hyundai</td>\n",
       "      <td>atos</td>\n",
       "      <td>5.793473</td>\n",
       "    </tr>\n",
       "    <tr>\n",
       "      <th>1137953</th>\n",
       "      <td>volkswagen</td>\n",
       "      <td>jetta</td>\n",
       "      <td>5.080237</td>\n",
       "    </tr>\n",
       "    <tr>\n",
       "      <th>307824</th>\n",
       "      <td>mercedes-benz</td>\n",
       "      <td>c180</td>\n",
       "      <td>5.895113</td>\n",
       "    </tr>\n",
       "    <tr>\n",
       "      <th>1085262</th>\n",
       "      <td>audi</td>\n",
       "      <td>a3</td>\n",
       "      <td>5.333673</td>\n",
       "    </tr>\n",
       "    <tr>\n",
       "      <th>345608</th>\n",
       "      <td>hyundai</td>\n",
       "      <td>crdi</td>\n",
       "      <td>5.640647</td>\n",
       "    </tr>\n",
       "  </tbody>\n",
       "</table>\n",
       "</div>"
      ],
      "text/plain": [
       "              Car make  model  litres per 100 km\n",
       "847828         hyundai   atos           5.793473\n",
       "1137953     volkswagen  jetta           5.080237\n",
       "307824   mercedes-benz   c180           5.895113\n",
       "1085262           audi     a3           5.333673\n",
       "345608         hyundai   crdi           5.640647"
      ]
     },
     "execution_count": 124,
     "metadata": {},
     "output_type": "execute_result"
    }
   ],
   "source": [
    "#we define the fuel eeficiency boundry\n",
    "fuel_eff = rand.loc[(rand['litres per 100 km'] >= 1) & (rand['litres per 100 km'] <= 6)]\n",
    "fuel_eff[['Car make','model','litres per 100 km']].head()"
   ]
  },
  {
   "cell_type": "markdown",
   "metadata": {
    "cell_id": "00209-6dd858cc-62da-4db3-8c1f-36b02df8dcd9",
    "deepnote_cell_height": 52.390625,
    "deepnote_cell_type": "markdown"
   },
   "source": [
    "Some of the most fuel efficient cars in South Africa are printed above"
   ]
  },
  {
   "cell_type": "markdown",
   "metadata": {
    "cell_id": "7c808fd96aee4e6583a01945eece5d0e",
    "deepnote_cell_height": 70,
    "deepnote_cell_type": "markdown",
    "tags": []
   },
   "source": [
    "## United States vehicle fuel efficiency"
   ]
  },
  {
   "cell_type": "code",
   "execution_count": 125,
   "metadata": {
    "cell_id": "44ded921f77940aa87e8bbad38278ec3",
    "deepnote_cell_height": 431,
    "deepnote_cell_type": "code",
    "deepnote_to_be_reexecuted": false,
    "execution_millis": 292,
    "execution_start": 1652633094850,
    "source_hash": "46a46ff1",
    "tags": []
   },
   "outputs": [
    {
     "data": {
      "text/html": [
       "<div>\n",
       "<style scoped>\n",
       "    .dataframe tbody tr th:only-of-type {\n",
       "        vertical-align: middle;\n",
       "    }\n",
       "\n",
       "    .dataframe tbody tr th {\n",
       "        vertical-align: top;\n",
       "    }\n",
       "\n",
       "    .dataframe thead th {\n",
       "        text-align: right;\n",
       "    }\n",
       "</style>\n",
       "<table border=\"1\" class=\"dataframe\">\n",
       "  <thead>\n",
       "    <tr style=\"text-align: right;\">\n",
       "      <th></th>\n",
       "      <th>Car make</th>\n",
       "      <th>model</th>\n",
       "      <th>litres per 100 km</th>\n",
       "    </tr>\n",
       "  </thead>\n",
       "  <tbody>\n",
       "    <tr>\n",
       "      <th>19026</th>\n",
       "      <td>honda</td>\n",
       "      <td>civic</td>\n",
       "      <td>6.897801</td>\n",
       "    </tr>\n",
       "    <tr>\n",
       "      <th>748358</th>\n",
       "      <td>subaru</td>\n",
       "      <td>legacy</td>\n",
       "      <td>6.817826</td>\n",
       "    </tr>\n",
       "    <tr>\n",
       "      <th>405225</th>\n",
       "      <td>toyota</td>\n",
       "      <td>paseo</td>\n",
       "      <td>6.798121</td>\n",
       "    </tr>\n",
       "    <tr>\n",
       "      <th>1113714</th>\n",
       "      <td>toyota</td>\n",
       "      <td>mr2</td>\n",
       "      <td>6.979673</td>\n",
       "    </tr>\n",
       "    <tr>\n",
       "      <th>942568</th>\n",
       "      <td>toyota</td>\n",
       "      <td>mr2</td>\n",
       "      <td>6.759052</td>\n",
       "    </tr>\n",
       "  </tbody>\n",
       "</table>\n",
       "</div>"
      ],
      "text/plain": [
       "        Car make   model  litres per 100 km\n",
       "19026      honda   civic           6.897801\n",
       "748358    subaru  legacy           6.817826\n",
       "405225    toyota   paseo           6.798121\n",
       "1113714   toyota     mr2           6.979673\n",
       "942568    toyota     mr2           6.759052"
      ]
     },
     "execution_count": 125,
     "metadata": {},
     "output_type": "execute_result"
    }
   ],
   "source": [
    "#we define the fuel eeficiency boundry\n",
    "fuel_eff = dollar.loc[(dollar['litres per 100 km'] >= 1) & (dollar['litres per 100 km'] <= 7)]\n",
    "fuel_eff[['Car make','model','litres per 100 km']].head()"
   ]
  },
  {
   "cell_type": "markdown",
   "metadata": {
    "cell_id": "5b4adfa42ee0478b98286857342285c4",
    "deepnote_cell_height": 52.390625,
    "deepnote_cell_type": "markdown",
    "tags": []
   },
   "source": [
    "Some of the most fuel efficient cars in the United States are printed above"
   ]
  },
  {
   "cell_type": "markdown",
   "metadata": {
    "cell_id": "41e7adf7400345be8e6bdabc552ab610",
    "deepnote_cell_height": 70,
    "deepnote_cell_type": "markdown",
    "tags": []
   },
   "source": [
    "## Britain vehicle fuel efficiency"
   ]
  },
  {
   "cell_type": "code",
   "execution_count": 126,
   "metadata": {
    "cell_id": "656f39d772154c43a5cd00b1bd990ad5",
    "deepnote_cell_height": 431,
    "deepnote_cell_type": "code",
    "deepnote_to_be_reexecuted": false,
    "execution_millis": 303,
    "execution_start": 1652633094851,
    "source_hash": "2fcc4264",
    "tags": []
   },
   "outputs": [
    {
     "data": {
      "text/html": [
       "<div>\n",
       "<style scoped>\n",
       "    .dataframe tbody tr th:only-of-type {\n",
       "        vertical-align: middle;\n",
       "    }\n",
       "\n",
       "    .dataframe tbody tr th {\n",
       "        vertical-align: top;\n",
       "    }\n",
       "\n",
       "    .dataframe thead th {\n",
       "        text-align: right;\n",
       "    }\n",
       "</style>\n",
       "<table border=\"1\" class=\"dataframe\">\n",
       "  <thead>\n",
       "    <tr style=\"text-align: right;\">\n",
       "      <th></th>\n",
       "      <th>Car make</th>\n",
       "      <th>model</th>\n",
       "      <th>litres per 100 km</th>\n",
       "    </tr>\n",
       "  </thead>\n",
       "  <tbody>\n",
       "    <tr>\n",
       "      <th>623284</th>\n",
       "      <td>ford</td>\n",
       "      <td>mondeo</td>\n",
       "      <td>5.470116</td>\n",
       "    </tr>\n",
       "    <tr>\n",
       "      <th>87226</th>\n",
       "      <td>ford</td>\n",
       "      <td>mondeo</td>\n",
       "      <td>5.135699</td>\n",
       "    </tr>\n",
       "    <tr>\n",
       "      <th>479144</th>\n",
       "      <td>ford</td>\n",
       "      <td>mondeo</td>\n",
       "      <td>4.810122</td>\n",
       "    </tr>\n",
       "    <tr>\n",
       "      <th>188873</th>\n",
       "      <td>ford</td>\n",
       "      <td>mondeo</td>\n",
       "      <td>4.723193</td>\n",
       "    </tr>\n",
       "    <tr>\n",
       "      <th>654920</th>\n",
       "      <td>ford</td>\n",
       "      <td>mondeo</td>\n",
       "      <td>4.859814</td>\n",
       "    </tr>\n",
       "  </tbody>\n",
       "</table>\n",
       "</div>"
      ],
      "text/plain": [
       "       Car make   model  litres per 100 km\n",
       "623284     ford  mondeo           5.470116\n",
       "87226      ford  mondeo           5.135699\n",
       "479144     ford  mondeo           4.810122\n",
       "188873     ford  mondeo           4.723193\n",
       "654920     ford  mondeo           4.859814"
      ]
     },
     "execution_count": 126,
     "metadata": {},
     "output_type": "execute_result"
    }
   ],
   "source": [
    "#we define the fuel eeficiency boundry\n",
    "fuel_eff = pound.loc[(pound['litres per 100 km'] >= 1) & (pound['litres per 100 km'] <= 6)]\n",
    "fuel_eff[['Car make','model','litres per 100 km']].head()"
   ]
  },
  {
   "cell_type": "markdown",
   "metadata": {
    "cell_id": "71eada21658c4c87a82688c704fbe875",
    "deepnote_cell_height": 52.390625,
    "deepnote_cell_type": "markdown",
    "tags": []
   },
   "source": [
    "Some of the most fuel efficient cars in the Britain are printed above"
   ]
  },
  {
   "cell_type": "markdown",
   "metadata": {
    "cell_id": "da19f8c37b6c4e9c9ceb4c04d71ec76f",
    "deepnote_cell_height": 70,
    "deepnote_cell_type": "markdown",
    "tags": []
   },
   "source": [
    "## Europe vehicle fuel efficiency"
   ]
  },
  {
   "cell_type": "code",
   "execution_count": 127,
   "metadata": {
    "cell_id": "b74e39669db040f48b488204bf9322c8",
    "deepnote_cell_height": 431,
    "deepnote_cell_type": "code",
    "deepnote_to_be_reexecuted": false,
    "execution_millis": 30,
    "execution_start": 1652633094899,
    "source_hash": "8ce7261b",
    "tags": []
   },
   "outputs": [
    {
     "data": {
      "text/html": [
       "<div>\n",
       "<style scoped>\n",
       "    .dataframe tbody tr th:only-of-type {\n",
       "        vertical-align: middle;\n",
       "    }\n",
       "\n",
       "    .dataframe tbody tr th {\n",
       "        vertical-align: top;\n",
       "    }\n",
       "\n",
       "    .dataframe thead th {\n",
       "        text-align: right;\n",
       "    }\n",
       "</style>\n",
       "<table border=\"1\" class=\"dataframe\">\n",
       "  <thead>\n",
       "    <tr style=\"text-align: right;\">\n",
       "      <th></th>\n",
       "      <th>Car make</th>\n",
       "      <th>model</th>\n",
       "      <th>litres per 100 km</th>\n",
       "    </tr>\n",
       "  </thead>\n",
       "  <tbody>\n",
       "    <tr>\n",
       "      <th>382233</th>\n",
       "      <td>citroen</td>\n",
       "      <td>xantia</td>\n",
       "      <td>5.124509</td>\n",
       "    </tr>\n",
       "    <tr>\n",
       "      <th>34865</th>\n",
       "      <td>citroen</td>\n",
       "      <td>xantia</td>\n",
       "      <td>5.939773</td>\n",
       "    </tr>\n",
       "    <tr>\n",
       "      <th>119184</th>\n",
       "      <td>citroen</td>\n",
       "      <td>xantia</td>\n",
       "      <td>5.736951</td>\n",
       "    </tr>\n",
       "    <tr>\n",
       "      <th>672703</th>\n",
       "      <td>ford</td>\n",
       "      <td>galaxie</td>\n",
       "      <td>4.429661</td>\n",
       "    </tr>\n",
       "    <tr>\n",
       "      <th>128644</th>\n",
       "      <td>citroen</td>\n",
       "      <td>xantia</td>\n",
       "      <td>5.333673</td>\n",
       "    </tr>\n",
       "  </tbody>\n",
       "</table>\n",
       "</div>"
      ],
      "text/plain": [
       "       Car make    model  litres per 100 km\n",
       "382233  citroen   xantia           5.124509\n",
       "34865   citroen   xantia           5.939773\n",
       "119184  citroen   xantia           5.736951\n",
       "672703     ford  galaxie           4.429661\n",
       "128644  citroen   xantia           5.333673"
      ]
     },
     "execution_count": 127,
     "metadata": {},
     "output_type": "execute_result"
    }
   ],
   "source": [
    "#we define the fuel eeficiency boundry\n",
    "fuel_eff = euro.loc[(euro['litres per 100 km'] >= 1) & (euro['litres per 100 km'] <= 6)]\n",
    "fuel_eff[['Car make','model','litres per 100 km']].head()"
   ]
  },
  {
   "cell_type": "markdown",
   "metadata": {
    "cell_id": "00218-e6970907-27de-4598-b020-3ec62856c07c",
    "deepnote_cell_height": 52.390625,
    "deepnote_cell_type": "markdown"
   },
   "source": [
    "Some of  the most fuel efficient vehicles in Europe are printed above"
   ]
  },
  {
   "cell_type": "markdown",
   "metadata": {
    "cell_id": "be46b8708cd34037b737d4bfbb03ffe1",
    "deepnote_cell_height": 70,
    "deepnote_cell_type": "markdown",
    "tags": []
   },
   "source": [
    "## Canada vehicle fuel efficiency"
   ]
  },
  {
   "cell_type": "code",
   "execution_count": 128,
   "metadata": {
    "cell_id": "9a4103ac4a5246d5951fe008aed7e0ac",
    "deepnote_cell_height": 431,
    "deepnote_cell_type": "code",
    "deepnote_to_be_reexecuted": false,
    "execution_millis": 223,
    "execution_start": 1652633094934,
    "source_hash": "60f0c647",
    "tags": []
   },
   "outputs": [
    {
     "data": {
      "text/html": [
       "<div>\n",
       "<style scoped>\n",
       "    .dataframe tbody tr th:only-of-type {\n",
       "        vertical-align: middle;\n",
       "    }\n",
       "\n",
       "    .dataframe tbody tr th {\n",
       "        vertical-align: top;\n",
       "    }\n",
       "\n",
       "    .dataframe thead th {\n",
       "        text-align: right;\n",
       "    }\n",
       "</style>\n",
       "<table border=\"1\" class=\"dataframe\">\n",
       "  <thead>\n",
       "    <tr style=\"text-align: right;\">\n",
       "      <th></th>\n",
       "      <th>Car make</th>\n",
       "      <th>model</th>\n",
       "      <th>litres per 100 km</th>\n",
       "    </tr>\n",
       "  </thead>\n",
       "  <tbody>\n",
       "    <tr>\n",
       "      <th>671900</th>\n",
       "      <td>suzuki</td>\n",
       "      <td>swift</td>\n",
       "      <td>5.969923</td>\n",
       "    </tr>\n",
       "    <tr>\n",
       "      <th>1169622</th>\n",
       "      <td>suzuki</td>\n",
       "      <td>swift</td>\n",
       "      <td>5.880375</td>\n",
       "    </tr>\n",
       "    <tr>\n",
       "      <th>454796</th>\n",
       "      <td>suzuki</td>\n",
       "      <td>swift</td>\n",
       "      <td>5.895113</td>\n",
       "    </tr>\n",
       "    <tr>\n",
       "      <th>363315</th>\n",
       "      <td>toyota</td>\n",
       "      <td>tercel</td>\n",
       "      <td>5.924811</td>\n",
       "    </tr>\n",
       "    <tr>\n",
       "      <th>719596</th>\n",
       "      <td>honda</td>\n",
       "      <td>beat</td>\n",
       "      <td>5.895113</td>\n",
       "    </tr>\n",
       "  </tbody>\n",
       "</table>\n",
       "</div>"
      ],
      "text/plain": [
       "        Car make   model  litres per 100 km\n",
       "671900    suzuki   swift           5.969923\n",
       "1169622   suzuki   swift           5.880375\n",
       "454796    suzuki   swift           5.895113\n",
       "363315    toyota  tercel           5.924811\n",
       "719596     honda    beat           5.895113"
      ]
     },
     "execution_count": 128,
     "metadata": {},
     "output_type": "execute_result"
    }
   ],
   "source": [
    "#we define the fuel eeficiency boundry\n",
    "fuel_eff = can_dollar.loc[(can_dollar['litres per 100 km'] >= 1) & (can_dollar['litres per 100 km'] <= 6)]\n",
    "fuel_eff[['Car make','model','litres per 100 km']].head()"
   ]
  },
  {
   "cell_type": "markdown",
   "metadata": {
    "cell_id": "5ce25ef730fa4658bd3dd1b2f7aa6b6c",
    "deepnote_cell_height": 52.390625,
    "deepnote_cell_type": "markdown",
    "tags": []
   },
   "source": [
    "Some of the most fuel efficient vehicles in Canada are printed above"
   ]
  },
  {
   "cell_type": "markdown",
   "metadata": {
    "cell_id": "00222-652748fd-171f-4e22-80e4-5fa5e8a1410c",
    "deepnote_cell_height": 94,
    "deepnote_cell_type": "markdown"
   },
   "source": [
    "### Fuel efficiency for the top 5 Canadian vehicles between seasons"
   ]
  },
  {
   "cell_type": "markdown",
   "metadata": {
    "cell_id": "a421d0aa1f6b421c9e0bc374aa8acb2b",
    "deepnote_cell_height": 52.390625,
    "deepnote_cell_type": "markdown",
    "tags": []
   },
   "source": [
    "We now plot the difference in fuel efficiency for the top 5 Canadian vehicles between seasons"
   ]
  },
  {
   "cell_type": "code",
   "execution_count": 129,
   "metadata": {
    "cell_id": "e269161317354f31b80d3cd05ecbbf43",
    "deepnote_cell_height": 214.125,
    "deepnote_cell_type": "code",
    "deepnote_to_be_reexecuted": false,
    "execution_millis": 159,
    "execution_start": 1652633094999,
    "source_hash": "4293d48e",
    "tags": []
   },
   "outputs": [
    {
     "data": {
      "text/plain": [
       "toyota     2621\n",
       "bmw        2532\n",
       "mazda      2145\n",
       "hyundai    1924\n",
       "nissan     1871\n",
       "Name: Car make, dtype: int64"
      ]
     },
     "execution_count": 129,
     "metadata": {},
     "output_type": "execute_result"
    }
   ],
   "source": [
    "can_dollar['Car make'].value_counts().head()"
   ]
  },
  {
   "cell_type": "markdown",
   "metadata": {
    "cell_id": "00225-6cbda8d2-5dc7-48f0-88f7-929f654ee9d7",
    "deepnote_cell_height": 52.390625,
    "deepnote_cell_type": "markdown"
   },
   "source": [
    "The top 5 most popular vehicles in Canada are: Toyota, BMW, Mazda, Hyundai, Nissan"
   ]
  },
  {
   "cell_type": "markdown",
   "metadata": {
    "cell_id": "338ea01b7bf9473aa7608e7dca191492",
    "deepnote_cell_height": 110,
    "deepnote_cell_type": "markdown",
    "tags": []
   },
   "source": [
    "## Top 5 most popular vehicles between the four seasons"
   ]
  },
  {
   "cell_type": "markdown",
   "metadata": {
    "cell_id": "00227-771f6f82-2af6-4067-b1f9-0f41a5808abd",
    "deepnote_cell_height": 52.390625,
    "deepnote_cell_type": "markdown"
   },
   "source": [
    "We now plot the difference in fuel efficiency for the top 5 Canadian vehicles between seasons"
   ]
  },
  {
   "cell_type": "markdown",
   "metadata": {
    "cell_id": "00228-619f2cc9-7549-4603-97c7-20abffda808f",
    "deepnote_cell_height": 62,
    "deepnote_cell_type": "markdown"
   },
   "source": [
    "### Canadian Summer fuel efficiency"
   ]
  },
  {
   "cell_type": "code",
   "execution_count": 130,
   "metadata": {
    "cell_id": "00229-4669235b-5fbc-42f4-a2d5-43cac8e5b211",
    "deepnote_cell_height": 171,
    "deepnote_cell_type": "code",
    "deepnote_to_be_reexecuted": false,
    "execution_millis": 21,
    "execution_start": 1652633095039,
    "source_hash": "972752b9"
   },
   "outputs": [],
   "source": [
    "#Summer runs from June to August in Canada\n",
    "df_june = can_dollar[can_dollar['date_fueled'] == '2021-06']\n",
    "df_july = can_dollar[can_dollar['date_fueled'] == '2021-07']\n",
    "df_august = can_dollar[can_dollar['date_fueled'] == '2021-08']\n",
    "df_summer = pd.concat([df_june,df_july,df_august])\n"
   ]
  },
  {
   "cell_type": "code",
   "execution_count": 131,
   "metadata": {
    "cell_id": "00230-f030882c-2601-4bdd-b81d-c9ed3e33182a",
    "deepnote_cell_height": 189,
    "deepnote_cell_type": "code",
    "deepnote_to_be_reexecuted": false,
    "execution_millis": 32,
    "execution_start": 1652633095069,
    "source_hash": "cf3057af"
   },
   "outputs": [],
   "source": [
    "#top 5 most popular vehicles in Canada\n",
    "df_toyota = df_summer[df_summer['Car make'] == 'toyota']\n",
    "df_bmw = df_summer[df_summer['Car make'] == 'bmw']\n",
    "df_mazda = df_summer[df_summer['Car make'] == 'mazda']\n",
    "df_hyandai = df_summer[df_summer['Car make'] == 'hyundai']\n",
    "df_nissan = df_summer[df_summer['Car make'] == 'nissan']\n",
    "fuel_eff_summer = pd.concat([df_toyota, df_bmw ,df_mazda,df_hyandai,df_nissan])"
   ]
  },
  {
   "cell_type": "code",
   "execution_count": 132,
   "metadata": {
    "cell_id": "d2f0dc5274864e268d41098574cd28a6",
    "deepnote_cell_height": 498.125,
    "deepnote_cell_type": "code",
    "deepnote_output_heights": [
     null,
     145
    ],
    "deepnote_to_be_reexecuted": false,
    "execution_millis": 810,
    "execution_start": 1652633095107,
    "source_hash": "1c9959c4",
    "tags": []
   },
   "outputs": [
    {
     "data": {
      "text/plain": [
       "([0, 1, 2, 3, 4],\n",
       " [Text(0, 0, ''),\n",
       "  Text(0, 0, ''),\n",
       "  Text(0, 0, ''),\n",
       "  Text(0, 0, ''),\n",
       "  Text(0, 0, '')])"
      ]
     },
     "execution_count": 132,
     "metadata": {},
     "output_type": "execute_result"
    },
    {
     "data": {
      "image/png": "[encoded data removed]",
      "text/plain": [
       "<Figure size 720x360 with 1 Axes>"
      ]
     },
     "metadata": {
      "needs_background": "light"
     },
     "output_type": "display_data"
    }
   ],
   "source": [
    "#plotting the graph\n",
    "plt.figure(figsize=(10, 5))\n",
    "plot_distrubution_x = fuel_eff_summer['Car make']\n",
    "plot_distribution_y = fuel_eff_summer['litres per 100 km']\n",
    "plt.bar(plot_distrubution_x,plot_distribution_y)\n",
    "plt.title(\"Fuel efficiency for the top 5 Canadian vehicles in Summer 2021\")\n",
    "plt.xticks(rotation=90)"
   ]
  },
  {
   "cell_type": "markdown",
   "metadata": {
    "cell_id": "00232-1e05c6da-0622-4e25-ae7b-306e801dd382",
    "deepnote_cell_height": 62,
    "deepnote_cell_type": "markdown"
   },
   "source": [
    "### Canadian Winter fuel efficiency"
   ]
  },
  {
   "cell_type": "code",
   "execution_count": 133,
   "metadata": {
    "cell_id": "00233-9ea9f106-4480-4a8f-a679-78a742c448b5",
    "deepnote_cell_height": 171,
    "deepnote_cell_type": "code",
    "deepnote_to_be_reexecuted": false,
    "execution_millis": 24,
    "execution_start": 1652633095926,
    "source_hash": "15ff36a5"
   },
   "outputs": [],
   "source": [
    "#Winter runs from Dec to Feb in Canada\n",
    "df_dec = can_dollar[can_dollar['date_fueled'] == '2021-12']\n",
    "df_jan = can_dollar[can_dollar['date_fueled'] == '2021-01']\n",
    "df_feb = can_dollar[can_dollar['date_fueled'] == '2021-02']\n",
    "df_winter = pd.concat([df_dec,df_jan,df_feb])\n"
   ]
  },
  {
   "cell_type": "code",
   "execution_count": 134,
   "metadata": {
    "cell_id": "00234-c4837d99-c5b7-450e-93d8-548f74b730fe",
    "deepnote_cell_height": 189,
    "deepnote_cell_type": "code",
    "deepnote_to_be_reexecuted": false,
    "execution_millis": 46,
    "execution_start": 1652633095957,
    "source_hash": "2bdd4dc0"
   },
   "outputs": [],
   "source": [
    "#top 5 most popular vehicles in Canada\n",
    "df_toyota = df_winter[df_winter['Car make'] == 'toyota']\n",
    "df_bmw = df_winter[df_winter['Car make'] == 'bmw']\n",
    "df_mazda = df_winter[df_winter['Car make'] == 'mazda']\n",
    "df_hyandai = df_winter[df_winter['Car make'] == 'hyundai']\n",
    "df_nissan = df_winter[df_winter['Car make'] == 'nissan']\n",
    "fuel_eff_winter = pd.concat([df_toyota, df_bmw ,df_mazda,df_hyandai,df_nissan])"
   ]
  },
  {
   "cell_type": "code",
   "execution_count": 135,
   "metadata": {
    "cell_id": "00235-b9e94f14-159e-440c-8d6c-4a0023ae2e35",
    "deepnote_cell_height": 500.125,
    "deepnote_cell_type": "code",
    "deepnote_output_heights": [
     null,
     147
    ],
    "deepnote_to_be_reexecuted": false,
    "execution_millis": 448,
    "execution_start": 1652633096003,
    "source_hash": "58c84659"
   },
   "outputs": [
    {
     "data": {
      "text/plain": [
       "([0, 1, 2, 3, 4],\n",
       " [Text(0, 0, ''),\n",
       "  Text(0, 0, ''),\n",
       "  Text(0, 0, ''),\n",
       "  Text(0, 0, ''),\n",
       "  Text(0, 0, '')])"
      ]
     },
     "execution_count": 135,
     "metadata": {},
     "output_type": "execute_result"
    },
    {
     "data": {
      "image/png": "[encoded data removed]",
      "text/plain": [
       "<Figure size 720x360 with 1 Axes>"
      ]
     },
     "metadata": {
      "needs_background": "light"
     },
     "output_type": "display_data"
    }
   ],
   "source": [
    "#plotting the graph\n",
    "plt.figure(figsize=(10, 5))\n",
    "plot_distrubution_x = fuel_eff_winter['Car make']\n",
    "plot_distribution_y = fuel_eff_winter['litres per 100 km']\n",
    "plt.bar(plot_distrubution_x,plot_distribution_y)\n",
    "plt.title(\"Fuel efficiency for the top 5 Canadian vehicles in Winter 2021\")\n",
    "plt.xticks(rotation=90)"
   ]
  },
  {
   "cell_type": "markdown",
   "metadata": {
    "cell_id": "00236-68edddca-8ae4-4323-9fc6-89d0429a805e",
    "deepnote_cell_height": 62,
    "deepnote_cell_type": "markdown"
   },
   "source": [
    "### Canadian Autumn fuel efficiency"
   ]
  },
  {
   "cell_type": "code",
   "execution_count": 136,
   "metadata": {
    "cell_id": "00237-5064dcdf-d4f1-4e02-a013-de1b8df1ecb1",
    "deepnote_cell_height": 153,
    "deepnote_cell_type": "code",
    "deepnote_to_be_reexecuted": false,
    "execution_millis": 25,
    "execution_start": 1652633096452,
    "source_hash": "9e51f5b7"
   },
   "outputs": [],
   "source": [
    "#Autumn runs from Sept to Nov\n",
    "df_sept = can_dollar[can_dollar['date_fueled'] == '2021-09']\n",
    "df_oct = can_dollar[can_dollar['date_fueled'] == '2021-10']\n",
    "df_nov = can_dollar[can_dollar['date_fueled'] == '2021-11']\n",
    "df_autumn = pd.concat([df_sept,df_oct,df_nov])"
   ]
  },
  {
   "cell_type": "code",
   "execution_count": 137,
   "metadata": {
    "cell_id": "00238-293b418d-4c19-4acd-9db2-6dc1b74748e8",
    "deepnote_cell_height": 189,
    "deepnote_cell_type": "code",
    "deepnote_to_be_reexecuted": false,
    "execution_millis": 73,
    "execution_start": 1652633096481,
    "source_hash": "1380790c"
   },
   "outputs": [],
   "source": [
    "#top 5 most popular vehicles in Canada\n",
    "df_toyota = df_autumn[df_autumn['Car make'] == 'toyota']\n",
    "df_bmw = df_autumn[df_autumn['Car make'] == 'bmw']\n",
    "df_mazda = df_autumn[df_autumn['Car make'] == 'mazda']\n",
    "df_hyandai = df_autumn[df_autumn['Car make'] == 'hyundai']\n",
    "df_nissan = df_autumn[df_autumn['Car make'] == 'nissan']\n",
    "fuel_eff_autumn = pd.concat([df_toyota, df_bmw ,df_mazda,df_hyandai,df_nissan])"
   ]
  },
  {
   "cell_type": "code",
   "execution_count": 138,
   "metadata": {
    "cell_id": "00239-93dfa073-c0b9-4186-80eb-4f22f16019a0",
    "deepnote_cell_height": 500.125,
    "deepnote_cell_type": "code",
    "deepnote_output_heights": [
     null,
     147
    ],
    "deepnote_to_be_reexecuted": false,
    "execution_millis": 549,
    "execution_start": 1652633096555,
    "source_hash": "2f1573ed"
   },
   "outputs": [
    {
     "data": {
      "text/plain": [
       "([0, 1, 2, 3, 4],\n",
       " [Text(0, 0, ''),\n",
       "  Text(0, 0, ''),\n",
       "  Text(0, 0, ''),\n",
       "  Text(0, 0, ''),\n",
       "  Text(0, 0, '')])"
      ]
     },
     "execution_count": 138,
     "metadata": {},
     "output_type": "execute_result"
    },
    {
     "data": {
      "image/png": "[encoded data removed]",
      "text/plain": [
       "<Figure size 720x360 with 1 Axes>"
      ]
     },
     "metadata": {
      "needs_background": "light"
     },
     "output_type": "display_data"
    }
   ],
   "source": [
    "#plotting the graph\n",
    "plt.figure(figsize=(10, 5))\n",
    "plot_distrubution_x = fuel_eff_autumn['Car make']\n",
    "plot_distribution_y = fuel_eff_autumn['litres per 100 km']\n",
    "plt.bar(plot_distrubution_x,plot_distribution_y)\n",
    "plt.title(\"Fuel efficiency for the top 5 Canadian vehicles in Autumn 2021\")\n",
    "plt.xticks(rotation=90)"
   ]
  },
  {
   "cell_type": "markdown",
   "metadata": {
    "cell_id": "00240-c13a4468-c9bc-4861-96aa-bc39204e44c9",
    "deepnote_cell_height": 62,
    "deepnote_cell_type": "markdown"
   },
   "source": [
    "### Canadian Spring fuel efficiency"
   ]
  },
  {
   "cell_type": "code",
   "execution_count": 139,
   "metadata": {
    "cell_id": "00241-ff033fe7-ef3e-4d52-8c1e-5d99269fd6c1",
    "deepnote_cell_height": 153,
    "deepnote_cell_type": "code",
    "deepnote_to_be_reexecuted": false,
    "execution_millis": 21,
    "execution_start": 1652633097109,
    "source_hash": "b7d8a95d"
   },
   "outputs": [],
   "source": [
    "#Spring runs from March to May\n",
    "df_sept = can_dollar[can_dollar['date_fueled'] == '2021-03']\n",
    "df_oct = can_dollar[can_dollar['date_fueled'] == '2021-04']\n",
    "df_nov = can_dollar[can_dollar['date_fueled'] == '2021-05']\n",
    "df_spring = pd.concat([df_sept,df_oct,df_nov])"
   ]
  },
  {
   "cell_type": "code",
   "execution_count": 140,
   "metadata": {
    "cell_id": "00242-e3af4411-aaf4-4fd9-b03d-792dde2fcf19",
    "deepnote_cell_height": 189,
    "deepnote_cell_type": "code",
    "deepnote_to_be_reexecuted": false,
    "execution_millis": 36,
    "execution_start": 1652633097136,
    "source_hash": "f61a86ac"
   },
   "outputs": [],
   "source": [
    "#top 5 most popular vehicles in Canada\n",
    "df_toyota = df_autumn[df_autumn['Car make'] == 'toyota']\n",
    "df_bmw = df_autumn[df_autumn['Car make'] == 'bmw']\n",
    "df_mazda = df_autumn[df_autumn['Car make'] == 'mazda']\n",
    "df_hyandai = df_autumn[df_autumn['Car make'] == 'hyundai']\n",
    "df_nissan = df_autumn[df_autumn['Car make'] == 'nissan']\n",
    "fuel_eff_spring = pd.concat([df_toyota, df_bmw ,df_mazda,df_hyandai,df_nissan])"
   ]
  },
  {
   "cell_type": "code",
   "execution_count": 141,
   "metadata": {
    "cell_id": "00243-18a15544-2983-49b9-9dbe-66e9933bd640",
    "deepnote_cell_height": 500.125,
    "deepnote_cell_type": "code",
    "deepnote_output_heights": [
     null,
     147
    ],
    "deepnote_to_be_reexecuted": false,
    "execution_millis": 590,
    "execution_start": 1652633097175,
    "source_hash": "adb9d38c"
   },
   "outputs": [
    {
     "data": {
      "text/plain": [
       "([0, 1, 2, 3, 4],\n",
       " [Text(0, 0, ''),\n",
       "  Text(0, 0, ''),\n",
       "  Text(0, 0, ''),\n",
       "  Text(0, 0, ''),\n",
       "  Text(0, 0, '')])"
      ]
     },
     "execution_count": 141,
     "metadata": {},
     "output_type": "execute_result"
    },
    {
     "data": {
      "image/png": "[encoded data removed]",
      "text/plain": [
       "<Figure size 720x360 with 1 Axes>"
      ]
     },
     "metadata": {
      "needs_background": "light"
     },
     "output_type": "display_data"
    }
   ],
   "source": [
    "#plotting the graph\n",
    "plt.figure(figsize=(10, 5))\n",
    "plot_distrubution_x = fuel_eff_spring['Car make']\n",
    "plot_distribution_y = fuel_eff_spring['litres per 100 km']\n",
    "plt.bar(plot_distrubution_x,plot_distribution_y)\n",
    "plt.title(\"Fuel efficiency for the top 5 Canadian vehicles in Spring 2021\")\n",
    "plt.xticks(rotation=90)"
   ]
  },
  {
   "cell_type": "markdown",
   "metadata": {
    "cell_id": "00244-bd49597e-e5e6-4342-8b48-707385381541",
    "deepnote_cell_height": 74.796875,
    "deepnote_cell_type": "markdown"
   },
   "source": [
    "From the results, we notice that the cars simply get better gas mileage during warm weather than they do when it's cold.\n",
    "This is because cold engines use much more fuel than properly warmed up ones."
   ]
  },
  {
   "cell_type": "markdown",
   "metadata": {
    "cell_id": "00245-38f5d5aa-524d-4301-85c4-e229c975e2fb",
    "deepnote_cell_height": 62,
    "deepnote_cell_type": "markdown"
   },
   "source": [
    "### Correlations between fuel efficiency and other features."
   ]
  },
  {
   "cell_type": "markdown",
   "metadata": {
    "cell_id": "00246-3091d053-4771-4ded-8dec-9f94fde8cbf3",
    "deepnote_cell_height": 52.390625,
    "deepnote_cell_type": "markdown"
   },
   "source": [
    "We show the correlations between fuel efficiency and other features.\n"
   ]
  },
  {
   "cell_type": "code",
   "execution_count": 142,
   "metadata": {
    "cell_id": "00247-673d63b8-47ef-4c28-8c28-390b436dd722",
    "deepnote_cell_height": 390,
    "deepnote_cell_type": "code",
    "deepnote_to_be_reexecuted": false,
    "execution_millis": 427,
    "execution_start": 1652633097768,
    "source_hash": "4b0ba3b2"
   },
   "outputs": [
    {
     "data": {
      "text/html": [
       "<div>\n",
       "<style scoped>\n",
       "    .dataframe tbody tr th:only-of-type {\n",
       "        vertical-align: middle;\n",
       "    }\n",
       "\n",
       "    .dataframe tbody tr th {\n",
       "        vertical-align: top;\n",
       "    }\n",
       "\n",
       "    .dataframe thead th {\n",
       "        text-align: right;\n",
       "    }\n",
       "</style>\n",
       "<table border=\"1\" class=\"dataframe\">\n",
       "  <thead>\n",
       "    <tr style=\"text-align: right;\">\n",
       "      <th></th>\n",
       "      <th>litres per 100 km</th>\n",
       "      <th>km driven</th>\n",
       "      <th>litres filled</th>\n",
       "      <th>total_spent_float</th>\n",
       "    </tr>\n",
       "  </thead>\n",
       "  <tbody>\n",
       "    <tr>\n",
       "      <th>litres per 100 km</th>\n",
       "      <td>1.000000</td>\n",
       "      <td>-0.539355</td>\n",
       "      <td>0.348981</td>\n",
       "      <td>-0.068475</td>\n",
       "    </tr>\n",
       "    <tr>\n",
       "      <th>km driven</th>\n",
       "      <td>-0.539355</td>\n",
       "      <td>1.000000</td>\n",
       "      <td>0.548743</td>\n",
       "      <td>0.165877</td>\n",
       "    </tr>\n",
       "    <tr>\n",
       "      <th>litres filled</th>\n",
       "      <td>0.348981</td>\n",
       "      <td>0.548743</td>\n",
       "      <td>1.000000</td>\n",
       "      <td>0.121610</td>\n",
       "    </tr>\n",
       "    <tr>\n",
       "      <th>total_spent_float</th>\n",
       "      <td>-0.068475</td>\n",
       "      <td>0.165877</td>\n",
       "      <td>0.121610</td>\n",
       "      <td>1.000000</td>\n",
       "    </tr>\n",
       "  </tbody>\n",
       "</table>\n",
       "</div>"
      ],
      "text/plain": [
       "                   litres per 100 km  km driven  litres filled  \\\n",
       "litres per 100 km           1.000000  -0.539355       0.348981   \n",
       "km driven                  -0.539355   1.000000       0.548743   \n",
       "litres filled               0.348981   0.548743       1.000000   \n",
       "total_spent_float          -0.068475   0.165877       0.121610   \n",
       "\n",
       "                   total_spent_float  \n",
       "litres per 100 km          -0.068475  \n",
       "km driven                   0.165877  \n",
       "litres filled               0.121610  \n",
       "total_spent_float           1.000000  "
      ]
     },
     "execution_count": 142,
     "metadata": {},
     "output_type": "execute_result"
    }
   ],
   "source": [
    "sns.set(rc={'figure.figsize':(10,5)})\n",
    "cor = main_currency[['litres per 100 km','km driven','litres filled','total_spent_float' ]].corr()\n",
    "cor"
   ]
  },
  {
   "cell_type": "markdown",
   "metadata": {
    "cell_id": "00248-d7f3350d-8ec2-4efd-ba8d-d71120f9cc17",
    "deepnote_cell_height": 74.796875,
    "deepnote_cell_type": "markdown"
   },
   "source": [
    "We now utlize a correaltion heatmap to show the correlations between fuel efficiency and other features to measure how well they are related"
   ]
  },
  {
   "cell_type": "code",
   "execution_count": 143,
   "metadata": {
    "cell_id": "00249-bf9ea2c6-64b5-4a2a-bfd3-c032cb1cb86d",
    "deepnote_cell_height": 311.1875,
    "deepnote_cell_type": "code",
    "deepnote_output_heights": [
     null,
     126
    ],
    "deepnote_to_be_reexecuted": false,
    "execution_millis": 634,
    "execution_start": 1652633098199,
    "source_hash": "da397926"
   },
   "outputs": [
    {
     "data": {
      "text/plain": [
       "<AxesSubplot:title={'center':'Correlation heatmap between different features'}>"
      ]
     },
     "execution_count": 143,
     "metadata": {},
     "output_type": "execute_result"
    },
    {
     "data": {
      "image/png": "[encoded data removed]",
      "text/plain": [
       "<Figure size 720x360 with 2 Axes>"
      ]
     },
     "metadata": {},
     "output_type": "display_data"
    }
   ],
   "source": [
    "#correlation heatmap\n",
    "plt.title('Correlation heatmap between different features')\n",
    "sns.heatmap(cor,annot=True)"
   ]
  },
  {
   "cell_type": "markdown",
   "metadata": {
    "cell_id": "00250-015a4efe-6a07-427b-bfbb-a23c1df77428",
    "deepnote_cell_height": 74.796875,
    "deepnote_cell_type": "markdown"
   },
   "source": [
    "The above plot shows a correlation heatmap between different variables e.g Fuel efficiency and litres filled have a low (postive) correlation.\n",
    "\n",
    "\n"
   ]
  },
  {
   "cell_type": "code",
   "execution_count": 144,
   "metadata": {
    "cell_id": "00251-22dc2d35-2191-43b5-846c-359c7816b274",
    "deepnote_cell_height": 411.796875,
    "deepnote_cell_type": "code",
    "deepnote_to_be_reexecuted": false,
    "execution_millis": 147,
    "execution_start": 1652633098837,
    "source_hash": "df60a351"
   },
   "outputs": [
    {
     "data": {
      "text/html": [
       "<div>\n",
       "<style scoped>\n",
       "    .dataframe tbody tr th:only-of-type {\n",
       "        vertical-align: middle;\n",
       "    }\n",
       "\n",
       "    .dataframe tbody tr th {\n",
       "        vertical-align: top;\n",
       "    }\n",
       "\n",
       "    .dataframe thead th {\n",
       "        text-align: right;\n",
       "    }\n",
       "</style>\n",
       "<table border=\"1\" class=\"dataframe\">\n",
       "  <thead>\n",
       "    <tr style=\"text-align: right;\">\n",
       "      <th></th>\n",
       "      <th>date_fueled</th>\n",
       "      <th>date_captured</th>\n",
       "      <th>odometer</th>\n",
       "      <th>gallons</th>\n",
       "      <th>cost_per_gallon</th>\n",
       "      <th>total_spent</th>\n",
       "      <th>mpg</th>\n",
       "      <th>miles</th>\n",
       "      <th>user_url</th>\n",
       "      <th>total_spent_float</th>\n",
       "      <th>cost_per_gallon_float</th>\n",
       "      <th>Car make</th>\n",
       "      <th>model</th>\n",
       "      <th>year</th>\n",
       "      <th>User ID</th>\n",
       "      <th>litres filled</th>\n",
       "      <th>km driven</th>\n",
       "      <th>litres per 100 km</th>\n",
       "      <th>currency</th>\n",
       "    </tr>\n",
       "  </thead>\n",
       "  <tbody>\n",
       "    <tr>\n",
       "      <th>341874</th>\n",
       "      <td>2005-01-06</td>\n",
       "      <td>Oct 11 2008</td>\n",
       "      <td>153,582</td>\n",
       "      <td>12.598</td>\n",
       "      <td>$1.990</td>\n",
       "      <td>$25.07</td>\n",
       "      <td>21.400000</td>\n",
       "      <td>269.597198</td>\n",
       "      <td>https://www.somewebsite.com/bmw/535i/1986/10501</td>\n",
       "      <td>25.070000</td>\n",
       "      <td>1.990</td>\n",
       "      <td>bmw</td>\n",
       "      <td>535i</td>\n",
       "      <td>1986</td>\n",
       "      <td>10501</td>\n",
       "      <td>47.683430</td>\n",
       "      <td>433.781891</td>\n",
       "      <td>10.991355</td>\n",
       "      <td>$.</td>\n",
       "    </tr>\n",
       "    <tr>\n",
       "      <th>152908</th>\n",
       "      <td>2005-01-13</td>\n",
       "      <td>Oct 11 2008</td>\n",
       "      <td>153,868</td>\n",
       "      <td>12.387</td>\n",
       "      <td>$1.990</td>\n",
       "      <td>$24.65</td>\n",
       "      <td>23.100000</td>\n",
       "      <td>286.139709</td>\n",
       "      <td>https://www.somewebsite.com/bmw/535i/1986/10501</td>\n",
       "      <td>24.650000</td>\n",
       "      <td>1.990</td>\n",
       "      <td>bmw</td>\n",
       "      <td>535i</td>\n",
       "      <td>1986</td>\n",
       "      <td>10501</td>\n",
       "      <td>46.884796</td>\n",
       "      <td>460.398773</td>\n",
       "      <td>10.182467</td>\n",
       "      <td>$.</td>\n",
       "    </tr>\n",
       "    <tr>\n",
       "      <th>720594</th>\n",
       "      <td>2005-01-23</td>\n",
       "      <td>Oct 11 2008</td>\n",
       "      <td>154,101</td>\n",
       "      <td>11.353</td>\n",
       "      <td>$1.990</td>\n",
       "      <td>$22.59</td>\n",
       "      <td>20.500000</td>\n",
       "      <td>232.736496</td>\n",
       "      <td>https://www.somewebsite.com/bmw/535i/1986/10501</td>\n",
       "      <td>22.590000</td>\n",
       "      <td>1.990</td>\n",
       "      <td>bmw</td>\n",
       "      <td>535i</td>\n",
       "      <td>1986</td>\n",
       "      <td>10501</td>\n",
       "      <td>42.971104</td>\n",
       "      <td>374.473022</td>\n",
       "      <td>11.473903</td>\n",
       "      <td>$.</td>\n",
       "    </tr>\n",
       "    <tr>\n",
       "      <th>1089984</th>\n",
       "      <td>2005-02-12</td>\n",
       "      <td>Dec 28 2009</td>\n",
       "      <td>NaN</td>\n",
       "      <td>12.509</td>\n",
       "      <td>$2.159</td>\n",
       "      <td>$27.01</td>\n",
       "      <td>17.700001</td>\n",
       "      <td>221.409302</td>\n",
       "      <td>https://www.somewebsite.com/nissan/300zx/1995/...</td>\n",
       "      <td>27.010000</td>\n",
       "      <td>2.159</td>\n",
       "      <td>nissan</td>\n",
       "      <td>300zx</td>\n",
       "      <td>1995</td>\n",
       "      <td>32077</td>\n",
       "      <td>47.346565</td>\n",
       "      <td>356.247559</td>\n",
       "      <td>13.288982</td>\n",
       "      <td>$.</td>\n",
       "    </tr>\n",
       "    <tr>\n",
       "      <th>1075524</th>\n",
       "      <td>2005-02-20</td>\n",
       "      <td>Oct 11 2008</td>\n",
       "      <td>155,177</td>\n",
       "      <td>11.380</td>\n",
       "      <td>$2.010</td>\n",
       "      <td>$22.87</td>\n",
       "      <td>23.000000</td>\n",
       "      <td>261.739990</td>\n",
       "      <td>https://www.somewebsite.com/bmw/535i/1986/10501</td>\n",
       "      <td>22.870001</td>\n",
       "      <td>2.010</td>\n",
       "      <td>bmw</td>\n",
       "      <td>535i</td>\n",
       "      <td>1986</td>\n",
       "      <td>10501</td>\n",
       "      <td>43.073303</td>\n",
       "      <td>421.139648</td>\n",
       "      <td>10.226739</td>\n",
       "      <td>$.</td>\n",
       "    </tr>\n",
       "  </tbody>\n",
       "</table>\n",
       "</div>"
      ],
      "text/plain": [
       "        date_fueled date_captured  odometer  gallons cost_per_gallon  \\\n",
       "341874   2005-01-06   Oct 11 2008  153,582    12.598          $1.990   \n",
       "152908   2005-01-13   Oct 11 2008  153,868    12.387          $1.990   \n",
       "720594   2005-01-23   Oct 11 2008  154,101    11.353          $1.990   \n",
       "1089984  2005-02-12   Dec 28 2009       NaN   12.509          $2.159   \n",
       "1075524  2005-02-20   Oct 11 2008  155,177    11.380          $2.010   \n",
       "\n",
       "        total_spent        mpg       miles  \\\n",
       "341874       $25.07  21.400000  269.597198   \n",
       "152908       $24.65  23.100000  286.139709   \n",
       "720594       $22.59  20.500000  232.736496   \n",
       "1089984      $27.01  17.700001  221.409302   \n",
       "1075524      $22.87  23.000000  261.739990   \n",
       "\n",
       "                                                  user_url  total_spent_float  \\\n",
       "341874     https://www.somewebsite.com/bmw/535i/1986/10501          25.070000   \n",
       "152908     https://www.somewebsite.com/bmw/535i/1986/10501          24.650000   \n",
       "720594     https://www.somewebsite.com/bmw/535i/1986/10501          22.590000   \n",
       "1089984  https://www.somewebsite.com/nissan/300zx/1995/...          27.010000   \n",
       "1075524    https://www.somewebsite.com/bmw/535i/1986/10501          22.870001   \n",
       "\n",
       "         cost_per_gallon_float Car make  model  year User ID  litres filled  \\\n",
       "341874                   1.990      bmw   535i  1986   10501      47.683430   \n",
       "152908                   1.990      bmw   535i  1986   10501      46.884796   \n",
       "720594                   1.990      bmw   535i  1986   10501      42.971104   \n",
       "1089984                  2.159   nissan  300zx  1995   32077      47.346565   \n",
       "1075524                  2.010      bmw   535i  1986   10501      43.073303   \n",
       "\n",
       "          km driven  litres per 100 km currency  \n",
       "341874   433.781891          10.991355       $.  \n",
       "152908   460.398773          10.182467       $.  \n",
       "720594   374.473022          11.473903       $.  \n",
       "1089984  356.247559          13.288982       $.  \n",
       "1075524  421.139648          10.226739       $.  "
      ]
     },
     "execution_count": 144,
     "metadata": {},
     "output_type": "execute_result"
    }
   ],
   "source": [
    "main_currency.head()"
   ]
  },
  {
   "cell_type": "markdown",
   "metadata": {
    "cell_id": "00252-8bd9f7f4-30c3-4b0b-baa8-187c3867f68c",
    "deepnote_cell_height": 70,
    "deepnote_cell_type": "markdown"
   },
   "source": [
    "## Random Forest"
   ]
  },
  {
   "cell_type": "code",
   "execution_count": 145,
   "metadata": {
    "cell_id": "00253-728ed4d0-4c71-4081-8320-b34b04a6416d",
    "deepnote_cell_height": 117,
    "deepnote_cell_type": "code",
    "deepnote_to_be_reexecuted": false,
    "execution_millis": 17149,
    "execution_start": 1652633098989,
    "source_hash": "c9cb27d7"
   },
   "outputs": [],
   "source": [
    "#create a new top 5 currency csv file the for random forest algorithm so we can drop th columns we don't want\n",
    "# saving the dataframe\n",
    "main_currency.to_csv('distance_driven.csv')"
   ]
  },
  {
   "cell_type": "markdown",
   "metadata": {
    "cell_id": "00254-ce906081-7292-4f87-b3e2-45d8e5d533de",
    "deepnote_cell_height": 74.796875,
    "deepnote_cell_type": "markdown"
   },
   "source": [
    "We now use a random forest to get a list of the most important variables when it comes to distance travelled (km driven)"
   ]
  },
  {
   "cell_type": "code",
   "execution_count": 146,
   "metadata": {
    "cell_id": "00255-ef091fbd-ecd3-45a0-b970-6417cd7ee68f",
    "deepnote_cell_height": 676.796875,
    "deepnote_cell_type": "code",
    "deepnote_to_be_reexecuted": false,
    "execution_millis": 5736,
    "execution_start": 1652633116143,
    "source_hash": "f761144a"
   },
   "outputs": [
    {
     "name": "stderr",
     "output_type": "stream",
     "text": [
      "C:\\Users\\rmnev\\AppData\\Local\\Temp\\ipykernel_17008\\3321535179.py:6: DtypeWarning: Columns (14) have mixed types. Specify dtype option on import or set low_memory=False.\n",
      "  df = pd.read_csv(dataset_files[dataset]['filename'])\n",
      "C:\\Users\\rmnev\\AppData\\Local\\Temp\\ipykernel_17008\\3321535179.py:14: DtypeWarning: Columns (14) have mixed types. Specify dtype option on import or set low_memory=False.\n",
      "  df = pd.read_csv(dataset_files[dataset]['filename'])\n"
     ]
    }
   ],
   "source": [
    "def load_data(dataset):\n",
    " \n",
    "    dataset_files = {\n",
    "        'distance_driven': {'filename': 'distance_driven.csv', 'target': 'km driven'}  # classification, https://www.kaggle.com/rounakbanik/pokemon\n",
    "    }\n",
    "    df = pd.read_csv(dataset_files[dataset]['filename'])\n",
    "    y = df[dataset_files[dataset]['target']].values\n",
    "    df.drop(columns=dataset_files[dataset]['target'], inplace=True)\n",
    "   # if dataset in dataset_call.keys():\n",
    "       # data = dataset_call[dataset]()\n",
    "       # y = data.target\n",
    "       # df = pd.DataFrame(data.data, columns=data.feature_names)\n",
    "   # else:\n",
    "    df = pd.read_csv(dataset_files[dataset]['filename'])\n",
    "    y = df[dataset_files[dataset]['target']].values\n",
    "    df.drop(columns=dataset_files[dataset]['target'], inplace=True)\n",
    "               \n",
    "    X_train, X_valid, y_train, y_valid = train_test_split(df, y, test_size=0.2, random_state=42)\n",
    "    out_dict = {\n",
    "        'y': y,\n",
    "        'df': df,\n",
    "        'x_train': X_train,\n",
    "        'x_valid': X_valid,\n",
    "        'y_train': y_train,\n",
    "        'y_valid': y_valid\n",
    "    }\n",
    "    return out_dict\n",
    "    \n",
    "ds = {}\n",
    "for d in ['distance_driven']:\n",
    "    ds[d] = load_data(d)"
   ]
  },
  {
   "cell_type": "code",
   "execution_count": 147,
   "metadata": {
    "cell_id": "00256-898b992e-bb35-4c0d-8b19-120a47bdd20e",
    "deepnote_cell_height": 835,
    "deepnote_cell_type": "code",
    "deepnote_output_heights": [
     null,
     178
    ],
    "deepnote_to_be_reexecuted": false,
    "execution_millis": 374572,
    "execution_start": 1652633121880,
    "source_hash": "e12aedaa"
   },
   "outputs": [
    {
     "name": "stdout",
     "output_type": "stream",
     "text": [
      "                Features   Importances\n",
      "2  cost_per_gallon_float  4.748349e-07\n",
      "0             Unnamed: 0  5.186764e-07\n",
      "1      total_spent_float  1.517637e-06\n",
      "3          litres filled  4.550378e-01\n",
      "4      litres per 100 km  5.449596e-01\n"
     ]
    },
    {
     "data": {
      "image/png": "[encoded data removed]",
      "text/plain": [
       "<Figure size 720x360 with 1 Axes>"
      ]
     },
     "metadata": {},
     "output_type": "display_data"
    }
   ],
   "source": [
    "# create the random forest with your hyperparameters.\n",
    "\n",
    "d = 'distance_driven'\n",
    "# drop the columns that are not numerical for this:\n",
    "# numerics = ['int16','int32','int64','float16','float32','float64']\n",
    "# numerical_vars = list(data.select_dtypes(include=numerics).columns)\n",
    "# data = data[numerical_vars]\n",
    "ds[d]['x_train'].fillna(1, inplace=True)  # note, the weight has some nans in it\n",
    "x_train = ds[d]['x_train'].drop(columns=['date_fueled', 'date_captured', 'odometer', 'gallons', 'cost_per_gallon', 'total_spent', 'mpg',\n",
    "                                        'miles','user_url','Car make','model','year','User ID','currency'])\n",
    "\n",
    "model = RandomForestRegressor(n_estimators=250, random_state=42, max_depth=10)\n",
    "# fit the model to start training.\n",
    "model.fit(x_train, ds[d]['y_train'])\n",
    "# get the importance of the resulting features.\n",
    "importances = model.feature_importances_\n",
    "# create a data frame for visualization.\n",
    "final_df = pd.DataFrame({ \"Features\": pd.DataFrame(x_train).columns, \"Importances\": importances})\n",
    "final_df.set_index('Importances')\n",
    "# sort in ascending order to better visualization.\n",
    "final_df = final_df.sort_values('Importances')\n",
    "# plot the feature importances in bars.\n",
    "final_df.plot.bar(color='teal', x='Features')\n",
    "print(final_df)"
   ]
  },
  {
   "cell_type": "markdown",
   "metadata": {
    "cell_id": "00257-943fc233-aed0-4358-8b25-288f546fc825",
    "deepnote_cell_height": 142,
    "deepnote_cell_type": "markdown"
   },
   "source": [
    "From the results using the Random Forest Classifier, we can see that most important features when it comes the distance driven are litres per 100 km (Fuel efficiency) and litres filled. Litres filled is how many litres the user they refueled with and litres per 100 km is the computed fuel efficiency. On the correlation heatmap we can still see\n",
    "that fuel efficiency and litres filled were the two features that were mostly correlated with distance driven (km driven).\n"
   ]
  },
  {
   "cell_type": "markdown",
   "metadata": {
    "cell_id": "00258-bee9f5e5-88e5-4ee5-8e7c-ccd953a9b88f",
    "deepnote_cell_height": 70,
    "deepnote_cell_type": "markdown"
   },
   "source": [
    "## 4.3 Fuel usage in SA"
   ]
  },
  {
   "cell_type": "markdown",
   "metadata": {
    "cell_id": "00259-2e59eafd-fe4a-4508-84b9-a4a0978b7524",
    "deepnote_cell_height": 52.390625,
    "deepnote_cell_type": "markdown"
   },
   "source": [
    "We filter to data focus on SA drivers by using the Rand dataset."
   ]
  },
  {
   "cell_type": "code",
   "execution_count": 148,
   "metadata": {
    "cell_id": "00260-683da3f4-cbb4-44c8-9580-f6af5e4d9a25",
    "deepnote_cell_height": 429.796875,
    "deepnote_cell_type": "code",
    "deepnote_to_be_reexecuted": false,
    "execution_millis": 51,
    "execution_start": 1652633496451,
    "source_hash": "8301a0f9"
   },
   "outputs": [
    {
     "data": {
      "text/html": [
       "<div>\n",
       "<style scoped>\n",
       "    .dataframe tbody tr th:only-of-type {\n",
       "        vertical-align: middle;\n",
       "    }\n",
       "\n",
       "    .dataframe tbody tr th {\n",
       "        vertical-align: top;\n",
       "    }\n",
       "\n",
       "    .dataframe thead th {\n",
       "        text-align: right;\n",
       "    }\n",
       "</style>\n",
       "<table border=\"1\" class=\"dataframe\">\n",
       "  <thead>\n",
       "    <tr style=\"text-align: right;\">\n",
       "      <th></th>\n",
       "      <th>date_fueled</th>\n",
       "      <th>date_captured</th>\n",
       "      <th>odometer</th>\n",
       "      <th>gallons</th>\n",
       "      <th>cost_per_gallon</th>\n",
       "      <th>total_spent</th>\n",
       "      <th>mpg</th>\n",
       "      <th>miles</th>\n",
       "      <th>user_url</th>\n",
       "      <th>total_spent_float</th>\n",
       "      <th>cost_per_gallon_float</th>\n",
       "      <th>Car make</th>\n",
       "      <th>model</th>\n",
       "      <th>year</th>\n",
       "      <th>User ID</th>\n",
       "      <th>litres filled</th>\n",
       "      <th>km driven</th>\n",
       "      <th>litres per 100 km</th>\n",
       "      <th>currency</th>\n",
       "    </tr>\n",
       "  </thead>\n",
       "  <tbody>\n",
       "    <tr>\n",
       "      <th>757619</th>\n",
       "      <td>2008-07-22</td>\n",
       "      <td>Jun 5 2012</td>\n",
       "      <td>5,422</td>\n",
       "      <td>5.565</td>\n",
       "      <td>R39.75</td>\n",
       "      <td>R221.19</td>\n",
       "      <td>33.400002</td>\n",
       "      <td>185.871017</td>\n",
       "      <td>https://www.somewebsite.com/suzuki/st90v/1983/...</td>\n",
       "      <td>221.190002</td>\n",
       "      <td>39.750000</td>\n",
       "      <td>suzuki</td>\n",
       "      <td>st90v</td>\n",
       "      <td>1983</td>\n",
       "      <td>132066</td>\n",
       "      <td>21.063526</td>\n",
       "      <td>299.066467</td>\n",
       "      <td>7.042365</td>\n",
       "      <td>R.</td>\n",
       "    </tr>\n",
       "    <tr>\n",
       "      <th>678891</th>\n",
       "      <td>2008-09-20</td>\n",
       "      <td>Jun 26 2009</td>\n",
       "      <td>6,273</td>\n",
       "      <td>8.065</td>\n",
       "      <td>R35.66</td>\n",
       "      <td>R287.59</td>\n",
       "      <td>38.500000</td>\n",
       "      <td>310.502472</td>\n",
       "      <td>https://www.somewebsite.com/hyundai/atos/2008/...</td>\n",
       "      <td>287.589996</td>\n",
       "      <td>35.660000</td>\n",
       "      <td>hyundai</td>\n",
       "      <td>atos</td>\n",
       "      <td>2008</td>\n",
       "      <td>21520</td>\n",
       "      <td>30.526024</td>\n",
       "      <td>499.598480</td>\n",
       "      <td>6.109480</td>\n",
       "      <td>R.</td>\n",
       "    </tr>\n",
       "    <tr>\n",
       "      <th>847828</th>\n",
       "      <td>2010-05-14</td>\n",
       "      <td>Aug 11 2011</td>\n",
       "      <td>72,546</td>\n",
       "      <td>7.981</td>\n",
       "      <td>R32.33</td>\n",
       "      <td>R258.00</td>\n",
       "      <td>40.599998</td>\n",
       "      <td>324.028595</td>\n",
       "      <td>https://www.somewebsite.com/hyundai/atos/2005/...</td>\n",
       "      <td>258.000000</td>\n",
       "      <td>32.330002</td>\n",
       "      <td>hyundai</td>\n",
       "      <td>atos</td>\n",
       "      <td>2005</td>\n",
       "      <td>85279</td>\n",
       "      <td>30.208086</td>\n",
       "      <td>521.362000</td>\n",
       "      <td>5.793473</td>\n",
       "      <td>R.</td>\n",
       "    </tr>\n",
       "    <tr>\n",
       "      <th>267532</th>\n",
       "      <td>2010-05-16</td>\n",
       "      <td>May 26 2010</td>\n",
       "      <td>62,182</td>\n",
       "      <td>11.456</td>\n",
       "      <td>R32.10</td>\n",
       "      <td>R367.74</td>\n",
       "      <td>24.400000</td>\n",
       "      <td>279.526398</td>\n",
       "      <td>https://www.somewebsite.com/volkswagen/fox/199...</td>\n",
       "      <td>367.739990</td>\n",
       "      <td>32.099998</td>\n",
       "      <td>volkswagen</td>\n",
       "      <td>fox</td>\n",
       "      <td>1994</td>\n",
       "      <td>27767</td>\n",
       "      <td>43.360962</td>\n",
       "      <td>449.757965</td>\n",
       "      <td>9.639959</td>\n",
       "      <td>R.</td>\n",
       "    </tr>\n",
       "    <tr>\n",
       "      <th>817542</th>\n",
       "      <td>2010-05-19</td>\n",
       "      <td>Dec 28 2010</td>\n",
       "      <td>96,429</td>\n",
       "      <td>7.241</td>\n",
       "      <td>R32.29</td>\n",
       "      <td>R233.81</td>\n",
       "      <td>31.400000</td>\n",
       "      <td>227.367401</td>\n",
       "      <td>https://www.somewebsite.com/audi/a3/2002/56121</td>\n",
       "      <td>233.809998</td>\n",
       "      <td>32.290001</td>\n",
       "      <td>audi</td>\n",
       "      <td>a3</td>\n",
       "      <td>2002</td>\n",
       "      <td>56121</td>\n",
       "      <td>27.407187</td>\n",
       "      <td>365.834137</td>\n",
       "      <td>7.490923</td>\n",
       "      <td>R.</td>\n",
       "    </tr>\n",
       "  </tbody>\n",
       "</table>\n",
       "</div>"
      ],
      "text/plain": [
       "       date_fueled date_captured odometer  gallons cost_per_gallon  \\\n",
       "757619  2008-07-22    Jun 5 2012   5,422     5.565          R39.75   \n",
       "678891  2008-09-20   Jun 26 2009   6,273     8.065          R35.66   \n",
       "847828  2010-05-14   Aug 11 2011  72,546     7.981          R32.33   \n",
       "267532  2010-05-16   May 26 2010  62,182    11.456          R32.10   \n",
       "817542  2010-05-19   Dec 28 2010  96,429     7.241          R32.29   \n",
       "\n",
       "       total_spent        mpg       miles  \\\n",
       "757619     R221.19  33.400002  185.871017   \n",
       "678891     R287.59  38.500000  310.502472   \n",
       "847828     R258.00  40.599998  324.028595   \n",
       "267532     R367.74  24.400000  279.526398   \n",
       "817542     R233.81  31.400000  227.367401   \n",
       "\n",
       "                                                 user_url  total_spent_float  \\\n",
       "757619  https://www.somewebsite.com/suzuki/st90v/1983/...         221.190002   \n",
       "678891  https://www.somewebsite.com/hyundai/atos/2008/...         287.589996   \n",
       "847828  https://www.somewebsite.com/hyundai/atos/2005/...         258.000000   \n",
       "267532  https://www.somewebsite.com/volkswagen/fox/199...         367.739990   \n",
       "817542     https://www.somewebsite.com/audi/a3/2002/56121         233.809998   \n",
       "\n",
       "        cost_per_gallon_float    Car make  model  year User ID  litres filled  \\\n",
       "757619              39.750000      suzuki  st90v  1983  132066      21.063526   \n",
       "678891              35.660000     hyundai   atos  2008   21520      30.526024   \n",
       "847828              32.330002     hyundai   atos  2005   85279      30.208086   \n",
       "267532              32.099998  volkswagen    fox  1994   27767      43.360962   \n",
       "817542              32.290001        audi     a3  2002   56121      27.407187   \n",
       "\n",
       "         km driven  litres per 100 km currency  \n",
       "757619  299.066467           7.042365       R.  \n",
       "678891  499.598480           6.109480       R.  \n",
       "847828  521.362000           5.793473       R.  \n",
       "267532  449.757965           9.639959       R.  \n",
       "817542  365.834137           7.490923       R.  "
      ]
     },
     "execution_count": 148,
     "metadata": {},
     "output_type": "execute_result"
    }
   ],
   "source": [
    "#SA drivers\n",
    "rand.head()"
   ]
  },
  {
   "cell_type": "markdown",
   "metadata": {
    "cell_id": "00261-7d8ce103-1f66-43f2-83e6-f23e8e8806e9",
    "deepnote_cell_height": 52.390625,
    "deepnote_cell_type": "markdown"
   },
   "source": [
    "The dataset is filtered to focus on SA drivers"
   ]
  },
  {
   "cell_type": "markdown",
   "metadata": {
    "cell_id": "00262-4c81527f-dd18-4d62-b823-01be385ad596",
    "deepnote_cell_height": 52.390625,
    "deepnote_cell_type": "markdown"
   },
   "source": [
    "We create the cost per litre column for the rand"
   ]
  },
  {
   "cell_type": "code",
   "execution_count": 149,
   "metadata": {
    "cell_id": "00263-6af4f38f-e842-4ab2-8f2f-a87f608faa03",
    "deepnote_cell_height": 117,
    "deepnote_cell_type": "code",
    "deepnote_to_be_reexecuted": false,
    "execution_millis": 5297671,
    "execution_start": 1652633496550,
    "source_hash": "4c8fc943"
   },
   "outputs": [],
   "source": [
    "#create cost per litre column for SA\n",
    "#converting to cost per litre\n",
    "rand['cost_per_litre'] = rand['cost_per_gallon_float']/3.78541"
   ]
  },
  {
   "cell_type": "markdown",
   "metadata": {
    "cell_id": "00264-8560b517-33ff-4228-b0ee-88ae272cbf9f",
    "deepnote_cell_height": 62,
    "deepnote_cell_type": "markdown"
   },
   "source": [
    "### Plotting the fuel prices over time for SA"
   ]
  },
  {
   "cell_type": "code",
   "execution_count": 150,
   "metadata": {
    "cell_id": "00265-744e15e6-6a74-4a61-b2ef-d8df34da48fc",
    "deepnote_cell_height": 825.1875,
    "deepnote_cell_type": "code",
    "deepnote_output_heights": [
     213.1875,
     358
    ],
    "deepnote_to_be_reexecuted": false,
    "execution_millis": 40823,
    "execution_start": 1652633496551,
    "source_hash": "d2b25096"
   },
   "outputs": [
    {
     "data": {
      "text/plain": [
       "(array([13149., 13879., 14610., 15340., 16071., 16801., 17532., 18262.,\n",
       "        18993.]),\n",
       " [Text(0, 0, ''),\n",
       "  Text(0, 0, ''),\n",
       "  Text(0, 0, ''),\n",
       "  Text(0, 0, ''),\n",
       "  Text(0, 0, ''),\n",
       "  Text(0, 0, ''),\n",
       "  Text(0, 0, ''),\n",
       "  Text(0, 0, ''),\n",
       "  Text(0, 0, '')])"
      ]
     },
     "execution_count": 150,
     "metadata": {},
     "output_type": "execute_result"
    },
    {
     "data": {
      "image/png": "[encoded data removed]",
      "text/plain": [
       "<Figure size 720x360 with 1 Axes>"
      ]
     },
     "metadata": {},
     "output_type": "display_data"
    }
   ],
   "source": [
    "plt.figure(figsize=(10, 5))\n",
    "plot_distrubution_x = rand['date_fueled']\n",
    "plot_distribution_y = rand['cost_per_litre']\n",
    "plt.bar(plot_distrubution_x,plot_distribution_y,edgecolor='red')\n",
    "plt.title(\"Fuel prices over time for SA\")\n",
    "plt.xlabel('year')\n",
    "plt.ylabel('cost per litre')\n",
    "plt.xticks(rotation=90)"
   ]
  },
  {
   "cell_type": "markdown",
   "metadata": {
    "cell_id": "00266-4a5fd3c4-dcbe-4f2e-b49a-23349951bd95",
    "deepnote_cell_height": 52.390625,
    "deepnote_cell_type": "markdown"
   },
   "source": [
    "We add an indicator column (day_of_week) to show the day of the week that the transaction happened"
   ]
  },
  {
   "cell_type": "code",
   "execution_count": 151,
   "metadata": {
    "cell_id": "00267-fb817d3e-d557-4f5c-be07-5287a04122de",
    "deepnote_cell_height": 99,
    "deepnote_cell_type": "code",
    "deepnote_to_be_reexecuted": false,
    "execution_millis": 10,
    "execution_start": 1652633537380,
    "source_hash": "2c7b3e"
   },
   "outputs": [],
   "source": [
    "# add indicator column\n",
    "rand['day_of_week'] = rand['date_fueled'].dt.day_name()"
   ]
  },
  {
   "cell_type": "code",
   "execution_count": 152,
   "metadata": {
    "cell_id": "00268-deab6b66-d5a0-4a44-87cb-22ca58b4b9bd",
    "deepnote_cell_height": 214.125,
    "deepnote_cell_type": "code",
    "deepnote_to_be_reexecuted": false,
    "execution_millis": 2,
    "execution_start": 1652633537435,
    "source_hash": "36f40559"
   },
   "outputs": [
    {
     "data": {
      "text/plain": [
       "757619      Tuesday\n",
       "678891     Saturday\n",
       "847828       Friday\n",
       "267532       Sunday\n",
       "817542    Wednesday\n",
       "Name: day_of_week, dtype: object"
      ]
     },
     "execution_count": 152,
     "metadata": {},
     "output_type": "execute_result"
    }
   ],
   "source": [
    "rand['day_of_week'].head()"
   ]
  },
  {
   "cell_type": "code",
   "execution_count": 153,
   "metadata": {
    "cell_id": "00269-45350c61-43f2-4fbf-94fe-a271d2af737d",
    "deepnote_cell_height": 473.1875,
    "deepnote_cell_type": "code",
    "deepnote_output_heights": [
     null,
     324
    ],
    "deepnote_to_be_reexecuted": false,
    "execution_millis": 152910,
    "execution_start": 1652633537435,
    "source_hash": "e6252bd8"
   },
   "outputs": [
    {
     "data": {
      "text/plain": [
       "<AxesSubplot:xlabel='date_fueled', ylabel='cost_per_litre'>"
      ]
     },
     "execution_count": 153,
     "metadata": {},
     "output_type": "execute_result"
    },
    {
     "data": {
      "image/png": "[encoded data removed]",
      "text/plain": [
       "<Figure size 720x360 with 1 Axes>"
      ]
     },
     "metadata": {},
     "output_type": "display_data"
    }
   ],
   "source": [
    "sns.lineplot(x = 'date_fueled', y = 'cost_per_litre', data = rand, hue= 'day_of_week', ci=False, markers=True)"
   ]
  },
  {
   "cell_type": "markdown",
   "metadata": {
    "cell_id": "00270-1c7cd125-b71b-4b7d-92ac-58a03d328f6f",
    "deepnote_cell_height": 74.796875,
    "deepnote_cell_type": "markdown"
   },
   "source": [
    "From the plot we can see that there is a slight difference between people refuelling on a Tuesday vs other\n",
    "days."
   ]
  },
  {
   "cell_type": "markdown",
   "metadata": {
    "cell_id": "00271-1748f34e-6d69-43b4-b9ed-9dd1ac897489",
    "deepnote_cell_height": 52.390625,
    "deepnote_cell_type": "markdown"
   },
   "source": [
    "We now reduce our dataset to only the entries on Tuesday and Wednesday in SA every\n",
    "month."
   ]
  },
  {
   "cell_type": "code",
   "execution_count": 154,
   "metadata": {
    "cell_id": "00272-a55c37ed-e749-46ae-aee0-cedb39c51865",
    "deepnote_cell_height": 135,
    "deepnote_cell_type": "code",
    "deepnote_to_be_reexecuted": false,
    "execution_millis": 0,
    "execution_start": 1652633690422,
    "source_hash": "4afc3f64"
   },
   "outputs": [],
   "source": [
    "#first reduce the dataset to wednesdays and tuesdays\n",
    "df_tuesday = rand[rand['day_of_week'] == 'Tuesday']\n",
    "df_wednesday = rand[rand['day_of_week'] == 'Wednesday']\n",
    "df_refueling_day = pd.concat([df_tuesday,df_wednesday])"
   ]
  },
  {
   "cell_type": "code",
   "execution_count": 155,
   "metadata": {
    "cell_id": "00273-b4ed7001-7ea6-4e41-a294-bbf3e720d229",
    "deepnote_cell_height": 473.1875,
    "deepnote_cell_type": "code",
    "deepnote_output_heights": [
     null,
     324
    ],
    "deepnote_to_be_reexecuted": false,
    "execution_millis": 44759,
    "execution_start": 1652633690423,
    "source_hash": "45e7344f"
   },
   "outputs": [
    {
     "data": {
      "text/plain": [
       "<AxesSubplot:xlabel='date_fueled', ylabel='cost_per_litre'>"
      ]
     },
     "execution_count": 155,
     "metadata": {},
     "output_type": "execute_result"
    },
    {
     "data": {
      "image/png": "[encoded data removed]",
      "text/plain": [
       "<Figure size 720x360 with 1 Axes>"
      ]
     },
     "metadata": {},
     "output_type": "display_data"
    }
   ],
   "source": [
    "sns.lineplot(x = 'date_fueled', y = 'cost_per_litre', data = df_refueling_day,  hue= 'day_of_week', ci=False, markers=True)"
   ]
  },
  {
   "cell_type": "markdown",
   "metadata": {
    "cell_id": "00274-8d0d12c4-120d-4c7c-bbb1-13e5c58e190d",
    "deepnote_cell_height": 74.796875,
    "deepnote_cell_type": "markdown"
   },
   "source": [
    "More people refuel on the first Wednesday of the month when the prices goes down and\n",
    "more people refuel on the first Tuesday of the month when the prices goes up."
   ]
  },
  {
   "cell_type": "code",
   "execution_count": 156,
   "metadata": {
    "cell_id": "00275-8a264bb6-8bed-4a2b-a155-a9b712cad302",
    "deepnote_cell_height": 81,
    "deepnote_cell_type": "code",
    "deepnote_to_be_reexecuted": false,
    "execution_millis": 1,
    "execution_start": 1652634154639,
    "owner_user_id": "66156d6d-650d-4ae5-852f-c65ddc31c304",
    "source_hash": "5ce2d4bd"
   },
   "outputs": [],
   "source": [
    "#Ends"
   ]
  },
  {
   "cell_type": "markdown",
   "metadata": {
    "created_in_deepnote_cell": true,
    "deepnote_cell_type": "markdown",
    "tags": []
   },
   "source": [
    "<a style='text-decoration:none;line-height:16px;display:flex;color:#5B5B62;padding:10px;justify-content:end;' href='https://deepnote.com?utm_source=created-in-deepnote-cell&projectId=f6f563f8-6fb8-43b8-80d9-89413cdb5a31' target=\"_blank\">\n",
    "<img alt='Created in deepnote.com' style='display:inline;max-height:16px;margin:0px;margin-right:7.5px;' src='data:image/svg+xml;base64,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' > </img>\n",
    "Created in <span style='font-weight:600;margin-left:4px;'>Deepnote</span></a>"
   ]
  }
 ],
 "metadata": {
  "deepnote": {},
  "deepnote_execution_queue": [],
  "deepnote_notebook_id": "f2f8d0a5-b8d4-4be3-b749-f2ad15b9ee53",
  "kernelspec": {
   "display_name": "Python 3 (ipykernel)",
   "language": "python",
   "name": "python3"
  },
  "language_info": {
   "codemirror_mode": {
    "name": "ipython",
    "version": 3
   },
   "file_extension": ".py",
   "mimetype": "text/x-python",
   "name": "python",
   "nbconvert_exporter": "python",
   "pygments_lexer": "ipython3",
   "version": "3.9.13"
  }
 },
 "nbformat": 4,
 "nbformat_minor": 2
}
